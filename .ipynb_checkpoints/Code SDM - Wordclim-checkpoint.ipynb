{
 "cells": [
  {
   "cell_type": "markdown",
   "metadata": {},
   "source": [
    "# Modèles de distributions d'espèces - Cas des forets urbaines à Montreal\n",
    "\n",
    "## 1 - Introduction \n",
    "Le but de ce projet est de trouver un moyen de prédire efficacement la distribution des différentes espèces d'arbres à travers la région de Montreal, ce qui permetterait aux aménagistes forestiers de s'assurer que les espèces plantées survivent au changement climatique de la région. Ce projet se concentre particulièrement sur les **forets urbaines**.\n",
    "\n",
    "Il sera alors question dans ce notebook de fournir le code capable de créer un **modèle de distribution d'espèces (SDM)** en utilisant des algorithmes **d'apprentissage automatique (Machine Learning)** avec le langage **R**.\n",
    "\n",
    "## 2 - Collecte et traitement des données \n",
    "Pour créer un modèle de distribution d'espèces, on aura besoin de deux types de données : \n",
    "* **Les données d'occurrence :** Ces données relatent l'observation d'une espèce à une localisation (et/ou une date) précise. Ces données peuvent décrire le nombre d'une espèce dans chaque zone, on parlera alors de données *d'abondance*, sinon elles peuvent aussi seulement décrire la *présence et l'absence confirmée* d'une espèce dans la zone. Généralement, même les données contenant des absences confirmées sont rares car elles sont difficiles à produire. Nous trouverons alors plutôt des données *de présence seulement (presence-only data)*, et c'est cela que l'on va utiliser dans ce projet.\n",
    "\n",
    "\n",
    "* **Les données environnementales :** Ces données relatent le climat d'une région donnée en le décrivant avec plusieurs variables environnementales (température annuelle minimale, précipitation maximale par saison...etc.). Ces données séparent généralement la région en plusieurs cellules à la manière d'une grille où chaque cellule contient des valeurs environnementales différentes. \n",
    "\n",
    "### 2.1 - Données d'occurrence :\n",
    "Les données d'occurrence utilisées ici seront les données d'arbres publics à Montreal (voir ce lien : https://donnees.montreal.ca/ville-de-montreal/arbres (Consulté le 03/04/2021)). "
   ]
  },
  {
   "cell_type": "code",
   "execution_count": 1,
   "metadata": {},
   "outputs": [],
   "source": [
    "# Décommenter cette ligne pour installer le package BlockCV (introuvable sur Anaconda)\n",
    "# install.packages('blockCV')"
   ]
  },
  {
   "cell_type": "code",
   "execution_count": 2,
   "metadata": {},
   "outputs": [
    {
     "name": "stderr",
     "output_type": "stream",
     "text": [
      "Registered S3 methods overwritten by 'ggplot2':\n",
      "  method         from \n",
      "  [.quosures     rlang\n",
      "  c.quosures     rlang\n",
      "  print.quosures rlang\n",
      "Registered S3 method overwritten by 'rvest':\n",
      "  method            from\n",
      "  read_xml.response xml2\n",
      "-- Attaching packages --------------------------------------- tidyverse 1.2.1 --\n",
      "v ggplot2 3.1.1       v purrr   0.3.2  \n",
      "v tibble  2.1.1       v dplyr   0.8.0.1\n",
      "v tidyr   0.8.3       v stringr 1.4.0  \n",
      "v readr   1.3.1       v forcats 0.4.0  \n",
      "-- Conflicts ------------------------------------------ tidyverse_conflicts() --\n",
      "x dplyr::filter() masks stats::filter()\n",
      "x dplyr::lag()    masks stats::lag()\n",
      "\n",
      "Attaching package: 'raster'\n",
      "\n",
      "The following object is masked from 'package:dplyr':\n",
      "\n",
      "    select\n",
      "\n",
      "The following object is masked from 'package:tidyr':\n",
      "\n",
      "    extract\n",
      "\n",
      "randomForest 4.6-14\n",
      "Type rfNews() to see new features/changes/bug fixes.\n",
      "\n",
      "Attaching package: 'randomForest'\n",
      "\n",
      "The following object is masked from 'package:dplyr':\n",
      "\n",
      "    combine\n",
      "\n",
      "The following object is masked from 'package:ggplot2':\n",
      "\n",
      "    margin\n",
      "\n",
      "rgdal: version: 1.4-4, (SVN revision 833)\n",
      " Geospatial Data Abstraction Library extensions to R successfully loaded\n",
      " Loaded GDAL runtime: GDAL 2.2.3, released 2017/11/20\n",
      " Path to GDAL shared files: C:/Users/gaming/anaconda3/envs/r_env/Lib/R/library/rgdal/gdal\n",
      " GDAL binary built with GEOS: TRUE \n",
      " Loaded PROJ.4 runtime: Rel. 4.9.3, 15 August 2016, [PJ_VERSION: 493]\n",
      " Path to PROJ.4 shared files: C:/Users/gaming/anaconda3/envs/r_env/Lib/R/library/rgdal/proj\n",
      " Linking to sp version: 1.3-1 \n",
      "Loading required package: lattice\n",
      "\n",
      "Attaching package: 'caret'\n",
      "\n",
      "The following object is masked from 'package:purrr':\n",
      "\n",
      "    lift\n",
      "\n",
      "rgeos version: 0.5-1, (SVN revision 614)\n",
      " GEOS runtime version: 3.6.1-CAPI-1.10.1 \n",
      " Linking to sp version: 1.3-1 \n",
      " Polygon checking: TRUE \n",
      "\n",
      "Warning message:\n",
      "\"package 'blockCV' was built under R version 3.6.3\"Loading required package: gplots\n",
      "\n",
      "Attaching package: 'gplots'\n",
      "\n",
      "The following object is masked from 'package:stats':\n",
      "\n",
      "    lowess\n",
      "\n",
      "corrplot 0.84 loaded\n"
     ]
    }
   ],
   "source": [
    "# Importer les bibliothèques nécessaires \n",
    "\n",
    "# Tidyverse : une bibliothèque populaire de manipulation de données\n",
    "# Elle contient plusieurs autres packages telles que dplyr, readr, ggplot...etc.\n",
    "library('tidyverse')\n",
    "\n",
    "# Sp : Fournit des classes et des méthodes permettant de représenter et manipuler les données géospatiales\n",
    "library('sp')\n",
    "\n",
    "# Raster : Api haut niveau permettant la lecture / la manipulation des données raster et vecteurs\n",
    "library('raster')\n",
    "\n",
    "# RandomForest : Permet la création d'un modèle Random Forest\n",
    "library('randomForest')\n",
    "\n",
    "# RGDAL : Implementation Haut niveau de la bibliothèque publique GDAL\n",
    "library('rgdal')\n",
    "\n",
    "# Caret : Bibliothèque d'évalation des modèles de Machine Learning\n",
    "library('caret')\n",
    "\n",
    "# Conflicted : Affiche les conflits entre les packages si il y en a (lors de l'appel d'une fonction par exemple)\n",
    "library('conflicted')\n",
    "\n",
    "# Rgeos : Est utilisée ici pour créer des polygones utiles à la génération de données de pseudo-absence\n",
    "library('rgeos')\n",
    "\n",
    "# BlockCV : Permet la séparation des données de test/entrainement en utilsant la Block Cross Validation\n",
    "library('blockCV')\n",
    "\n",
    "# Dismo : Bibliothèque très populaire permettant d'implémenter des fonctions et des modèles associés aux SDMs\n",
    "library('dismo')\n",
    "\n",
    "# ROCR : Bibliothèque de génération des courbes ROC\n",
    "library('ROCR')\n",
    "\n",
    "# Corrplot : Afficher les matrices de corrélation\n",
    "library('corrplot')\n",
    "\n",
    "# Options de visualisation de dataframes : limiter le nombre de lignes et afficher un maximum de colonnes\n",
    "options(repr.matrix.max.cols=50, repr.matrix.max.rows=20)"
   ]
  },
  {
   "cell_type": "code",
   "execution_count": 3,
   "metadata": {},
   "outputs": [
    {
     "name": "stderr",
     "output_type": "stream",
     "text": [
      "Parsed with column specification:\n",
      "cols(\n",
      "  .default = col_character(),\n",
      "  EMP_NO = col_double(),\n",
      "  ARROND = col_double(),\n",
      "  Rue = col_logical(),\n",
      "  COTE = col_logical(),\n",
      "  No_civique = col_logical(),\n",
      "  Coord_X = col_double(),\n",
      "  Coord_Y = col_double(),\n",
      "  DHP = col_double(),\n",
      "  Date_releve = col_datetime(format = \"\"),\n",
      "  Date_plantation = col_datetime(format = \"\"),\n",
      "  LOCALISATION = col_logical(),\n",
      "  Longitude = col_double(),\n",
      "  Latitude = col_double()\n",
      ")\n",
      "See spec(...) for full column specifications.\n",
      "Warning message:\n",
      "\"819326 parsing failures.\n",
      "  row          col           expected                                           actual                        file\n",
      "99669 Rue          1/0/T/F/TRUE/FALSE Avenue AdhÃ©mar-Mailhiot                         './data/arbres-publics.csv'\n",
      "99669 COTE         1/0/T/F/TRUE/FALSE E                                                './data/arbres-publics.csv'\n",
      "99669 No_civique   1/0/T/F/TRUE/FALSE 12323                                            './data/arbres-publics.csv'\n",
      "99669 LOCALISATION 1/0/T/F/TRUE/FALSE Devant le 12323, Ã  12 m du dÃ©but de la faÃ§ade './data/arbres-publics.csv'\n",
      "99670 Rue          1/0/T/F/TRUE/FALSE Avenue AdhÃ©mar-Mailhiot                         './data/arbres-publics.csv'\n",
      "..... ............ .................. ................................................ ...........................\n",
      "See problems(...) for more details.\n",
      "\""
     ]
    },
    {
     "data": {
      "text/plain": [
       "   INV_TYPE             EMP_NO           ARROND       ARROND_NOM       \n",
       " Length:318077      Min.   :     2   Min.   : 1.00   Length:318077     \n",
       " Class :character   1st Qu.: 52512   1st Qu.: 3.00   Class :character  \n",
       " Mode  :character   Median :102232   Median : 7.00   Mode  :character  \n",
       "                    Mean   :119664   Mean   : 8.89                     \n",
       "                    3rd Qu.:179657   3rd Qu.:12.00                     \n",
       "                    Max.   :447625   Max.   :33.00                     \n",
       "                                                                       \n",
       "   Rue            COTE         No_civique      Emplacement       \n",
       " Mode:logical   Mode:logical   Mode :logical   Length:318077     \n",
       " NA's:318077    NA's:318077    FALSE:6876      Class :character  \n",
       "                               TRUE :95        Mode  :character  \n",
       "                               NA's :311106                      \n",
       "                                                                 \n",
       "                                                                 \n",
       "                                                                 \n",
       "    Coord_X           Coord_Y           SIGLE           Essence_latin     \n",
       " Min.   :   3007   Min.   :   5048   Length:318077      Length:318077     \n",
       " 1st Qu.: 293691   1st Qu.:5038387   Class :character   Class :character  \n",
       " Median : 297111   Median :5043560   Mode  :character   Mode  :character  \n",
       " Mean   : 295873   Mean   :5040844                                        \n",
       " 3rd Qu.: 299580   3rd Qu.:5047200                                        \n",
       " Max.   :5047578   Max.   :8030579                                        \n",
       "                   NA's   :4                                              \n",
       "  Essence_fr        ESSENCE_ANG             DHP       \n",
       " Length:318077      Length:318077      Min.   :  0.0  \n",
       " Class :character   Class :character   1st Qu.:  7.0  \n",
       " Mode  :character   Mode  :character   Median : 23.0  \n",
       "                                       Mean   : 27.5  \n",
       "                                       3rd Qu.: 41.0  \n",
       "                                       Max.   :591.0  \n",
       "                                       NA's   :672    \n",
       "  Date_releve                  Date_plantation               LOCALISATION  \n",
       " Min.   :0013-05-05 00:00:00   Min.   :0013-05-05 00:00:00   Mode:logical  \n",
       " 1st Qu.:2013-06-25 00:00:00   1st Qu.:1993-05-01 00:00:00   NA's:318077   \n",
       " Median :2016-11-12 00:00:00   Median :2007-12-31 00:00:00                 \n",
       " Mean   :2015-02-12 11:14:11   Mean   :2002-02-26 06:46:28                 \n",
       " 3rd Qu.:2018-08-16 00:00:00   3rd Qu.:2016-06-15 00:00:00                 \n",
       " Max.   :5017-05-05 00:00:00   Max.   :2021-02-22 00:00:00                 \n",
       " NA's   :672                   NA's   :167150                              \n",
       "  CODE_PARC           NOM_PARC           Longitude         Latitude       \n",
       " Length:318077      Length:318077      Min.   :-77.36   Min.   : 0.04566  \n",
       " Class :character   Class :character   1st Qu.:-73.64   1st Qu.:45.48524  \n",
       " Mode  :character   Mode  :character   Median :-73.60   Median :45.53187  \n",
       "                                       Mean   :-73.61   Mean   :45.50730  \n",
       "                                       3rd Qu.:-73.57   3rd Qu.:45.56468  \n",
       "                                       Max.   :-24.29   Max.   :72.35156  \n",
       "                                       NA's   :4        NA's   :4         "
      ]
     },
     "metadata": {},
     "output_type": "display_data"
    }
   ],
   "source": [
    "# Lecture du fichier CSV\n",
    "occurrence_data_raw <- read_csv('./data/arbres-publics.csv')\n",
    "\n",
    "# Affichage du résultat\n",
    "summary(occurrence_data_raw)"
   ]
  },
  {
   "cell_type": "markdown",
   "metadata": {},
   "source": [
    "Nous ne voulons garder que les informations les plus importantes. Ici ces informations sont l'espèce (le nom latin car il est plus précis), la Latitude, la Longitude et la valeur cible (la classe).\n",
    "\n",
    "On crée la classe nous-mêmes. Ici la classe sera l'attribut \"present\" qui représente la présence d'une espèce. Elle sera initialisée à 1 pour tous les enregistrements."
   ]
  },
  {
   "cell_type": "code",
   "execution_count": 4,
   "metadata": {},
   "outputs": [],
   "source": [
    "# Création de la classe \n",
    "occurrence_data_raw$Present <- 1\n",
    "\n",
    "# Selection des attributs pertinents\n",
    "occurrence_data <- occurrence_data_raw %>% dplyr::select('Essence_latin', 'Latitude', 'Longitude', 'Present')"
   ]
  },
  {
   "cell_type": "code",
   "execution_count": 5,
   "metadata": {},
   "outputs": [
    {
     "data": {
      "text/html": [
       "<table>\n",
       "<thead><tr><th scope=col>Essence_latin</th><th scope=col>Latitude</th><th scope=col>Longitude</th><th scope=col>Present</th></tr></thead>\n",
       "<tbody>\n",
       "\t<tr><td>Gleditsia triacanthos 'Skyline' </td><td>45.53515                        </td><td>-73.71551                       </td><td>1                               </td></tr>\n",
       "\t<tr><td>Gleditsia triacanthos 'Skyline' </td><td>45.53522                        </td><td>-73.71559                       </td><td>1                               </td></tr>\n",
       "\t<tr><td>Gymnocladus dioicus             </td><td>45.53511                        </td><td>-73.71566                       </td><td>1                               </td></tr>\n",
       "\t<tr><td>Fraxinus nigra 'Fall Gold'      </td><td>45.53562                        </td><td>-73.71530                       </td><td>1                               </td></tr>\n",
       "\t<tr><td>Quercus rubra                   </td><td>45.53560                        </td><td>-73.71560                       </td><td>1                               </td></tr>\n",
       "\t<tr><td>Quercus macrocarpa              </td><td>45.53582                        </td><td>-73.71571                       </td><td>1                               </td></tr>\n",
       "\t<tr><td>Acer saccharinum 'Montréal'     </td><td>45.53582                        </td><td>-73.71536                       </td><td>1                               </td></tr>\n",
       "\t<tr><td>Acer platanoides 'Emerald Queen'</td><td>45.53619                        </td><td>-73.71556                       </td><td>1                               </td></tr>\n",
       "\t<tr><td>Thuja occidentalis 'Nigra'      </td><td>45.53635                        </td><td>-73.71555                       </td><td>1                               </td></tr>\n",
       "\t<tr><td>Thuja occidentalis 'Nigra'      </td><td>45.53628                        </td><td>-73.71552                       </td><td>1                               </td></tr>\n",
       "\t<tr><td>...</td><td>...</td><td>...</td><td>...</td></tr>\n",
       "\t<tr><td>Gymnocladus dioicus</td><td>45.53093           </td><td>-73.66800          </td><td>1                  </td></tr>\n",
       "\t<tr><td>Gymnocladus dioicus</td><td>45.53103           </td><td>-73.66803          </td><td>1                  </td></tr>\n",
       "\t<tr><td>Gymnocladus dioicus</td><td>45.53122           </td><td>-73.66814          </td><td>1                  </td></tr>\n",
       "\t<tr><td>Gymnocladus dioicus</td><td>45.53131           </td><td>-73.66820          </td><td>1                  </td></tr>\n",
       "\t<tr><td>Gymnocladus dioicus</td><td>45.53138           </td><td>-73.66827          </td><td>1                  </td></tr>\n",
       "\t<tr><td>Ulmus americana    </td><td>45.63918           </td><td>-73.56036          </td><td>1                  </td></tr>\n",
       "\t<tr><td>Quercus macrocarpa </td><td>45.63918           </td><td>-73.56041          </td><td>1                  </td></tr>\n",
       "\t<tr><td>Ulmus americana    </td><td>45.63918           </td><td>-73.56033          </td><td>1                  </td></tr>\n",
       "\t<tr><td>Ulmus americana    </td><td>45.63918           </td><td>-73.56033          </td><td>1                  </td></tr>\n",
       "\t<tr><td>Ulmus americana    </td><td>45.63918           </td><td>-73.56029          </td><td>1                  </td></tr>\n",
       "</tbody>\n",
       "</table>\n"
      ],
      "text/latex": [
       "\\begin{tabular}{r|llll}\n",
       " Essence\\_latin & Latitude & Longitude & Present\\\\\n",
       "\\hline\n",
       "\t Gleditsia triacanthos 'Skyline'  & 45.53515                         & -73.71551                        & 1                               \\\\\n",
       "\t Gleditsia triacanthos 'Skyline'  & 45.53522                         & -73.71559                        & 1                               \\\\\n",
       "\t Gymnocladus dioicus              & 45.53511                         & -73.71566                        & 1                               \\\\\n",
       "\t Fraxinus nigra 'Fall Gold'       & 45.53562                         & -73.71530                        & 1                               \\\\\n",
       "\t Quercus rubra                    & 45.53560                         & -73.71560                        & 1                               \\\\\n",
       "\t Quercus macrocarpa               & 45.53582                         & -73.71571                        & 1                               \\\\\n",
       "\t Acer saccharinum 'Montréal'      & 45.53582                         & -73.71536                        & 1                               \\\\\n",
       "\t Acer platanoides 'Emerald Queen' & 45.53619                         & -73.71556                        & 1                               \\\\\n",
       "\t Thuja occidentalis 'Nigra'       & 45.53635                         & -73.71555                        & 1                               \\\\\n",
       "\t Thuja occidentalis 'Nigra'       & 45.53628                         & -73.71552                        & 1                               \\\\\n",
       "\t ... & ... & ... & ...\\\\\n",
       "\t Gymnocladus dioicus & 45.53093            & -73.66800           & 1                  \\\\\n",
       "\t Gymnocladus dioicus & 45.53103            & -73.66803           & 1                  \\\\\n",
       "\t Gymnocladus dioicus & 45.53122            & -73.66814           & 1                  \\\\\n",
       "\t Gymnocladus dioicus & 45.53131            & -73.66820           & 1                  \\\\\n",
       "\t Gymnocladus dioicus & 45.53138            & -73.66827           & 1                  \\\\\n",
       "\t Ulmus americana     & 45.63918            & -73.56036           & 1                  \\\\\n",
       "\t Quercus macrocarpa  & 45.63918            & -73.56041           & 1                  \\\\\n",
       "\t Ulmus americana     & 45.63918            & -73.56033           & 1                  \\\\\n",
       "\t Ulmus americana     & 45.63918            & -73.56033           & 1                  \\\\\n",
       "\t Ulmus americana     & 45.63918            & -73.56029           & 1                  \\\\\n",
       "\\end{tabular}\n"
      ],
      "text/markdown": [
       "\n",
       "| Essence_latin | Latitude | Longitude | Present |\n",
       "|---|---|---|---|\n",
       "| Gleditsia triacanthos 'Skyline'  | 45.53515                         | -73.71551                        | 1                                |\n",
       "| Gleditsia triacanthos 'Skyline'  | 45.53522                         | -73.71559                        | 1                                |\n",
       "| Gymnocladus dioicus              | 45.53511                         | -73.71566                        | 1                                |\n",
       "| Fraxinus nigra 'Fall Gold'       | 45.53562                         | -73.71530                        | 1                                |\n",
       "| Quercus rubra                    | 45.53560                         | -73.71560                        | 1                                |\n",
       "| Quercus macrocarpa               | 45.53582                         | -73.71571                        | 1                                |\n",
       "| Acer saccharinum 'Montréal'      | 45.53582                         | -73.71536                        | 1                                |\n",
       "| Acer platanoides 'Emerald Queen' | 45.53619                         | -73.71556                        | 1                                |\n",
       "| Thuja occidentalis 'Nigra'       | 45.53635                         | -73.71555                        | 1                                |\n",
       "| Thuja occidentalis 'Nigra'       | 45.53628                         | -73.71552                        | 1                                |\n",
       "| ... | ... | ... | ... |\n",
       "| Gymnocladus dioicus | 45.53093            | -73.66800           | 1                   |\n",
       "| Gymnocladus dioicus | 45.53103            | -73.66803           | 1                   |\n",
       "| Gymnocladus dioicus | 45.53122            | -73.66814           | 1                   |\n",
       "| Gymnocladus dioicus | 45.53131            | -73.66820           | 1                   |\n",
       "| Gymnocladus dioicus | 45.53138            | -73.66827           | 1                   |\n",
       "| Ulmus americana     | 45.63918            | -73.56036           | 1                   |\n",
       "| Quercus macrocarpa  | 45.63918            | -73.56041           | 1                   |\n",
       "| Ulmus americana     | 45.63918            | -73.56033           | 1                   |\n",
       "| Ulmus americana     | 45.63918            | -73.56033           | 1                   |\n",
       "| Ulmus americana     | 45.63918            | -73.56029           | 1                   |\n",
       "\n"
      ],
      "text/plain": [
       "       Essence_latin                    Latitude Longitude Present\n",
       "1      Gleditsia triacanthos 'Skyline'  45.53515 -73.71551 1      \n",
       "2      Gleditsia triacanthos 'Skyline'  45.53522 -73.71559 1      \n",
       "3      Gymnocladus dioicus              45.53511 -73.71566 1      \n",
       "4      Fraxinus nigra 'Fall Gold'       45.53562 -73.71530 1      \n",
       "5      Quercus rubra                    45.53560 -73.71560 1      \n",
       "6      Quercus macrocarpa               45.53582 -73.71571 1      \n",
       "7      Acer saccharinum 'Montréal'      45.53582 -73.71536 1      \n",
       "8      Acer platanoides 'Emerald Queen' 45.53619 -73.71556 1      \n",
       "9      Thuja occidentalis 'Nigra'       45.53635 -73.71555 1      \n",
       "10     Thuja occidentalis 'Nigra'       45.53628 -73.71552 1      \n",
       "...    ...                              ...      ...       ...    \n",
       "318068 Gymnocladus dioicus              45.53093 -73.66800 1      \n",
       "318069 Gymnocladus dioicus              45.53103 -73.66803 1      \n",
       "318070 Gymnocladus dioicus              45.53122 -73.66814 1      \n",
       "318071 Gymnocladus dioicus              45.53131 -73.66820 1      \n",
       "318072 Gymnocladus dioicus              45.53138 -73.66827 1      \n",
       "318073 Ulmus americana                  45.63918 -73.56036 1      \n",
       "318074 Quercus macrocarpa               45.63918 -73.56041 1      \n",
       "318075 Ulmus americana                  45.63918 -73.56033 1      \n",
       "318076 Ulmus americana                  45.63918 -73.56033 1      \n",
       "318077 Ulmus americana                  45.63918 -73.56029 1      "
      ]
     },
     "metadata": {},
     "output_type": "display_data"
    }
   ],
   "source": [
    "occurrence_data"
   ]
  },
  {
   "cell_type": "markdown",
   "metadata": {},
   "source": [
    "Il est maintenant temps de nettoyer nos données. \n",
    "\n",
    "Premièrement, on recherche les enregistrements avec des valeurs manquantes (dans les attributs pertinents) et on les enlève.\n",
    "Puis on enlève les doublons dans les données si il y en a."
   ]
  },
  {
   "cell_type": "code",
   "execution_count": 6,
   "metadata": {},
   "outputs": [
    {
     "data": {
      "text/plain": [
       " Essence_latin         Latitude          Longitude         Present \n",
       " Length:318077      Min.   : 0.04566   Min.   :-77.36   Min.   :1  \n",
       " Class :character   1st Qu.:45.48524   1st Qu.:-73.64   1st Qu.:1  \n",
       " Mode  :character   Median :45.53187   Median :-73.60   Median :1  \n",
       "                    Mean   :45.50730   Mean   :-73.61   Mean   :1  \n",
       "                    3rd Qu.:45.56468   3rd Qu.:-73.57   3rd Qu.:1  \n",
       "                    Max.   :72.35156   Max.   :-24.29   Max.   :1  \n",
       "                    NA's   :4          NA's   :4                   "
      ]
     },
     "metadata": {},
     "output_type": "display_data"
    }
   ],
   "source": [
    "summary(occurrence_data)"
   ]
  },
  {
   "cell_type": "code",
   "execution_count": 7,
   "metadata": {},
   "outputs": [
    {
     "data": {
      "text/html": [
       "'Nombre de lignes avec valeurs manquantes enlevées : 4'"
      ],
      "text/latex": [
       "'Nombre de lignes avec valeurs manquantes enlevées : 4'"
      ],
      "text/markdown": [
       "'Nombre de lignes avec valeurs manquantes enlevées : 4'"
      ],
      "text/plain": [
       "[1] \"Nombre de lignes avec valeurs manquantes enlevées : 4\""
      ]
     },
     "metadata": {},
     "output_type": "display_data"
    },
    {
     "data": {
      "text/html": [
       "'Nombre de lignes doublons enlevées : 1587'"
      ],
      "text/latex": [
       "'Nombre de lignes doublons enlevées : 1587'"
      ],
      "text/markdown": [
       "'Nombre de lignes doublons enlevées : 1587'"
      ],
      "text/plain": [
       "[1] \"Nombre de lignes doublons enlevées : 1587\""
      ]
     },
     "metadata": {},
     "output_type": "display_data"
    }
   ],
   "source": [
    "# ===== 1. Valeurs manquantes =======\n",
    "before_count <- count(occurrence_data)\n",
    "occurrence_data <- occurrence_data %>% dplyr::filter((!is.na(Longitude) | Longitude == 0) & !is.na(Latitude) & !is.na(Essence_latin))\n",
    "after_count <- count(occurrence_data)\n",
    "\n",
    "# Afficher le nombre de lignes supprimées\n",
    "sprintf(\"Nombre de lignes avec valeurs manquantes enlevées : %d\", before_count$n - after_count$n)\n",
    "\n",
    "# ===== 2. Enregistrements doublons =======\n",
    "before_count <- count(occurrence_data)\n",
    "occurrence_data <- occurrence_data %>% dplyr::distinct()\n",
    "after_count <- count(occurrence_data)\n",
    "\n",
    "# Afficher le nombre de lignes supprimées\n",
    "sprintf(\"Nombre de lignes doublons enlevées : %d\", before_count$n - after_count$n)"
   ]
  },
  {
   "cell_type": "markdown",
   "metadata": {},
   "source": [
    "Il est important à noter que cette base de données contient des enregistrements de plusieurs espèces différentes et les modèles de distribution d'espèces sont utilisées pour modéliser une espèce étudiée à la fois. Nous devons donc séparer les enregistrements par espèces.\n",
    "\n",
    "Pour illustrer plus facilement le processus, on ne va travailler dans ce notebook qu'avec une espèce, celle qui est la plus présente dans les données."
   ]
  },
  {
   "cell_type": "code",
   "execution_count": 8,
   "metadata": {
    "scrolled": true
   },
   "outputs": [
    {
     "data": {
      "text/html": [
       "<table>\n",
       "<thead><tr><th scope=col>Essence_latin</th><th scope=col>Latitude</th><th scope=col>Longitude</th><th scope=col>Present</th></tr></thead>\n",
       "<tbody>\n",
       "\t<tr><td>Acer saccharinum</td><td>45.54076        </td><td>-73.69629       </td><td>1               </td></tr>\n",
       "\t<tr><td>Acer saccharinum</td><td>45.54860        </td><td>-73.65310       </td><td>1               </td></tr>\n",
       "\t<tr><td>Acer saccharinum</td><td>45.54869        </td><td>-73.65331       </td><td>1               </td></tr>\n",
       "\t<tr><td>Acer saccharinum</td><td>45.54880        </td><td>-73.65326       </td><td>1               </td></tr>\n",
       "\t<tr><td>Acer saccharinum</td><td>45.53700        </td><td>-73.71862       </td><td>1               </td></tr>\n",
       "\t<tr><td>Acer saccharinum</td><td>45.53703        </td><td>-73.71842       </td><td>1               </td></tr>\n",
       "\t<tr><td>Acer saccharinum</td><td>45.52495        </td><td>-73.71480       </td><td>1               </td></tr>\n",
       "\t<tr><td>Acer saccharinum</td><td>45.54861        </td><td>-73.63966       </td><td>1               </td></tr>\n",
       "\t<tr><td>Acer saccharinum</td><td>45.55094        </td><td>-73.63016       </td><td>1               </td></tr>\n",
       "\t<tr><td>Acer saccharinum</td><td>45.57792        </td><td>-73.64505       </td><td>1               </td></tr>\n",
       "\t<tr><td>...</td><td>...</td><td>...</td><td>...</td></tr>\n",
       "\t<tr><td>Acer saccharinum</td><td>45.51846        </td><td>-73.72528       </td><td>1               </td></tr>\n",
       "\t<tr><td>Acer saccharinum</td><td>45.51851        </td><td>-73.72515       </td><td>1               </td></tr>\n",
       "\t<tr><td>Acer saccharinum</td><td>45.51841        </td><td>-73.72541       </td><td>1               </td></tr>\n",
       "\t<tr><td>Acer saccharinum</td><td>45.51836        </td><td>-73.72553       </td><td>1               </td></tr>\n",
       "\t<tr><td>Acer saccharinum</td><td>45.51827        </td><td>-73.72578       </td><td>1               </td></tr>\n",
       "\t<tr><td>Acer saccharinum</td><td>45.51825        </td><td>-73.72589       </td><td>1               </td></tr>\n",
       "\t<tr><td>Acer saccharinum</td><td>45.51841        </td><td>-73.72620       </td><td>1               </td></tr>\n",
       "\t<tr><td>Acer saccharinum</td><td>45.52230        </td><td>-73.69367       </td><td>1               </td></tr>\n",
       "\t<tr><td>Acer saccharinum</td><td>45.52237        </td><td>-73.69377       </td><td>1               </td></tr>\n",
       "\t<tr><td>Acer saccharinum</td><td>45.52167        </td><td>-73.69466       </td><td>1               </td></tr>\n",
       "</tbody>\n",
       "</table>\n"
      ],
      "text/latex": [
       "\\begin{tabular}{r|llll}\n",
       " Essence\\_latin & Latitude & Longitude & Present\\\\\n",
       "\\hline\n",
       "\t Acer saccharinum & 45.54076         & -73.69629        & 1               \\\\\n",
       "\t Acer saccharinum & 45.54860         & -73.65310        & 1               \\\\\n",
       "\t Acer saccharinum & 45.54869         & -73.65331        & 1               \\\\\n",
       "\t Acer saccharinum & 45.54880         & -73.65326        & 1               \\\\\n",
       "\t Acer saccharinum & 45.53700         & -73.71862        & 1               \\\\\n",
       "\t Acer saccharinum & 45.53703         & -73.71842        & 1               \\\\\n",
       "\t Acer saccharinum & 45.52495         & -73.71480        & 1               \\\\\n",
       "\t Acer saccharinum & 45.54861         & -73.63966        & 1               \\\\\n",
       "\t Acer saccharinum & 45.55094         & -73.63016        & 1               \\\\\n",
       "\t Acer saccharinum & 45.57792         & -73.64505        & 1               \\\\\n",
       "\t ... & ... & ... & ...\\\\\n",
       "\t Acer saccharinum & 45.51846         & -73.72528        & 1               \\\\\n",
       "\t Acer saccharinum & 45.51851         & -73.72515        & 1               \\\\\n",
       "\t Acer saccharinum & 45.51841         & -73.72541        & 1               \\\\\n",
       "\t Acer saccharinum & 45.51836         & -73.72553        & 1               \\\\\n",
       "\t Acer saccharinum & 45.51827         & -73.72578        & 1               \\\\\n",
       "\t Acer saccharinum & 45.51825         & -73.72589        & 1               \\\\\n",
       "\t Acer saccharinum & 45.51841         & -73.72620        & 1               \\\\\n",
       "\t Acer saccharinum & 45.52230         & -73.69367        & 1               \\\\\n",
       "\t Acer saccharinum & 45.52237         & -73.69377        & 1               \\\\\n",
       "\t Acer saccharinum & 45.52167         & -73.69466        & 1               \\\\\n",
       "\\end{tabular}\n"
      ],
      "text/markdown": [
       "\n",
       "| Essence_latin | Latitude | Longitude | Present |\n",
       "|---|---|---|---|\n",
       "| Acer saccharinum | 45.54076         | -73.69629        | 1                |\n",
       "| Acer saccharinum | 45.54860         | -73.65310        | 1                |\n",
       "| Acer saccharinum | 45.54869         | -73.65331        | 1                |\n",
       "| Acer saccharinum | 45.54880         | -73.65326        | 1                |\n",
       "| Acer saccharinum | 45.53700         | -73.71862        | 1                |\n",
       "| Acer saccharinum | 45.53703         | -73.71842        | 1                |\n",
       "| Acer saccharinum | 45.52495         | -73.71480        | 1                |\n",
       "| Acer saccharinum | 45.54861         | -73.63966        | 1                |\n",
       "| Acer saccharinum | 45.55094         | -73.63016        | 1                |\n",
       "| Acer saccharinum | 45.57792         | -73.64505        | 1                |\n",
       "| ... | ... | ... | ... |\n",
       "| Acer saccharinum | 45.51846         | -73.72528        | 1                |\n",
       "| Acer saccharinum | 45.51851         | -73.72515        | 1                |\n",
       "| Acer saccharinum | 45.51841         | -73.72541        | 1                |\n",
       "| Acer saccharinum | 45.51836         | -73.72553        | 1                |\n",
       "| Acer saccharinum | 45.51827         | -73.72578        | 1                |\n",
       "| Acer saccharinum | 45.51825         | -73.72589        | 1                |\n",
       "| Acer saccharinum | 45.51841         | -73.72620        | 1                |\n",
       "| Acer saccharinum | 45.52230         | -73.69367        | 1                |\n",
       "| Acer saccharinum | 45.52237         | -73.69377        | 1                |\n",
       "| Acer saccharinum | 45.52167         | -73.69466        | 1                |\n",
       "\n"
      ],
      "text/plain": [
       "      Essence_latin    Latitude Longitude Present\n",
       "1     Acer saccharinum 45.54076 -73.69629 1      \n",
       "2     Acer saccharinum 45.54860 -73.65310 1      \n",
       "3     Acer saccharinum 45.54869 -73.65331 1      \n",
       "4     Acer saccharinum 45.54880 -73.65326 1      \n",
       "5     Acer saccharinum 45.53700 -73.71862 1      \n",
       "6     Acer saccharinum 45.53703 -73.71842 1      \n",
       "7     Acer saccharinum 45.52495 -73.71480 1      \n",
       "8     Acer saccharinum 45.54861 -73.63966 1      \n",
       "9     Acer saccharinum 45.55094 -73.63016 1      \n",
       "10    Acer saccharinum 45.57792 -73.64505 1      \n",
       "...   ...              ...      ...       ...    \n",
       "33042 Acer saccharinum 45.51846 -73.72528 1      \n",
       "33043 Acer saccharinum 45.51851 -73.72515 1      \n",
       "33044 Acer saccharinum 45.51841 -73.72541 1      \n",
       "33045 Acer saccharinum 45.51836 -73.72553 1      \n",
       "33046 Acer saccharinum 45.51827 -73.72578 1      \n",
       "33047 Acer saccharinum 45.51825 -73.72589 1      \n",
       "33048 Acer saccharinum 45.51841 -73.72620 1      \n",
       "33049 Acer saccharinum 45.52230 -73.69367 1      \n",
       "33050 Acer saccharinum 45.52237 -73.69377 1      \n",
       "33051 Acer saccharinum 45.52167 -73.69466 1      "
      ]
     },
     "metadata": {},
     "output_type": "display_data"
    }
   ],
   "source": [
    "# !!!!!!!! CODE DE TEST !!!!!!!!!\n",
    "# Identifier et tirer l'espèce la plus présente dans les données d'occurrence\n",
    "species_counts <- occurrence_data %>% count(Essence_latin, sort=TRUE)\n",
    "most_found_species <- slice(species_counts, 1)$Essence_latin\n",
    "species_data <- occurrence_data %>% dplyr::filter(Essence_latin==most_found_species)\n",
    "species_data"
   ]
  },
  {
   "cell_type": "code",
   "execution_count": 9,
   "metadata": {},
   "outputs": [],
   "source": [
    "# Enlever le nom de l'espèce de la dataframe\n",
    "species_data <- species_data %>% dplyr::select('Longitude', 'Latitude', 'Present')"
   ]
  },
  {
   "cell_type": "markdown",
   "metadata": {},
   "source": [
    "Affichons ces données sur une carte, pour cela nous allons utiliser la fonction plot (dont le comportement change grâce à la bibliothèque \"sf\").\n",
    "\n",
    "Nous allons avoir besoin aussi d'une carte du monde sur laquelle dessiner les points. Nous utilisons ici une carte de la ressource publique *Natural Earth* (ref : https://www.naturalearthdata.com/ (consulté le 06/04/2021))."
   ]
  },
  {
   "cell_type": "code",
   "execution_count": 10,
   "metadata": {},
   "outputs": [],
   "source": [
    "# Carte du monde avec les bordures des villes / provinces dans chaque pays \n",
    "world_map <- shapefile(\"data/natural_earth_vector/10m_cultural/ne_10m_admin_1_states_provinces.shp\")"
   ]
  },
  {
   "cell_type": "code",
   "execution_count": 11,
   "metadata": {},
   "outputs": [],
   "source": [
    "# Créer une fonction pour dessiner les points d'occurrence sur la carte du monde\n",
    "plot_species_data_on_map <- function(species_data, background_map=world_map, plot_label=\"\", \n",
    "                                     col=\"dark green\", pch=20, cex=0.1, extent=NULL, ...){\n",
    "    # Calculer l'extent si il est NULL\n",
    "    # Ici l'extent est le \"carré\" entourant tous les points de notre dataset (minlong, maxlong, minlat, maxlat)\n",
    "    if (is.null(extent)){\n",
    "        # Si les données sont sous forme de SpatialPoints, \n",
    "        # utiliser la fonction extent pour extraire l'extent, sinon le calculer manuellement\n",
    "        if (class(species_data) == 'SpatialPoints'){\n",
    "            extent <- extent(species_data)\n",
    "        } else{\n",
    "            extent <- c(min(species_data$Longitude), max(species_data$Longitude), \n",
    "                min(species_data$Latitude), max(species_data$Latitude))\n",
    "        }\n",
    "    }\n",
    "    \n",
    "    # Reprojeter les données d'occurrence\n",
    "    if (!is.na(crs(species_data))){\n",
    "        species_data <- spTransform(species_data, crs(background_map))\n",
    "    }\n",
    "        \n",
    "    # Afficher la carte background\n",
    "    plot(background_map, xlim=c(extent[1], extent[2]), \n",
    "         ylim=c(extent[3], extent[4]), col=\"light gray\", \n",
    "           xlab=\"longitude\", ylab=\"latitude\", main=plot_label)\n",
    "    \n",
    "    # Dessiner les points sur la carte\n",
    "    if (class(species_data) == 'SpatialPoints'){\n",
    "        points(species_data, col=col, pch=pch, cex=cex)\n",
    "    } else {\n",
    "        points(species_data$Longitude, species_data$Latitude, col=col, pch=pch, cex=cex)\n",
    "    }\n",
    "    \n",
    "    box()\n",
    "}"
   ]
  },
  {
   "cell_type": "code",
   "execution_count": 12,
   "metadata": {},
   "outputs": [
    {
     "name": "stderr",
     "output_type": "stream",
     "text": [
      "Warning message in if (class(species_data) == \"SpatialPoints\") {:\n",
      "\"la condition a une longueur > 1 et seul le premier élément est utilisé\"Warning message in if (class(x) == \"character\") {:\n",
      "\"la condition a une longueur > 1 et seul le premier élément est utilisé\"Warning message in if (class(x) != \"CRS\") {:\n",
      "\"la condition a une longueur > 1 et seul le premier élément est utilisé\"Warning message in if (class(species_data) == \"SpatialPoints\") {:\n",
      "\"la condition a une longueur > 1 et seul le premier élément est utilisé\""
     ]
    },
    {
     "data": {
      "image/png": "[encoded data removed]",
      "text/plain": [
       "Plot with title \"\""
      ]
     },
     "metadata": {},
     "output_type": "display_data"
    }
   ],
   "source": [
    "# Afficher la carte\n",
    "plot_species_data_on_map(species_data, cex=2.5)\n",
    "\n",
    "# Afficher un cadre entourant le graphe\n",
    "box()"
   ]
  },
  {
   "cell_type": "markdown",
   "metadata": {},
   "source": [
    "Nous pouvons remarquer que certains points (dont la taille est exagérée ici) ont des coordonnées incohérentes. Il se pourrait que ce soit une simple faute de frappe ou une autre erreur.\n",
    "\n",
    "Avant de décider quoi faire pour ces données, nous allons devoir afficher ces données. Pour se faire nous allons utiliser une carte de Montreal plus précise. C'est la carte des **limites administratives** de la ville (trouvée dans ce lien https://donnees.montreal.ca/ville-de-montreal/polygones-arrondissements (consulté le 13/04/2021)) : "
   ]
  },
  {
   "cell_type": "code",
   "execution_count": 13,
   "metadata": {},
   "outputs": [
    {
     "data": {
      "text/html": [
       "<table>\n",
       "<thead><tr><th scope=col>Longitude</th><th scope=col>Latitude</th><th scope=col>Present</th></tr></thead>\n",
       "<tbody>\n",
       "\t<tr><td>-77.01614</td><td>45.497951</td><td>1        </td></tr>\n",
       "\t<tr><td>-73.63066</td><td> 2.625368</td><td>1        </td></tr>\n",
       "\t<tr><td>-73.63056</td><td> 2.625469</td><td>1        </td></tr>\n",
       "\t<tr><td>-77.01803</td><td>45.372684</td><td>1        </td></tr>\n",
       "</tbody>\n",
       "</table>\n"
      ],
      "text/latex": [
       "\\begin{tabular}{r|lll}\n",
       " Longitude & Latitude & Present\\\\\n",
       "\\hline\n",
       "\t -77.01614 & 45.497951 & 1        \\\\\n",
       "\t -73.63066 &  2.625368 & 1        \\\\\n",
       "\t -73.63056 &  2.625469 & 1        \\\\\n",
       "\t -77.01803 & 45.372684 & 1        \\\\\n",
       "\\end{tabular}\n"
      ],
      "text/markdown": [
       "\n",
       "| Longitude | Latitude | Present |\n",
       "|---|---|---|\n",
       "| -77.01614 | 45.497951 | 1         |\n",
       "| -73.63066 |  2.625368 | 1         |\n",
       "| -73.63056 |  2.625469 | 1         |\n",
       "| -77.01803 | 45.372684 | 1         |\n",
       "\n"
      ],
      "text/plain": [
       "  Longitude Latitude  Present\n",
       "1 -77.01614 45.497951 1      \n",
       "2 -73.63066  2.625368 1      \n",
       "3 -73.63056  2.625469 1      \n",
       "4 -77.01803 45.372684 1      "
      ]
     },
     "metadata": {},
     "output_type": "display_data"
    }
   ],
   "source": [
    "# Charger la carte de Montreal (Limites administratives)\n",
    "montreal_map <- shapefile('data/montreal/limadmin/LIMADMIN.shp')\n",
    "\n",
    "# Obtenir le \"carré\" entourant la ville de Montreal (minlong, maxlong, minlat, maxlat)\n",
    "montreal_boundaries <- extent(montreal_map)\n",
    "\n",
    "# On considére les données comme étant des anomalies si ces données ne sont pas dans les limites de la ville\n",
    "anomalies <- species_data %>% dplyr::filter((Longitude < montreal_boundaries[1]) | (Longitude > montreal_boundaries[2]) |\n",
    "                                            (Latitude < montreal_boundaries[3]) | (Latitude > montreal_boundaries[4]))\n",
    "anomalies"
   ]
  },
  {
   "cell_type": "markdown",
   "metadata": {},
   "source": [
    "Tant que le nombre de points est petit (les supprimer ne rend pas l'espèce sous-représentée), on peut juste les éliminer."
   ]
  },
  {
   "cell_type": "code",
   "execution_count": 14,
   "metadata": {},
   "outputs": [],
   "source": [
    "# Transformer les données d'occurrence en SpatialPointsDataFrame\n",
    "species_data <- SpatialPointsDataFrame(data=species_data[3], coords=species_data[1:2])\n",
    "\n",
    "# Filtrer les données incohérentes\n",
    "species_data <- crop(species_data, montreal_boundaries)"
   ]
  },
  {
   "cell_type": "code",
   "execution_count": 15,
   "metadata": {},
   "outputs": [
    {
     "data": {
      "image/png": "[encoded data removed]",
      "text/plain": [
       "Plot with title \"Points d'occurrences - Carte du monde\""
      ]
     },
     "metadata": {},
     "output_type": "display_data"
    }
   ],
   "source": [
    "# Afficher les points sur la carte du monde\n",
    "plot_species_data_on_map(species_data, plot_label=\"Points d'occurrences - Carte du monde\")"
   ]
  },
  {
   "cell_type": "markdown",
   "metadata": {},
   "source": [
    "Parfait, on voit maintenant que le points sont tous centrés autour de la ville de Montreal.\n",
    "\n",
    "Mais ça dépasse. C'est clairement un problème de la carte du monde vu que l'on a vu que les points ne pouvaient pas dépasser les bordures de Montreal. Pour cette raison (entre autres), nous allons utiliser la carte des limites administratives de Montreal, qui est plus précise :"
   ]
  },
  {
   "cell_type": "code",
   "execution_count": 16,
   "metadata": {},
   "outputs": [
    {
     "data": {
      "image/png": "[encoded data removed]",
      "text/plain": [
       "Plot with title \"Points d'occurrence - Carte de Montreal\""
      ]
     },
     "metadata": {},
     "output_type": "display_data"
    }
   ],
   "source": [
    "# Afficher les points sur la carte de Montreal\n",
    "plot_species_data_on_map(species_data, background_map=montreal_map, plot_label=\"Points d'occurrence - Carte de Montreal\")"
   ]
  },
  {
   "cell_type": "markdown",
   "metadata": {},
   "source": [
    "### 2.2 - Gestion de biais d'echantillonage \n",
    "\n",
    "Le biais d'échantillonage peut être un problème dans l'analyse de données,\n"
   ]
  },
  {
   "cell_type": "code",
   "execution_count": 54,
   "metadata": {},
   "outputs": [
    {
     "ename": "ERROR",
     "evalue": "Error in validObject(.Object): invalid class \"SpatialPointsDataFrame\" object: number of rows in data.frame and SpatialPoints don't match\n",
     "output_type": "error",
     "traceback": [
      "Error in validObject(.Object): invalid class \"SpatialPointsDataFrame\" object: number of rows in data.frame and SpatialPoints don't match\nTraceback:\n",
      "1. SpatialPointsDataFrame(data = data.frame(Present = rep(0, length(sampled_points))), \n .     coords = sampled_points)",
      "2. new(\"SpatialPointsDataFrame\", coords, data = data, coords.nrs = coords.nrs)",
      "3. initialize(value, ...)",
      "4. initialize(value, ...)",
      "5. validObject(.Object)",
      "6. stop(msg, \": \", errors, domain = NA)"
     ]
    }
   ],
   "source": [
    "# Créer une grille (raster)\n",
    "r_layer <- raster(ext=montreal_boundaries, res=0.00833333333333342)\n",
    "\n",
    "sampled_points = gridSample(species_data, r_layer, n=10)\n",
    "s <- SpatialPointsDataFrame(data = data.frame(Present = rep(0, length(sampled_points))), coords=sampled_points)\n",
    "\n",
    "# Afficher à nouveau les points d'occurrence\n",
    "plot_species_data_on_map(sampled, background_map=montreal_map, \n",
    "                         plot_label=\"Points d'occurrence - Carte de Montreal\")"
   ]
  },
  {
   "cell_type": "code",
   "execution_count": 52,
   "metadata": {},
   "outputs": [],
   "source": [
    "?coordinates"
   ]
  },
  {
   "cell_type": "markdown",
   "metadata": {},
   "source": [
    "### 2.2 - Génération des données d'absence\n",
    "Comme dit plus tôt, les données que l'on utilise sont des données de présence seulement, nous devons alors générer des données d'absence.\n",
    "\n",
    "Ici nous allons utiliser une technique très simple, nous allons prendre aléatoirement des données à des points situés autour des points de présence (à un rayon de 5 km) \n",
    "\n",
    "**Note : Cette technique a été vue dans ces deux ressources : https://rspatial.org/raster/sdm/3_sdm_absence-background.html et https://www.molecularecologist.com/2013/04/23/species-distribution-models-in-r/, mais je comprends bien qu'il faudra changer / mieux expliquer pourquoi c'est la meilleure technique si elle l'est vraiment**\n",
    "\n",
    "Pour cela on utilise la bibliothèque **dismo** pour créer des cercles autour de chaque point, puis on echantillonne aléatoirement des points d'absences à partir de ces polygones :"
   ]
  },
  {
   "cell_type": "code",
   "execution_count": null,
   "metadata": {},
   "outputs": [],
   "source": [
    "# Definir une valeur de 'seed' pour que les résultats soient les mêmes à chaque tentative\n",
    "set.seed(12)\n",
    "\n",
    "# Créer les cercles et y echantionner des points aléatoires\n",
    "circles_list <- circles(species_data, d=5000, lonlat=TRUE)\n",
    "absence_data <- spsample(circles_list@polygons, length(species_data), type='random', iter=100)"
   ]
  },
  {
   "cell_type": "code",
   "execution_count": null,
   "metadata": {},
   "outputs": [],
   "source": [
    "# Afficher les points d'absences sur la carte\n",
    "plot_species_data_on_map(species_data=absence_data, background_map=montreal_map, col=\"dark orange\")"
   ]
  },
  {
   "cell_type": "markdown",
   "metadata": {},
   "source": [
    "Nous devons appliquer un masque pour ne créer des points que sur la surface terrestre de la ville de Montreal :"
   ]
  },
  {
   "cell_type": "code",
   "execution_count": null,
   "metadata": {},
   "outputs": [],
   "source": [
    "# Recentrer les points d'absence\n",
    "absence_data <- spTransform(absence_data, crs(montreal_map))\n",
    "absence_data_indexes <- over(absence_data, geometry(montreal_map))\n",
    "absence_data <- absence_data[!is.na(absence_data_indexes), ]\n",
    "\n",
    "# Afficher les points une seconde fois\n",
    "plot_species_data_on_map(species_data=absence_data, background_map=montreal_map, col=\"dark orange\")"
   ]
  },
  {
   "cell_type": "markdown",
   "metadata": {},
   "source": [
    "Parfait, les points d'absence sont maintenant recentrés.\n",
    "\n",
    "Maintenant, on combine les deux datasets ensemble pour obtenir nos données d'occurrences complètes :"
   ]
  },
  {
   "cell_type": "code",
   "execution_count": null,
   "metadata": {},
   "outputs": [],
   "source": [
    "# Transformer les données d'absence en SpatialPointsDataFrame (avec l'attribut Présent à 0)\n",
    "absence_data <- SpatialPointsDataFrame(data = data.frame(Present = rep(0, length(absence_data))), coords=absence_data)\n",
    "\n",
    "# Combiner les données d'absence et de présence\n",
    "crs(absence_data) <- crs(species_data)\n",
    "species_data <- rbind(species_data, absence_data)"
   ]
  },
  {
   "cell_type": "markdown",
   "metadata": {},
   "source": [
    "### 2.3 - Données climatiques :"
   ]
  },
  {
   "cell_type": "markdown",
   "metadata": {},
   "source": [
    "Pour les données climatiques, nous allons utiliser les données de **WORDLCIM** (https://www.worldclim.org/data/worldclim21.html (consulté le 19/04/2021) qui est une base de données climatiques couvrant le monde entier. Voici la liste des variables biologiques disponibles : \n",
    "\n",
    "- BIO1 - Température moyenne annuelle\n",
    "- BIO2 - Moyenne de l'amplitude diurne (Moyenne des (max temp - min temp) mensuels)\n",
    "- BIO3 - Isothermie (BIO2/BIO7) (×100)\n",
    "- BIO4 - Saisonnalité de la température (écart-type ×100)\n",
    "- BIO5 - Température maximale du mois le plus chaud\n",
    "- BIO6 - Température minimale du mois le plus froid\n",
    "- BIO7 - Plage annuelle de température (BIO5-BIO6)\n",
    "- BIO8 - Température moyenne du trimestre le plus humide\n",
    "- BIO9 - Température moyenne du trimestre le plus sec\n",
    "- BIO10 - Température moyenne du trimestre le plus chaud\n",
    "- BIO11 - Température moyenne du trimestre le plus froid\n",
    "- BIO12 - Précipitations annuelles\n",
    "- BIO13 - Précipitations du mois le plus humide\n",
    "- BIO14 - Précipitations du mois le plus sec\n",
    "- BIO15 - Saisonnalité des précipitations (coefficient de variation)\n",
    "- BIO16 - Précipitations du trimestre le plus humide\n",
    "- BIO17 - Précipitations du trimestre le plus sec\n",
    "- BIO18 - Précipitations du trimestre le plus chaud\n",
    "- BIO19 - Précipitations du trimestre le plus froid\n",
    "\n",
    "(La précision utilisée ici est la plus fine, à savoir **30 degrés secondes, soit environ 1 kilomètre carré**.)\n",
    "\n",
    "Nous allons maintenant extraire les valeurs de ces variables environnementales autour de chaque point de présence / absence de notre jeu de données, et pour illustrer ce processus, voici les étapes à suivre pour la variable **BIO_1** :"
   ]
  },
  {
   "cell_type": "code",
   "execution_count": null,
   "metadata": {},
   "outputs": [],
   "source": [
    "# Lire le fichier raster \n",
    "worldclim_path <- \"data/worldclim_cropped\"\n",
    "climate_raster <- raster(file.path(worldclim_path, \"wc2.1_30s_bio_1.tif\"))\n",
    "\n",
    "# Afficher le raster layer \n",
    "plot(climate_raster)"
   ]
  },
  {
   "cell_type": "markdown",
   "metadata": {},
   "source": [
    "Les parties blanches que l'on peut remarquer sur la carte sont en fait des valeurs manquantes. Ce serait un problème de les laisser tels quels car certains points de présence / absence pourraient y figurer. Une stratégie pour remplacer ces valeurs manquantes est de d'utiliser la valeur moyenne des voisins les plus proches.\n",
    "\n",
    "Pour faire ça, nous utiliserons la fonction **\"focal\"** pour faire déplacer une \"fenêtre\" (matrice) de taille fixe (ici paramétrée à 5x5) sur l'image raster et appliquer une fonction qui fera la moyenne des élements dans la fenêtre. Voici le code et le résultat obtenu :"
   ]
  },
  {
   "cell_type": "code",
   "execution_count": null,
   "metadata": {},
   "outputs": [],
   "source": [
    "# La fonction qui retourne la moyenne des élements adjacents à chaque cellule\n",
    "fill.na <- function(x, i=5) {return(mean(x, na.rm=TRUE))}  \n",
    "\n",
    "# On spécifie à la fonction de ne prendre que les cellules dont les valeurs sont manquantes\n",
    "climate_raster <- focal(climate_raster, w = matrix(1,3,3), fun = fill.na, NAonly=TRUE)\n",
    "\n",
    "# Afficher le raster layer à nouveau\n",
    "plot(climate_raster)"
   ]
  },
  {
   "cell_type": "markdown",
   "metadata": {},
   "source": [
    "Parfait, nous pouvons maintenant finir le processus en faisant correspondre les points de présence avec les valeurs de la variable BIO_1 en utilisant la fonction **extract** du package raster."
   ]
  },
  {
   "cell_type": "code",
   "execution_count": null,
   "metadata": {},
   "outputs": [],
   "source": [
    "# Dataframe d'affichage (pour ne pas changer notre dataset original)\n",
    "species_data_dummy <- species_data \n",
    "\n",
    "# Extraire la variable climatique à chaque point d'occurrence\n",
    "climate_variable <- raster::extract(climate_raster, species_data, method=\"bilinear\")\n",
    "    \n",
    "# Ajouter la nouvelle feature dans le dataset\n",
    "species_data_dummy@data[\"bio_1\"] <- climate_variable\n",
    "\n",
    "# Afficher le dataset lié \n",
    "head(species_data_dummy@data)"
   ]
  },
  {
   "cell_type": "markdown",
   "metadata": {},
   "source": [
    "Tout semble en ordre, maintenant il ne reste qu'à répéter ce processus pour toutes les variables environnementales : "
   ]
  },
  {
   "cell_type": "code",
   "execution_count": null,
   "metadata": {},
   "outputs": [],
   "source": [
    "# Lister les fichiers shapefile du climat de Montreal\n",
    "filenames <- list.files(worldclim_path, pattern=\"*.tif\", full.names=TRUE)\n",
    "\n",
    "# (Optionel) Préparer l'affichage des graphes\n",
    "# num_files <- length(filenames)\n",
    "# options(repr.plot.height = 4 * num_files / 2)\n",
    "# par(mfrow=c(num_files / 2, 2), mar=rep(0, 4))\n",
    "\n",
    "# Dataset complet \n",
    "species_data_final <- species_data\n",
    "\n",
    "# Pour chaque fichier...\n",
    "for(filename in filenames){\n",
    "    # Charger le fichier en mémoire\n",
    "    climate_raster <- raster(filename)\n",
    "    \n",
    "    # Enlever les valeurs manquantes\n",
    "    climate_raster <- focal(climate_raster, w = matrix(1,5,5), fun = fill.na, NAonly=TRUE)\n",
    "    \n",
    "    # Stocker le nom de la variable (ex : bio_1)\n",
    "    variable_name <- strsplit(filename, '_')[[1]]\n",
    "    variable_name <- strsplit(variable_name[length(variable_name)], '.tif')\n",
    "    variable_name <- paste('bio_', variable_name, sep=\"\")\n",
    "    \n",
    "    # (Optionel) Afficher les raster layers dans un graphe \n",
    "    # plot(climate_raster, main=strsplit(filename, '/')[-1])\n",
    "    # box()\n",
    "    \n",
    "    # Extraire la variable climatique pour chaque point d'occurrence\n",
    "    climate_variable <- raster::extract(climate_raster, species_data_final, col=variable_name, method=\"simple\")\n",
    "    \n",
    "    # Ajouter la nouvelle feature dans le dataset\n",
    "    species_data_final@data[variable_name] <- climate_variable\n",
    "}"
   ]
  },
  {
   "cell_type": "code",
   "execution_count": null,
   "metadata": {},
   "outputs": [],
   "source": [
    "# Afficher le dataset complet \n",
    "head(species_data_final@data)"
   ]
  },
  {
   "cell_type": "code",
   "execution_count": null,
   "metadata": {},
   "outputs": [],
   "source": [
    "# Statistiques sur le dataset \n",
    "summary(species_data_final@data)"
   ]
  },
  {
   "cell_type": "code",
   "execution_count": null,
   "metadata": {},
   "outputs": [],
   "source": [
    "# Enlever les valeurs manquantes\n",
    "length_before_na_omit <- count(species_data_final@data)$n\n",
    "species_data_final@data <- na.omit(species_data_final@data)\n",
    "length_after_na_omit <- count(species_data_final@data)$n\n",
    "print(paste('Nombre de valeurs manquantes enlevées :', length_before_na_omit - length_after_na_omit))\n",
    "\n",
    "# Identifier et enlever les variables qui ont 0 de variance\n",
    "zero_variance_variables <- which(apply(species_data_final@data, 2, var) == 0)\n",
    "\n",
    "num_zero_var_variables <- length(zero_variance_variables)\n",
    "print(paste('Nombre de variables avec zéro variance enlevées :', num_zero_var_variables))\n",
    "if (num_zero_var_variables > 0){\n",
    "    print(paste('Attribut supprimés', colnames(species_data_final@data[as.numeric(zero_variance_variables)])))\n",
    "    species_data_final@data <- species_data_final@data[ -as.numeric(zero_variance_variables)]\n",
    "}"
   ]
  },
  {
   "cell_type": "markdown",
   "metadata": {},
   "source": [
    "Les attributs corréllés entre eux n'apportent pas d'information supplémentaires. Pour les faire ressortir nous devons utiliser une matrice de correlation. "
   ]
  },
  {
   "cell_type": "code",
   "execution_count": null,
   "metadata": {},
   "outputs": [],
   "source": [
    "# Afficher la matrice de corrélation\n",
    "cor_matrix <- cor(species_data_final@data)\n",
    "corrplot(cor_matrix, method=\"color\", tl.cex=.5, tl.col=\"black\")"
   ]
  },
  {
   "cell_type": "markdown",
   "metadata": {},
   "source": [
    "Pour éliminer les variables corrélés, nous utilisons généralement un seuil de **coefficient de correlation de Pearson**, au delà duquel une des deux variables corrélés dans la matrice est éliminée. Pour choisir ce seuil, faisons d'abord des statistiques simples montrant le nombre d'attributs supprimés en prenant en considération des seuils différents : "
   ]
  },
  {
   "cell_type": "code",
   "execution_count": null,
   "metadata": {},
   "outputs": [],
   "source": [
    "# Eliminer le triangle supérieur de la matrice de correlation (car elle est symetrique)\n",
    "cor_matrix[upper.tri(cor_matrix)] <- 0\n",
    "\n",
    "# Fixer les valeurs dans la diagonale car les variables avec elles-mêmes ont un coefficient de 1\n",
    "diag(cor_matrix) <- 0\n",
    "                                                                     \n",
    "# Faire des statistiques sur la corrélation des attributs\n",
    "thresholds <- c(0.7, 0.8, 0.9, 0.99)\n",
    "for (threshold in thresholds) {\n",
    "    # Créer un dataset avec les attributs corréllés supprimés\n",
    "    len_before_cleaning <- length(species_data_final@data)\n",
    "    cleaned_dataset <- species_data_final@data[, !apply(cor_matrix, 2, function(x) any(abs(x) > threshold))]\n",
    "    len_after_cleaning <- length(cleaned_dataset)\n",
    "    \n",
    "    # Afficher le nombre d'attributs supprimés dans ce nouveau dataset\n",
    "    print(paste(\"Coefficient de Pearson (valeur absolue) : \", threshold, \n",
    "                \" - Nombre d'attributs supprimés :\", \n",
    "                len_before_cleaning - len_after_cleaning, \"/\", len_before_cleaning, sep=\"\"))\n",
    "}"
   ]
  },
  {
   "cell_type": "markdown",
   "metadata": {},
   "source": [
    "Nous continuerons l'entrainement avec un seuil de coefficient de **0.9**."
   ]
  },
  {
   "cell_type": "code",
   "execution_count": null,
   "metadata": {},
   "outputs": [],
   "source": [
    "species_data_final@data <- species_data_final@data[, !apply(cor_matrix, 2, function(x) any(abs(x) > 0.9))]"
   ]
  },
  {
   "cell_type": "markdown",
   "metadata": {},
   "source": [
    "Nous allons maintenant vérifier si nous avons beaucoup de redondance dans nos enregistrements, pour ce faire, il suffit de faire ressortir les enregistrements dupliqués : "
   ]
  },
  {
   "cell_type": "code",
   "execution_count": null,
   "metadata": {},
   "outputs": [],
   "source": [
    "# Compter le nombre d'enregistrements uniques dans le dataset\n",
    "print(paste(\"Nombre d'enregistrements uniques en incluant les classes :\", count(species_data_final@data %>% distinct())$n))\n",
    "\n",
    "# Compter le nombre d'enregistrements sans la valeur cible \n",
    "print(paste(\"Nombre d'enregistrements uniques sans les classes :\",\n",
    "      count(species_data_final@data[2:length(species_data_final@data)] %>% distinct())$n))\n",
    "\n",
    "# Compter le nombre d'enregistrements par classes\n",
    "print(\"==== Nombre d'enregistrements uniques par classe ====\")\n",
    "print(paste(\"Present = 1 :\", count(species_data_final@data[species_data_final@data$Present == 1, ] %>% distinct())$n))\n",
    "print(paste(\"Present = 0 :\", count(species_data_final@data[species_data_final@data$Present == 0, ] %>% distinct())$n))"
   ]
  },
  {
   "cell_type": "markdown",
   "metadata": {},
   "source": [
    "****analyse ICI**"
   ]
  },
  {
   "cell_type": "markdown",
   "metadata": {},
   "source": [
    "## 3. Entrainement des modèles\n",
    "Dans ce projet, il sera question d'utiliser un algorithme de Machine Learning, à savoir le **Random Forest**."
   ]
  },
  {
   "cell_type": "markdown",
   "metadata": {},
   "source": [
    "### 3.1 - Séparation des données\n",
    "La séparation des données de test se fera à l'aide de la technique dite de la **Block Cross Validation**.\n",
    "\n",
    "La block cross validation est une technique de séparation des données qui consiste à prendre en considération la position des données dans l'espace (ou le temps).\n",
    "\n",
    "Par exemple, une stratégie de block cross validation consiste à séparer l'espace en blocs de même taille à la manière d'une grille, chaque bloc sera alors numéroté de 1 jusqu'à k (le nombre de *folds*), puis les blocs ayant le même numéro seront regroupé dans un *fold*. Le but de cette stratégie est de prendre nos données à partir d'endroits relativement eloignés, comme l'illustre cette figure : \n",
    "\n",
    "<img src=\"https://besjournals.onlinelibrary.wiley.com/cms/asset/58e88b81-cd83-44b0-b6ed-f4bafd1c9f45/mee313107-fig-0002-m.png\n",
    "          \"/>\n",
    "\n",
    "Ces techniques de validation croisée sont implémentés dans le package **blockCV** du langage R. "
   ]
  },
  {
   "cell_type": "code",
   "execution_count": null,
   "metadata": {},
   "outputs": [],
   "source": [
    "# Définir le CRS du dataset (pour éviter une erreur de BlockCV)\n",
    "crs(species_data_final) <- crs(climate_raster)\n",
    "\n",
    "count(species_data_final@data)\n"
   ]
  },
  {
   "cell_type": "markdown",
   "metadata": {},
   "source": [
    "Maintenant la séparation faite, nous pouvons entrainer notre modèle : le Random Forest : "
   ]
  },
  {
   "cell_type": "code",
   "execution_count": null,
   "metadata": {},
   "outputs": [],
   "source": [
    "accuracies = numeric(length(folds$folds))\n",
    "rf <- vector(\"list\", (length(folds$folds)))\n",
    "predictions <- vector(\"list\", (length(folds$folds)))\n",
    "\n",
    "# Pour chaque fold...\n",
    "for (i in 1:length(folds$folds)){\n",
    "    fold <- folds$folds[[i]]\n",
    "    \n",
    "    # Extraire les données d'entrainement\n",
    "    xy_train <- species_data_final[fold[1][[1]], ]\n",
    "    xy_train <- na.omit(xy_train@data)\n",
    "    y_train <- xy_train$Present\n",
    "    x_train <- xy_train[2:length(colnames(xy_train))]\n",
    "    \n",
    "    # Extraire les données de test\n",
    "    xy_test <- species_data_final[fold[2][[1]], ]\n",
    "    xy_test <- na.omit(xy_test@data)\n",
    "    \n",
    "    # Entrainer le modèle Random Forest (paramètres par défault)\n",
    "    sdm_rf <- randomForest(x_train, as.factor(y_train))\n",
    "    rf[[i]] <- sdm_rf\n",
    "    \n",
    "    # Calculer l'accuracy\n",
    "    prediction <- predict(sdm_rf, xy_test)\n",
    "    predictions[[i]] <- prediction\n",
    "    \n",
    "    differences_prediction <- prediction == xy_test$Present\n",
    "    accuracy <- length(differences_prediction[differences_prediction == TRUE]) / length(xy_test$Present) * 100\n",
    "    accuracies[i] <- accuracy\n",
    "}"
   ]
  },
  {
   "cell_type": "code",
   "execution_count": null,
   "metadata": {},
   "outputs": [],
   "source": [
    "# ======== Statistiques ==========\n",
    "print('======= ACCURACIES ========')\n",
    "print(accuracies)\n",
    "print(paste('Mean accuracy : ', as.character(mean(accuracies)), \"%\", sep=\"\"))\n",
    "\n",
    "print('======= OOB ERROR RATES =========')\n",
    "oobs <- unlist(lapply(rf, function(model) mean(model$err.rate[, 'OOB']) * 100))\n",
    "print(oobs)\n",
    "print(paste('Mean OOB Error Rate: ', as.character(mean(oobs)), \"%\", sep=\"\"))"
   ]
  },
  {
   "cell_type": "code",
   "execution_count": null,
   "metadata": {},
   "outputs": [],
   "source": [
    "fold_num = 1\n",
    "fold <- folds$folds[[fold_num]]\n",
    "\n",
    "# Extraire les données de test\n",
    "xy_test <- species_data_final[fold[2][[1]], ]\n",
    "xy_test <- na.omit(xy_test@data)\n",
    "\n",
    "xy_train <- species_data_final[fold[1][[1]], ]\n",
    "xy_train <- na.omit(xy_train@data)\n",
    "y_train <- xy_train$Present\n",
    "x_train <- xy_train[2:length(colnames(xy_train))]\n",
    "    \n",
    "# cm <- confusionMatrix(as.factor(xy_test$Present), as.factor(predictions[[fold_num]]))\n",
    "# cm\n",
    "\n",
    "# evaluate(species_data_final[species_data_final$Present == 1,], \n",
    "         # species_data_final[species_data_final$Present == 0,], rf[[fold_num]])\n",
    "\n",
    "rf_p_train <- predict(rf[[fold_num]], type=\"prob\", newdata=xy_test)[,2]\n",
    "rf_pr_train <- prediction(rf_p_train, as.factor(xy_test$Present))\n",
    "r_auc_train1 <- performance(rf_pr_train, measure = \"auc\")@y.values[[1]] \n",
    "r_auc_train1"
   ]
  },
  {
   "cell_type": "code",
   "execution_count": null,
   "metadata": {},
   "outputs": [],
   "source": [
    "# ======== NE MARCHE PAS ===========\n",
    "# predi <- predict(sdm_rf, xy_test, type=\"response\")\n",
    "# perf <- prediction(as.vector(predi), as.factor(xy_test$Present))\n",
    "\n",
    "# 1. Area under curve\n",
    "# auc <-  performance(perf, \"auc\")\n",
    "# auc\n",
    "# \n",
    "# 2. True Positive and Negative Rate\n",
    "# pred3 <- performance(perf, \"tpr\", \"fpr\")\n",
    "\n",
    "# 3. Plot the ROC curve\n",
    "# plot(pred3,main=\"ROC Curve for Random Forest\",col=2,lwd=2)\n",
    "# abline(a=0,b=1,lwd=2,lty=2,col=\"gray\")"
   ]
  }
 ],
 "metadata": {
  "kernelspec": {
   "display_name": "R",
   "language": "R",
   "name": "ir"
  },
  "language_info": {
   "codemirror_mode": "r",
   "file_extension": ".r",
   "mimetype": "text/x-r-source",
   "name": "R",
   "pygments_lexer": "r",
   "version": "3.6.1"
  }
 },
 "nbformat": 4,
 "nbformat_minor": 4
}
