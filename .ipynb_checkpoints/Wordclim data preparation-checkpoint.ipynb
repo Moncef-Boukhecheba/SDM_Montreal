{
 "cells": [
  {
   "cell_type": "markdown",
   "metadata": {},
   "source": [
    "# Préparation des données climatiques WORLDCLIM \n",
    "\n",
    "Ici il s'agit simplement de créer les fichers de données climatiques de WORDCLIM centrées sur Montreal."
   ]
  },
  {
   "cell_type": "code",
   "execution_count": 3,
   "metadata": {},
   "outputs": [],
   "source": [
    "# Importer les bibliothèques nécessaires \n",
    "\n",
    "# Sp : Fournit des classes et des méthodes permettant de représenter et manipuler les données géospatiales\n",
    "library('sp')\n",
    "\n",
    "# Raster : Api haut niveau permettant la lecture / la manipulation des données raster et vecteurs\n",
    "library('raster')\n",
    "\n",
    "# Options de visualisation de dataframes : limiter le nombre de lignes et afficher un maximum de colonnes\n",
    "options(repr.matrix.max.cols=50, repr.matrix.max.rows=20)"
   ]
  },
  {
   "cell_type": "code",
   "execution_count": 9,
   "metadata": {},
   "outputs": [
    {
     "data": {
      "text/html": [
       "TRUE"
      ],
      "text/latex": [
       "TRUE"
      ],
      "text/markdown": [
       "TRUE"
      ],
      "text/plain": [
       "[1] TRUE"
      ]
     },
     "metadata": {},
     "output_type": "display_data"
    }
   ],
   "source": [
    "# le répertoire source contient les fichiers WORLDCLIM\n",
    "source_dir_path <- \"data/wc2.1_30s_bio/\"\n",
    "target_dir_path <- \"data/worldclim_cropped/\"\n",
    "\n",
    "# Créer le dossier cible si il n'existe pas\n",
    "ifelse(!dir.exists(file.path(target_dir_path)), \n",
    "       dir.create(file.path(target_dir_path)), FALSE)\n",
    "\n",
    "# Charger les fichiers de données climatiques WORLDCLIM\n",
    "filenames <- list.files(source_dir_path, full.names=TRUE)\n",
    "\n",
    "# Charger la carte de Montreal (Limites administratives)\n",
    "montreal_map <- shapefile('data/montreal/limadmin/LIMADMIN.shp')\n",
    "\n",
    "# Obtenir le \"carré\" entourant la ville de Montreal (minlong, maxlong, minlat, maxlat)\n",
    "montreal_boundaries <- extent(montreal_map)\n",
    "\n",
    "# Pour chaque fichier...\n",
    "for(filename in filenames){\n",
    "    # Charger le fichier en mémoire\n",
    "    climate_raster <- raster(filename)\n",
    "\n",
    "    # Cropper les données raster\n",
    "    climate_raster <- crop(climate_raster, montreal_boundaries)\n",
    "    \n",
    "    # Nom du fichier : bio_x (ex : wc2.1_30s_bio_1.tif)\n",
    "    file_name <- strsplit(filename, '/')[[1]]\n",
    "    file_name <- file_name[length(file_name)]\n",
    "\n",
    "    # Ajouter la nouvelle feature dans le dataset\n",
    "    writeRaster(climate_raster, paste(target_dir_path, file_name, sep=\"\"), overwrite=TRUE)\n",
    "}"
   ]
  },
  {
   "cell_type": "code",
   "execution_count": null,
   "metadata": {},
   "outputs": [],
   "source": []
  }
 ],
 "metadata": {
  "kernelspec": {
   "display_name": "R",
   "language": "R",
   "name": "ir"
  },
  "language_info": {
   "codemirror_mode": "r",
   "file_extension": ".r",
   "mimetype": "text/x-r-source",
   "name": "R",
   "pygments_lexer": "r",
   "version": "3.6.1"
  }
 },
 "nbformat": 4,
 "nbformat_minor": 4
}
