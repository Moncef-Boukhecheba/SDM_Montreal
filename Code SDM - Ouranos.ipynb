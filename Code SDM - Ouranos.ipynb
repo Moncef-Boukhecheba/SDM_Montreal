{
 "cells": [
  {
   "cell_type": "markdown",
   "metadata": {},
   "source": [
    "# Modèles de distributions d'espèces - Cas des forets urbaines à Montreal\n",
    "\n",
    "## 1 - Introduction \n",
    "Le but de ce projet est de trouver un moyen de prédire efficacement la distribution des différentes espèces d'arbres à travers la région de Montreal, ce qui permetterait aux aménagistes forestiers de s'assurer que les espèces plantées survivent au changement climatique de la région. Ce projet se concentre particulièrement sur les **forets urbaines**.\n",
    "\n",
    "Il sera alors question dans ce notebook de fournir le code capable de créer un **modèle de distribution d'espèces (SDM)** en utilisant des algorithmes **d'apprentissage automatique (Machine Learning)** avec le langage **R**.\n",
    "\n",
    "## 2 - Collecte et traitement des données \n",
    "Pour créer un modèle de distribution d'espèces, on aura besoin de deux types de données : \n",
    "* **Les données d'occurrence :** Ces données relatent l'observation d'une espèce à une localisation (et/ou une date) précise. Ces données peuvent décrire le nombre d'une espèce dans chaque zone, on parlera alors de données *d'abondance*, sinon elles peuvent aussi seulement décrire la *présence et l'absence confirmée* d'une espèce dans la zone. Généralement, même les données contenant des absences confirmées sont rares car elles sont difficiles à produire. Nous trouverons alors plutôt des données *de présence seulement (presence-only data)*, et c'est cela que l'on va utiliser dans ce projet.\n",
    "\n",
    "\n",
    "* **Les données environnementales :** Ces données relatent le climat d'une région donnée en le décrivant avec plusieurs variables environnementales (température annuelle minimale, précipitation maximale par saison...etc.). Ces données séparent généralement la région en plusieurs cellules à la manière d'une grille où chaque cellule contient des valeurs environnementales différentes. \n",
    "\n",
    "### 2.1 - Données d'occurrence :\n",
    "Les données d'occurrence utilisées ici seront les données d'arbres publics à Montreal (voir ce lien : https://donnees.montreal.ca/ville-de-montreal/arbres (Consulté le 03/04/2021)). "
   ]
  },
  {
   "cell_type": "code",
   "execution_count": 1,
   "metadata": {},
   "outputs": [],
   "source": [
    "# Décommenter cette ligne pour installer le package BlockCV (introuvable sur Anaconda)\n",
    "# install.packages('blockCV')"
   ]
  },
  {
   "cell_type": "code",
   "execution_count": 2,
   "metadata": {},
   "outputs": [
    {
     "name": "stderr",
     "output_type": "stream",
     "text": [
      "Registered S3 methods overwritten by 'ggplot2':\n",
      "  method         from \n",
      "  [.quosures     rlang\n",
      "  c.quosures     rlang\n",
      "  print.quosures rlang\n",
      "Registered S3 method overwritten by 'rvest':\n",
      "  method            from\n",
      "  read_xml.response xml2\n",
      "-- Attaching packages --------------------------------------- tidyverse 1.2.1 --\n",
      "v ggplot2 3.1.1       v purrr   0.3.2  \n",
      "v tibble  2.1.1       v dplyr   0.8.0.1\n",
      "v tidyr   0.8.3       v stringr 1.4.0  \n",
      "v readr   1.3.1       v forcats 0.4.0  \n",
      "-- Conflicts ------------------------------------------ tidyverse_conflicts() --\n",
      "x dplyr::filter() masks stats::filter()\n",
      "x dplyr::lag()    masks stats::lag()\n",
      "\n",
      "Attaching package: 'raster'\n",
      "\n",
      "The following object is masked from 'package:dplyr':\n",
      "\n",
      "    select\n",
      "\n",
      "The following object is masked from 'package:tidyr':\n",
      "\n",
      "    extract\n",
      "\n",
      "randomForest 4.6-14\n",
      "Type rfNews() to see new features/changes/bug fixes.\n",
      "\n",
      "Attaching package: 'randomForest'\n",
      "\n",
      "The following object is masked from 'package:dplyr':\n",
      "\n",
      "    combine\n",
      "\n",
      "The following object is masked from 'package:ggplot2':\n",
      "\n",
      "    margin\n",
      "\n",
      "rgdal: version: 1.4-4, (SVN revision 833)\n",
      " Geospatial Data Abstraction Library extensions to R successfully loaded\n",
      " Loaded GDAL runtime: GDAL 2.2.3, released 2017/11/20\n",
      " Path to GDAL shared files: C:/Users/gaming/anaconda3/envs/r_env/Lib/R/library/rgdal/gdal\n",
      " GDAL binary built with GEOS: TRUE \n",
      " Loaded PROJ.4 runtime: Rel. 4.9.3, 15 August 2016, [PJ_VERSION: 493]\n",
      " Path to PROJ.4 shared files: C:/Users/gaming/anaconda3/envs/r_env/Lib/R/library/rgdal/proj\n",
      " Linking to sp version: 1.3-1 \n",
      "Loading required package: lattice\n",
      "\n",
      "Attaching package: 'caret'\n",
      "\n",
      "The following object is masked from 'package:purrr':\n",
      "\n",
      "    lift\n",
      "\n",
      "rgeos version: 0.5-1, (SVN revision 614)\n",
      " GEOS runtime version: 3.6.1-CAPI-1.10.1 \n",
      " Linking to sp version: 1.3-1 \n",
      " Polygon checking: TRUE \n",
      "\n",
      "Warning message:\n",
      "\"package 'blockCV' was built under R version 3.6.3\"Loading required package: gplots\n",
      "\n",
      "Attaching package: 'gplots'\n",
      "\n",
      "The following object is masked from 'package:stats':\n",
      "\n",
      "    lowess\n",
      "\n",
      "corrplot 0.84 loaded\n"
     ]
    }
   ],
   "source": [
    "# Importer les bibliothèques nécessaires \n",
    "\n",
    "# Tidyverse : une bibliothèque populaire de manipulation de données\n",
    "# Elle contient plusieurs autres packages telles que dplyr, readr, ggplot...etc.\n",
    "library('tidyverse')\n",
    "\n",
    "# Sp : Fournit des classes et des méthodes permettant de représenter et manipuler les données géospatiales\n",
    "library('sp')\n",
    "\n",
    "# Raster : Api haut niveau permettant la lecture / la manipulation des données raster et vecteurs\n",
    "library('raster')\n",
    "\n",
    "# RandomForest : Permet la création d'un modèle Random Forest\n",
    "library('randomForest')\n",
    "\n",
    "# RGDAL : Implementation Haut niveau de la bibliothèque publique GDAL\n",
    "library('rgdal')\n",
    "\n",
    "# Caret : Bibliothèque d'évalation des modèles de Machine Learning\n",
    "library('caret')\n",
    "\n",
    "# Conflicted : Affiche les conflits entre les packages si il y en a (lors de l'appel d'une fonction par exemple)\n",
    "library('conflicted')\n",
    "\n",
    "# Rgeos : Est utilisée ici pour créer des polygones utiles à la génération de données de pseudo-absence\n",
    "library('rgeos')\n",
    "\n",
    "# BlockCV : Permet la séparation des données de test/entrainement en utilsant la Block Cross Validation\n",
    "library('blockCV')\n",
    "\n",
    "# Dismo : Bibliothèque très populaire permettant d'implémenter des fonctions et des modèles associés aux SDMs\n",
    "library('dismo')\n",
    "\n",
    "# ROCR : Bibliothèque de génération des courbes ROC\n",
    "library('ROCR')\n",
    "\n",
    "# Corrplot : Afficher les matrices de corrélation\n",
    "library('corrplot')\n",
    "\n",
    "# Options de visualisation de dataframes : limiter le nombre de lignes et afficher un maximum de colonnes\n",
    "options(repr.matrix.max.cols=50, repr.matrix.max.rows=20)"
   ]
  },
  {
   "cell_type": "code",
   "execution_count": 3,
   "metadata": {},
   "outputs": [
    {
     "name": "stderr",
     "output_type": "stream",
     "text": [
      "Parsed with column specification:\n",
      "cols(\n",
      "  .default = col_character(),\n",
      "  EMP_NO = col_double(),\n",
      "  ARROND = col_double(),\n",
      "  Rue = col_logical(),\n",
      "  COTE = col_logical(),\n",
      "  No_civique = col_logical(),\n",
      "  Coord_X = col_double(),\n",
      "  Coord_Y = col_double(),\n",
      "  DHP = col_double(),\n",
      "  Date_releve = col_datetime(format = \"\"),\n",
      "  Date_plantation = col_datetime(format = \"\"),\n",
      "  LOCALISATION = col_logical(),\n",
      "  Longitude = col_double(),\n",
      "  Latitude = col_double()\n",
      ")\n",
      "See spec(...) for full column specifications.\n",
      "Warning message:\n",
      "\"819326 parsing failures.\n",
      "  row          col           expected                                           actual                        file\n",
      "99669 Rue          1/0/T/F/TRUE/FALSE Avenue AdhÃ©mar-Mailhiot                         './data/arbres-publics.csv'\n",
      "99669 COTE         1/0/T/F/TRUE/FALSE E                                                './data/arbres-publics.csv'\n",
      "99669 No_civique   1/0/T/F/TRUE/FALSE 12323                                            './data/arbres-publics.csv'\n",
      "99669 LOCALISATION 1/0/T/F/TRUE/FALSE Devant le 12323, Ã  12 m du dÃ©but de la faÃ§ade './data/arbres-publics.csv'\n",
      "99670 Rue          1/0/T/F/TRUE/FALSE Avenue AdhÃ©mar-Mailhiot                         './data/arbres-publics.csv'\n",
      "..... ............ .................. ................................................ ...........................\n",
      "See problems(...) for more details.\n",
      "\""
     ]
    },
    {
     "data": {
      "text/plain": [
       "   INV_TYPE             EMP_NO           ARROND       ARROND_NOM       \n",
       " Length:318077      Min.   :     2   Min.   : 1.00   Length:318077     \n",
       " Class :character   1st Qu.: 52512   1st Qu.: 3.00   Class :character  \n",
       " Mode  :character   Median :102232   Median : 7.00   Mode  :character  \n",
       "                    Mean   :119664   Mean   : 8.89                     \n",
       "                    3rd Qu.:179657   3rd Qu.:12.00                     \n",
       "                    Max.   :447625   Max.   :33.00                     \n",
       "                                                                       \n",
       "   Rue            COTE         No_civique      Emplacement       \n",
       " Mode:logical   Mode:logical   Mode :logical   Length:318077     \n",
       " NA's:318077    NA's:318077    FALSE:6876      Class :character  \n",
       "                               TRUE :95        Mode  :character  \n",
       "                               NA's :311106                      \n",
       "                                                                 \n",
       "                                                                 \n",
       "                                                                 \n",
       "    Coord_X           Coord_Y           SIGLE           Essence_latin     \n",
       " Min.   :   3007   Min.   :   5048   Length:318077      Length:318077     \n",
       " 1st Qu.: 293691   1st Qu.:5038387   Class :character   Class :character  \n",
       " Median : 297111   Median :5043560   Mode  :character   Mode  :character  \n",
       " Mean   : 295873   Mean   :5040844                                        \n",
       " 3rd Qu.: 299580   3rd Qu.:5047200                                        \n",
       " Max.   :5047578   Max.   :8030579                                        \n",
       "                   NA's   :4                                              \n",
       "  Essence_fr        ESSENCE_ANG             DHP       \n",
       " Length:318077      Length:318077      Min.   :  0.0  \n",
       " Class :character   Class :character   1st Qu.:  7.0  \n",
       " Mode  :character   Mode  :character   Median : 23.0  \n",
       "                                       Mean   : 27.5  \n",
       "                                       3rd Qu.: 41.0  \n",
       "                                       Max.   :591.0  \n",
       "                                       NA's   :672    \n",
       "  Date_releve                  Date_plantation               LOCALISATION  \n",
       " Min.   :0013-05-05 00:00:00   Min.   :0013-05-05 00:00:00   Mode:logical  \n",
       " 1st Qu.:2013-06-25 00:00:00   1st Qu.:1993-05-01 00:00:00   NA's:318077   \n",
       " Median :2016-11-12 00:00:00   Median :2007-12-31 00:00:00                 \n",
       " Mean   :2015-02-12 11:14:11   Mean   :2002-02-26 06:46:28                 \n",
       " 3rd Qu.:2018-08-16 00:00:00   3rd Qu.:2016-06-15 00:00:00                 \n",
       " Max.   :5017-05-05 00:00:00   Max.   :2021-02-22 00:00:00                 \n",
       " NA's   :672                   NA's   :167150                              \n",
       "  CODE_PARC           NOM_PARC           Longitude         Latitude       \n",
       " Length:318077      Length:318077      Min.   :-77.36   Min.   : 0.04566  \n",
       " Class :character   Class :character   1st Qu.:-73.64   1st Qu.:45.48524  \n",
       " Mode  :character   Mode  :character   Median :-73.60   Median :45.53187  \n",
       "                                       Mean   :-73.61   Mean   :45.50730  \n",
       "                                       3rd Qu.:-73.57   3rd Qu.:45.56468  \n",
       "                                       Max.   :-24.29   Max.   :72.35156  \n",
       "                                       NA's   :4        NA's   :4         "
      ]
     },
     "metadata": {},
     "output_type": "display_data"
    }
   ],
   "source": [
    "# Lecture du fichier CSV\n",
    "occurrence_data_raw <- read_csv('./data/arbres-publics.csv')\n",
    "\n",
    "# Affichage du résultat\n",
    "summary(occurrence_data_raw)"
   ]
  },
  {
   "cell_type": "markdown",
   "metadata": {},
   "source": [
    "Nous ne voulons garder que les informations les plus importantes. Ici ces informations sont l'espèce (le nom latin car il est plus précis), la Latitude, la Longitude et la valeur cible (la classe).\n",
    "\n",
    "On crée la classe nous-mêmes. Ici la classe sera l'attribut \"present\" qui représente la présence d'une espèce. Elle sera initialisée à 1 pour tous les enregistrements."
   ]
  },
  {
   "cell_type": "code",
   "execution_count": 4,
   "metadata": {},
   "outputs": [],
   "source": [
    "# Création de la classe \n",
    "occurrence_data_raw$Present <- 1\n",
    "\n",
    "# Selection des attributs pertinents\n",
    "occurrence_data <- occurrence_data_raw %>% dplyr::select('Essence_latin', 'Latitude', 'Longitude', 'Present')"
   ]
  },
  {
   "cell_type": "code",
   "execution_count": 5,
   "metadata": {},
   "outputs": [
    {
     "data": {
      "text/html": [
       "<table>\n",
       "<thead><tr><th scope=col>Essence_latin</th><th scope=col>Latitude</th><th scope=col>Longitude</th><th scope=col>Present</th></tr></thead>\n",
       "<tbody>\n",
       "\t<tr><td>Gleditsia triacanthos 'Skyline' </td><td>45.53515                        </td><td>-73.71551                       </td><td>1                               </td></tr>\n",
       "\t<tr><td>Gleditsia triacanthos 'Skyline' </td><td>45.53522                        </td><td>-73.71559                       </td><td>1                               </td></tr>\n",
       "\t<tr><td>Gymnocladus dioicus             </td><td>45.53511                        </td><td>-73.71566                       </td><td>1                               </td></tr>\n",
       "\t<tr><td>Fraxinus nigra 'Fall Gold'      </td><td>45.53562                        </td><td>-73.71530                       </td><td>1                               </td></tr>\n",
       "\t<tr><td>Quercus rubra                   </td><td>45.53560                        </td><td>-73.71560                       </td><td>1                               </td></tr>\n",
       "\t<tr><td>Quercus macrocarpa              </td><td>45.53582                        </td><td>-73.71571                       </td><td>1                               </td></tr>\n",
       "\t<tr><td>Acer saccharinum 'Montréal'     </td><td>45.53582                        </td><td>-73.71536                       </td><td>1                               </td></tr>\n",
       "\t<tr><td>Acer platanoides 'Emerald Queen'</td><td>45.53619                        </td><td>-73.71556                       </td><td>1                               </td></tr>\n",
       "\t<tr><td>Thuja occidentalis 'Nigra'      </td><td>45.53635                        </td><td>-73.71555                       </td><td>1                               </td></tr>\n",
       "\t<tr><td>Thuja occidentalis 'Nigra'      </td><td>45.53628                        </td><td>-73.71552                       </td><td>1                               </td></tr>\n",
       "\t<tr><td>...</td><td>...</td><td>...</td><td>...</td></tr>\n",
       "\t<tr><td>Gymnocladus dioicus</td><td>45.53093           </td><td>-73.66800          </td><td>1                  </td></tr>\n",
       "\t<tr><td>Gymnocladus dioicus</td><td>45.53103           </td><td>-73.66803          </td><td>1                  </td></tr>\n",
       "\t<tr><td>Gymnocladus dioicus</td><td>45.53122           </td><td>-73.66814          </td><td>1                  </td></tr>\n",
       "\t<tr><td>Gymnocladus dioicus</td><td>45.53131           </td><td>-73.66820          </td><td>1                  </td></tr>\n",
       "\t<tr><td>Gymnocladus dioicus</td><td>45.53138           </td><td>-73.66827          </td><td>1                  </td></tr>\n",
       "\t<tr><td>Ulmus americana    </td><td>45.63918           </td><td>-73.56036          </td><td>1                  </td></tr>\n",
       "\t<tr><td>Quercus macrocarpa </td><td>45.63918           </td><td>-73.56041          </td><td>1                  </td></tr>\n",
       "\t<tr><td>Ulmus americana    </td><td>45.63918           </td><td>-73.56033          </td><td>1                  </td></tr>\n",
       "\t<tr><td>Ulmus americana    </td><td>45.63918           </td><td>-73.56033          </td><td>1                  </td></tr>\n",
       "\t<tr><td>Ulmus americana    </td><td>45.63918           </td><td>-73.56029          </td><td>1                  </td></tr>\n",
       "</tbody>\n",
       "</table>\n"
      ],
      "text/latex": [
       "\\begin{tabular}{r|llll}\n",
       " Essence\\_latin & Latitude & Longitude & Present\\\\\n",
       "\\hline\n",
       "\t Gleditsia triacanthos 'Skyline'  & 45.53515                         & -73.71551                        & 1                               \\\\\n",
       "\t Gleditsia triacanthos 'Skyline'  & 45.53522                         & -73.71559                        & 1                               \\\\\n",
       "\t Gymnocladus dioicus              & 45.53511                         & -73.71566                        & 1                               \\\\\n",
       "\t Fraxinus nigra 'Fall Gold'       & 45.53562                         & -73.71530                        & 1                               \\\\\n",
       "\t Quercus rubra                    & 45.53560                         & -73.71560                        & 1                               \\\\\n",
       "\t Quercus macrocarpa               & 45.53582                         & -73.71571                        & 1                               \\\\\n",
       "\t Acer saccharinum 'Montréal'      & 45.53582                         & -73.71536                        & 1                               \\\\\n",
       "\t Acer platanoides 'Emerald Queen' & 45.53619                         & -73.71556                        & 1                               \\\\\n",
       "\t Thuja occidentalis 'Nigra'       & 45.53635                         & -73.71555                        & 1                               \\\\\n",
       "\t Thuja occidentalis 'Nigra'       & 45.53628                         & -73.71552                        & 1                               \\\\\n",
       "\t ... & ... & ... & ...\\\\\n",
       "\t Gymnocladus dioicus & 45.53093            & -73.66800           & 1                  \\\\\n",
       "\t Gymnocladus dioicus & 45.53103            & -73.66803           & 1                  \\\\\n",
       "\t Gymnocladus dioicus & 45.53122            & -73.66814           & 1                  \\\\\n",
       "\t Gymnocladus dioicus & 45.53131            & -73.66820           & 1                  \\\\\n",
       "\t Gymnocladus dioicus & 45.53138            & -73.66827           & 1                  \\\\\n",
       "\t Ulmus americana     & 45.63918            & -73.56036           & 1                  \\\\\n",
       "\t Quercus macrocarpa  & 45.63918            & -73.56041           & 1                  \\\\\n",
       "\t Ulmus americana     & 45.63918            & -73.56033           & 1                  \\\\\n",
       "\t Ulmus americana     & 45.63918            & -73.56033           & 1                  \\\\\n",
       "\t Ulmus americana     & 45.63918            & -73.56029           & 1                  \\\\\n",
       "\\end{tabular}\n"
      ],
      "text/markdown": [
       "\n",
       "| Essence_latin | Latitude | Longitude | Present |\n",
       "|---|---|---|---|\n",
       "| Gleditsia triacanthos 'Skyline'  | 45.53515                         | -73.71551                        | 1                                |\n",
       "| Gleditsia triacanthos 'Skyline'  | 45.53522                         | -73.71559                        | 1                                |\n",
       "| Gymnocladus dioicus              | 45.53511                         | -73.71566                        | 1                                |\n",
       "| Fraxinus nigra 'Fall Gold'       | 45.53562                         | -73.71530                        | 1                                |\n",
       "| Quercus rubra                    | 45.53560                         | -73.71560                        | 1                                |\n",
       "| Quercus macrocarpa               | 45.53582                         | -73.71571                        | 1                                |\n",
       "| Acer saccharinum 'Montréal'      | 45.53582                         | -73.71536                        | 1                                |\n",
       "| Acer platanoides 'Emerald Queen' | 45.53619                         | -73.71556                        | 1                                |\n",
       "| Thuja occidentalis 'Nigra'       | 45.53635                         | -73.71555                        | 1                                |\n",
       "| Thuja occidentalis 'Nigra'       | 45.53628                         | -73.71552                        | 1                                |\n",
       "| ... | ... | ... | ... |\n",
       "| Gymnocladus dioicus | 45.53093            | -73.66800           | 1                   |\n",
       "| Gymnocladus dioicus | 45.53103            | -73.66803           | 1                   |\n",
       "| Gymnocladus dioicus | 45.53122            | -73.66814           | 1                   |\n",
       "| Gymnocladus dioicus | 45.53131            | -73.66820           | 1                   |\n",
       "| Gymnocladus dioicus | 45.53138            | -73.66827           | 1                   |\n",
       "| Ulmus americana     | 45.63918            | -73.56036           | 1                   |\n",
       "| Quercus macrocarpa  | 45.63918            | -73.56041           | 1                   |\n",
       "| Ulmus americana     | 45.63918            | -73.56033           | 1                   |\n",
       "| Ulmus americana     | 45.63918            | -73.56033           | 1                   |\n",
       "| Ulmus americana     | 45.63918            | -73.56029           | 1                   |\n",
       "\n"
      ],
      "text/plain": [
       "       Essence_latin                    Latitude Longitude Present\n",
       "1      Gleditsia triacanthos 'Skyline'  45.53515 -73.71551 1      \n",
       "2      Gleditsia triacanthos 'Skyline'  45.53522 -73.71559 1      \n",
       "3      Gymnocladus dioicus              45.53511 -73.71566 1      \n",
       "4      Fraxinus nigra 'Fall Gold'       45.53562 -73.71530 1      \n",
       "5      Quercus rubra                    45.53560 -73.71560 1      \n",
       "6      Quercus macrocarpa               45.53582 -73.71571 1      \n",
       "7      Acer saccharinum 'Montréal'      45.53582 -73.71536 1      \n",
       "8      Acer platanoides 'Emerald Queen' 45.53619 -73.71556 1      \n",
       "9      Thuja occidentalis 'Nigra'       45.53635 -73.71555 1      \n",
       "10     Thuja occidentalis 'Nigra'       45.53628 -73.71552 1      \n",
       "...    ...                              ...      ...       ...    \n",
       "318068 Gymnocladus dioicus              45.53093 -73.66800 1      \n",
       "318069 Gymnocladus dioicus              45.53103 -73.66803 1      \n",
       "318070 Gymnocladus dioicus              45.53122 -73.66814 1      \n",
       "318071 Gymnocladus dioicus              45.53131 -73.66820 1      \n",
       "318072 Gymnocladus dioicus              45.53138 -73.66827 1      \n",
       "318073 Ulmus americana                  45.63918 -73.56036 1      \n",
       "318074 Quercus macrocarpa               45.63918 -73.56041 1      \n",
       "318075 Ulmus americana                  45.63918 -73.56033 1      \n",
       "318076 Ulmus americana                  45.63918 -73.56033 1      \n",
       "318077 Ulmus americana                  45.63918 -73.56029 1      "
      ]
     },
     "metadata": {},
     "output_type": "display_data"
    }
   ],
   "source": [
    "occurrence_data"
   ]
  },
  {
   "cell_type": "markdown",
   "metadata": {},
   "source": [
    "Il est maintenant temps de nettoyer nos données. \n",
    "\n",
    "Premièrement, on recherche les enregistrements avec des valeurs manquantes (dans les attributs pertinents) et on les enlève.\n",
    "Puis on enlève les doublons dans les données si il y en a."
   ]
  },
  {
   "cell_type": "code",
   "execution_count": 6,
   "metadata": {},
   "outputs": [
    {
     "data": {
      "text/plain": [
       " Essence_latin         Latitude          Longitude         Present \n",
       " Length:318077      Min.   : 0.04566   Min.   :-77.36   Min.   :1  \n",
       " Class :character   1st Qu.:45.48524   1st Qu.:-73.64   1st Qu.:1  \n",
       " Mode  :character   Median :45.53187   Median :-73.60   Median :1  \n",
       "                    Mean   :45.50730   Mean   :-73.61   Mean   :1  \n",
       "                    3rd Qu.:45.56468   3rd Qu.:-73.57   3rd Qu.:1  \n",
       "                    Max.   :72.35156   Max.   :-24.29   Max.   :1  \n",
       "                    NA's   :4          NA's   :4                   "
      ]
     },
     "metadata": {},
     "output_type": "display_data"
    }
   ],
   "source": [
    "summary(occurrence_data)"
   ]
  },
  {
   "cell_type": "code",
   "execution_count": 7,
   "metadata": {},
   "outputs": [
    {
     "data": {
      "text/html": [
       "'Nombre de lignes avec valeurs manquantes enlevées : 4'"
      ],
      "text/latex": [
       "'Nombre de lignes avec valeurs manquantes enlevées : 4'"
      ],
      "text/markdown": [
       "'Nombre de lignes avec valeurs manquantes enlevées : 4'"
      ],
      "text/plain": [
       "[1] \"Nombre de lignes avec valeurs manquantes enlevées : 4\""
      ]
     },
     "metadata": {},
     "output_type": "display_data"
    },
    {
     "data": {
      "text/html": [
       "'Nombre de lignes doublons enlevées : 1587'"
      ],
      "text/latex": [
       "'Nombre de lignes doublons enlevées : 1587'"
      ],
      "text/markdown": [
       "'Nombre de lignes doublons enlevées : 1587'"
      ],
      "text/plain": [
       "[1] \"Nombre de lignes doublons enlevées : 1587\""
      ]
     },
     "metadata": {},
     "output_type": "display_data"
    }
   ],
   "source": [
    "# ===== 1. Valeurs manquantes =======\n",
    "before_count <- count(occurrence_data)\n",
    "occurrence_data <- occurrence_data %>% dplyr::filter((!is.na(Longitude) | Longitude == 0) & !is.na(Latitude) & !is.na(Essence_latin))\n",
    "after_count <- count(occurrence_data)\n",
    "\n",
    "# Afficher le nombre de lignes supprimées\n",
    "sprintf(\"Nombre de lignes avec valeurs manquantes enlevées : %d\", before_count$n - after_count$n)\n",
    "\n",
    "# ===== 2. Enregistrements doublons =======\n",
    "before_count <- count(occurrence_data)\n",
    "occurrence_data <- occurrence_data %>% dplyr::distinct()\n",
    "after_count <- count(occurrence_data)\n",
    "\n",
    "# Afficher le nombre de lignes supprimées\n",
    "sprintf(\"Nombre de lignes doublons enlevées : %d\", before_count$n - after_count$n)"
   ]
  },
  {
   "cell_type": "markdown",
   "metadata": {},
   "source": [
    "**Note : Il sera aussi important de gérer l'autocorrelation spatiale**\n",
    "\n",
    "Il est important à noter que cette base de données contient des enregistrements de plusieurs espèces différentes et les modèles de distribution d'espèces sont utilisées pour modéliser une espèce étudiée à la fois. Nous devons donc séparer les enregistrements par espèces.\n",
    "\n",
    "**Note : dans cette première version, on va tester le modèle avec une seule espèce, à savoir l'espèce la plus présente dans les données :**"
   ]
  },
  {
   "cell_type": "code",
   "execution_count": 8,
   "metadata": {
    "scrolled": true
   },
   "outputs": [
    {
     "data": {
      "text/html": [
       "<table>\n",
       "<thead><tr><th scope=col>Essence_latin</th><th scope=col>Latitude</th><th scope=col>Longitude</th><th scope=col>Present</th></tr></thead>\n",
       "<tbody>\n",
       "\t<tr><td>Acer saccharinum</td><td>45.54076        </td><td>-73.69629       </td><td>1               </td></tr>\n",
       "\t<tr><td>Acer saccharinum</td><td>45.54860        </td><td>-73.65310       </td><td>1               </td></tr>\n",
       "\t<tr><td>Acer saccharinum</td><td>45.54869        </td><td>-73.65331       </td><td>1               </td></tr>\n",
       "\t<tr><td>Acer saccharinum</td><td>45.54880        </td><td>-73.65326       </td><td>1               </td></tr>\n",
       "\t<tr><td>Acer saccharinum</td><td>45.53700        </td><td>-73.71862       </td><td>1               </td></tr>\n",
       "\t<tr><td>Acer saccharinum</td><td>45.53703        </td><td>-73.71842       </td><td>1               </td></tr>\n",
       "\t<tr><td>Acer saccharinum</td><td>45.52495        </td><td>-73.71480       </td><td>1               </td></tr>\n",
       "\t<tr><td>Acer saccharinum</td><td>45.54861        </td><td>-73.63966       </td><td>1               </td></tr>\n",
       "\t<tr><td>Acer saccharinum</td><td>45.55094        </td><td>-73.63016       </td><td>1               </td></tr>\n",
       "\t<tr><td>Acer saccharinum</td><td>45.57792        </td><td>-73.64505       </td><td>1               </td></tr>\n",
       "\t<tr><td>...</td><td>...</td><td>...</td><td>...</td></tr>\n",
       "\t<tr><td>Acer saccharinum</td><td>45.51846        </td><td>-73.72528       </td><td>1               </td></tr>\n",
       "\t<tr><td>Acer saccharinum</td><td>45.51851        </td><td>-73.72515       </td><td>1               </td></tr>\n",
       "\t<tr><td>Acer saccharinum</td><td>45.51841        </td><td>-73.72541       </td><td>1               </td></tr>\n",
       "\t<tr><td>Acer saccharinum</td><td>45.51836        </td><td>-73.72553       </td><td>1               </td></tr>\n",
       "\t<tr><td>Acer saccharinum</td><td>45.51827        </td><td>-73.72578       </td><td>1               </td></tr>\n",
       "\t<tr><td>Acer saccharinum</td><td>45.51825        </td><td>-73.72589       </td><td>1               </td></tr>\n",
       "\t<tr><td>Acer saccharinum</td><td>45.51841        </td><td>-73.72620       </td><td>1               </td></tr>\n",
       "\t<tr><td>Acer saccharinum</td><td>45.52230        </td><td>-73.69367       </td><td>1               </td></tr>\n",
       "\t<tr><td>Acer saccharinum</td><td>45.52237        </td><td>-73.69377       </td><td>1               </td></tr>\n",
       "\t<tr><td>Acer saccharinum</td><td>45.52167        </td><td>-73.69466       </td><td>1               </td></tr>\n",
       "</tbody>\n",
       "</table>\n"
      ],
      "text/latex": [
       "\\begin{tabular}{r|llll}\n",
       " Essence\\_latin & Latitude & Longitude & Present\\\\\n",
       "\\hline\n",
       "\t Acer saccharinum & 45.54076         & -73.69629        & 1               \\\\\n",
       "\t Acer saccharinum & 45.54860         & -73.65310        & 1               \\\\\n",
       "\t Acer saccharinum & 45.54869         & -73.65331        & 1               \\\\\n",
       "\t Acer saccharinum & 45.54880         & -73.65326        & 1               \\\\\n",
       "\t Acer saccharinum & 45.53700         & -73.71862        & 1               \\\\\n",
       "\t Acer saccharinum & 45.53703         & -73.71842        & 1               \\\\\n",
       "\t Acer saccharinum & 45.52495         & -73.71480        & 1               \\\\\n",
       "\t Acer saccharinum & 45.54861         & -73.63966        & 1               \\\\\n",
       "\t Acer saccharinum & 45.55094         & -73.63016        & 1               \\\\\n",
       "\t Acer saccharinum & 45.57792         & -73.64505        & 1               \\\\\n",
       "\t ... & ... & ... & ...\\\\\n",
       "\t Acer saccharinum & 45.51846         & -73.72528        & 1               \\\\\n",
       "\t Acer saccharinum & 45.51851         & -73.72515        & 1               \\\\\n",
       "\t Acer saccharinum & 45.51841         & -73.72541        & 1               \\\\\n",
       "\t Acer saccharinum & 45.51836         & -73.72553        & 1               \\\\\n",
       "\t Acer saccharinum & 45.51827         & -73.72578        & 1               \\\\\n",
       "\t Acer saccharinum & 45.51825         & -73.72589        & 1               \\\\\n",
       "\t Acer saccharinum & 45.51841         & -73.72620        & 1               \\\\\n",
       "\t Acer saccharinum & 45.52230         & -73.69367        & 1               \\\\\n",
       "\t Acer saccharinum & 45.52237         & -73.69377        & 1               \\\\\n",
       "\t Acer saccharinum & 45.52167         & -73.69466        & 1               \\\\\n",
       "\\end{tabular}\n"
      ],
      "text/markdown": [
       "\n",
       "| Essence_latin | Latitude | Longitude | Present |\n",
       "|---|---|---|---|\n",
       "| Acer saccharinum | 45.54076         | -73.69629        | 1                |\n",
       "| Acer saccharinum | 45.54860         | -73.65310        | 1                |\n",
       "| Acer saccharinum | 45.54869         | -73.65331        | 1                |\n",
       "| Acer saccharinum | 45.54880         | -73.65326        | 1                |\n",
       "| Acer saccharinum | 45.53700         | -73.71862        | 1                |\n",
       "| Acer saccharinum | 45.53703         | -73.71842        | 1                |\n",
       "| Acer saccharinum | 45.52495         | -73.71480        | 1                |\n",
       "| Acer saccharinum | 45.54861         | -73.63966        | 1                |\n",
       "| Acer saccharinum | 45.55094         | -73.63016        | 1                |\n",
       "| Acer saccharinum | 45.57792         | -73.64505        | 1                |\n",
       "| ... | ... | ... | ... |\n",
       "| Acer saccharinum | 45.51846         | -73.72528        | 1                |\n",
       "| Acer saccharinum | 45.51851         | -73.72515        | 1                |\n",
       "| Acer saccharinum | 45.51841         | -73.72541        | 1                |\n",
       "| Acer saccharinum | 45.51836         | -73.72553        | 1                |\n",
       "| Acer saccharinum | 45.51827         | -73.72578        | 1                |\n",
       "| Acer saccharinum | 45.51825         | -73.72589        | 1                |\n",
       "| Acer saccharinum | 45.51841         | -73.72620        | 1                |\n",
       "| Acer saccharinum | 45.52230         | -73.69367        | 1                |\n",
       "| Acer saccharinum | 45.52237         | -73.69377        | 1                |\n",
       "| Acer saccharinum | 45.52167         | -73.69466        | 1                |\n",
       "\n"
      ],
      "text/plain": [
       "      Essence_latin    Latitude Longitude Present\n",
       "1     Acer saccharinum 45.54076 -73.69629 1      \n",
       "2     Acer saccharinum 45.54860 -73.65310 1      \n",
       "3     Acer saccharinum 45.54869 -73.65331 1      \n",
       "4     Acer saccharinum 45.54880 -73.65326 1      \n",
       "5     Acer saccharinum 45.53700 -73.71862 1      \n",
       "6     Acer saccharinum 45.53703 -73.71842 1      \n",
       "7     Acer saccharinum 45.52495 -73.71480 1      \n",
       "8     Acer saccharinum 45.54861 -73.63966 1      \n",
       "9     Acer saccharinum 45.55094 -73.63016 1      \n",
       "10    Acer saccharinum 45.57792 -73.64505 1      \n",
       "...   ...              ...      ...       ...    \n",
       "33042 Acer saccharinum 45.51846 -73.72528 1      \n",
       "33043 Acer saccharinum 45.51851 -73.72515 1      \n",
       "33044 Acer saccharinum 45.51841 -73.72541 1      \n",
       "33045 Acer saccharinum 45.51836 -73.72553 1      \n",
       "33046 Acer saccharinum 45.51827 -73.72578 1      \n",
       "33047 Acer saccharinum 45.51825 -73.72589 1      \n",
       "33048 Acer saccharinum 45.51841 -73.72620 1      \n",
       "33049 Acer saccharinum 45.52230 -73.69367 1      \n",
       "33050 Acer saccharinum 45.52237 -73.69377 1      \n",
       "33051 Acer saccharinum 45.52167 -73.69466 1      "
      ]
     },
     "metadata": {},
     "output_type": "display_data"
    }
   ],
   "source": [
    "# !!!!!!!! CODE DE TEST !!!!!!!!!\n",
    "# Identifier et tirer l'espèce la plus présente dans les données d'occurrence\n",
    "species_counts <- occurrence_data %>% count(Essence_latin, sort=TRUE)\n",
    "most_found_species <- slice(species_counts, 1)$Essence_latin\n",
    "species_data <- occurrence_data %>% dplyr::filter(Essence_latin==most_found_species)\n",
    "species_data"
   ]
  },
  {
   "cell_type": "code",
   "execution_count": 9,
   "metadata": {},
   "outputs": [],
   "source": [
    "# Enlever le nom de l'espèce de la dataframe\n",
    "species_data <- species_data %>% dplyr::select('Longitude', 'Latitude', 'Present')"
   ]
  },
  {
   "cell_type": "markdown",
   "metadata": {},
   "source": [
    "Affichons ces données sur une carte, pour cela nous allons utiliser la fonction plot (dont le comportement change grâce à la bibliothèque \"sf\").\n",
    "\n",
    "Nous allons avoir besoin aussi d'une carte du monde sur laquelle dessiner les points. Nous utilisons ici une carte de la ressource publique *Natural Earth* (ref : https://www.naturalearthdata.com/ (consulté le 06/04/2021))."
   ]
  },
  {
   "cell_type": "code",
   "execution_count": 10,
   "metadata": {},
   "outputs": [],
   "source": [
    "# Carte du monde avec les bordures des villes / provinces dans chaque pays \n",
    "world_map <- shapefile(\"data/natural_earth_vector/10m_cultural/ne_10m_admin_1_states_provinces.shp\")"
   ]
  },
  {
   "cell_type": "code",
   "execution_count": 11,
   "metadata": {},
   "outputs": [],
   "source": [
    "# Créer une fonction pour dessiner les points d'occurrence sur la carte du monde\n",
    "plot_species_data_on_map <- function(species_data, background_map=world_map, plot_label=\"\", \n",
    "                                     col=\"dark green\", pch=20, cex=0.1, extent=NULL, ...){\n",
    "    # Calculer l'extent si il est NULL\n",
    "    # Ici l'extent est le \"carré\" entourant tous les points de notre dataset (minlong, maxlong, minlat, maxlat)\n",
    "    if (is.null(extent)){\n",
    "        # Si les données sont sous forme de SpatialPoints, \n",
    "        # utiliser la fonction extent pour extraire l'extent, sinon le calculer manuellement\n",
    "        if (class(species_data) == 'SpatialPoints'){\n",
    "            extent <- extent(species_data)\n",
    "        } else{\n",
    "            extent <- c(min(species_data$Longitude), max(species_data$Longitude), \n",
    "                min(species_data$Latitude), max(species_data$Latitude))\n",
    "        }\n",
    "    }\n",
    "    \n",
    "    # Reprojeter les données d'occurrence\n",
    "    if (!is.na(crs(species_data))){\n",
    "        species_data <- spTransform(species_data, crs(background_map))\n",
    "    }\n",
    "        \n",
    "    # Afficher la carte background\n",
    "    plot(background_map, xlim=c(extent[1], extent[2]), \n",
    "         ylim=c(extent[3], extent[4]), col=\"light gray\", \n",
    "           xlab=\"longitude\", ylab=\"latitude\", main=plot_label)\n",
    "    \n",
    "    # Dessiner les points sur la carte\n",
    "    if (class(species_data) == 'SpatialPoints'){\n",
    "        points(species_data, col=col, pch=pch, cex=cex)\n",
    "    } else {\n",
    "        points(species_data$Longitude, species_data$Latitude, col=col, pch=pch, cex=cex)\n",
    "    }\n",
    "    \n",
    "    box()\n",
    "}"
   ]
  },
  {
   "cell_type": "code",
   "execution_count": 12,
   "metadata": {},
   "outputs": [
    {
     "name": "stderr",
     "output_type": "stream",
     "text": [
      "Warning message in if (class(species_data) == \"SpatialPoints\") {:\n",
      "\"la condition a une longueur > 1 et seul le premier élément est utilisé\"Warning message in if (class(x) == \"character\") {:\n",
      "\"la condition a une longueur > 1 et seul le premier élément est utilisé\"Warning message in if (class(x) != \"CRS\") {:\n",
      "\"la condition a une longueur > 1 et seul le premier élément est utilisé\"Warning message in if (class(species_data) == \"SpatialPoints\") {:\n",
      "\"la condition a une longueur > 1 et seul le premier élément est utilisé\""
     ]
    },
    {
     "data": {
      "image/png": "[encoded data removed]",
      "text/plain": [
       "Plot with title \"\""
      ]
     },
     "metadata": {},
     "output_type": "display_data"
    }
   ],
   "source": [
    "# Afficher la carte\n",
    "plot_species_data_on_map(species_data, cex=2.5)\n",
    "\n",
    "# Afficher un cadre entourant le graphe\n",
    "box()"
   ]
  },
  {
   "cell_type": "markdown",
   "metadata": {},
   "source": [
    "Nous pouvons remarquer que certains points (dont la taille est exagérée ici) ont des coordonnées incohérentes. Il se pourrait que ce soit une simple faute de frappe ou une autre erreur.\n",
    "\n",
    "Avant de décider quoi faire pour ces données, nous allons devoir afficher ces données. Pour se faire nous allons utiliser une carte de Montreal plus précise. C'est la carte des limites administratives de la ville (trouvée dans ce lien https://donnees.montreal.ca/ville-de-montreal/polygones-arrondissements (consulté le 13/04/2021)) : "
   ]
  },
  {
   "cell_type": "code",
   "execution_count": 13,
   "metadata": {},
   "outputs": [
    {
     "data": {
      "text/html": [
       "<table>\n",
       "<thead><tr><th scope=col>Longitude</th><th scope=col>Latitude</th><th scope=col>Present</th></tr></thead>\n",
       "<tbody>\n",
       "\t<tr><td>-77.01614</td><td>45.497951</td><td>1        </td></tr>\n",
       "\t<tr><td>-73.63066</td><td> 2.625368</td><td>1        </td></tr>\n",
       "\t<tr><td>-73.63056</td><td> 2.625469</td><td>1        </td></tr>\n",
       "\t<tr><td>-77.01803</td><td>45.372684</td><td>1        </td></tr>\n",
       "</tbody>\n",
       "</table>\n"
      ],
      "text/latex": [
       "\\begin{tabular}{r|lll}\n",
       " Longitude & Latitude & Present\\\\\n",
       "\\hline\n",
       "\t -77.01614 & 45.497951 & 1        \\\\\n",
       "\t -73.63066 &  2.625368 & 1        \\\\\n",
       "\t -73.63056 &  2.625469 & 1        \\\\\n",
       "\t -77.01803 & 45.372684 & 1        \\\\\n",
       "\\end{tabular}\n"
      ],
      "text/markdown": [
       "\n",
       "| Longitude | Latitude | Present |\n",
       "|---|---|---|\n",
       "| -77.01614 | 45.497951 | 1         |\n",
       "| -73.63066 |  2.625368 | 1         |\n",
       "| -73.63056 |  2.625469 | 1         |\n",
       "| -77.01803 | 45.372684 | 1         |\n",
       "\n"
      ],
      "text/plain": [
       "  Longitude Latitude  Present\n",
       "1 -77.01614 45.497951 1      \n",
       "2 -73.63066  2.625368 1      \n",
       "3 -73.63056  2.625469 1      \n",
       "4 -77.01803 45.372684 1      "
      ]
     },
     "metadata": {},
     "output_type": "display_data"
    }
   ],
   "source": [
    "# Charger la carte de Montreal (Limites administratives)\n",
    "montreal_map <- shapefile('data/montreal/limadmin/LIMADMIN.shp')\n",
    "\n",
    "# Obtenir le \"carré\" entourant la ville de Montreal (minlong, maxlong, minlat, maxlat)\n",
    "montreal_boundaries <- extent(montreal_map)\n",
    "\n",
    "# On considére les données comme étant des anomalies si ces données ne sont pas dans les limites de la ville\n",
    "anomalies <- species_data %>% dplyr::filter((Longitude < montreal_boundaries[1]) | (Longitude > montreal_boundaries[2]) |\n",
    "                                            (Latitude < montreal_boundaries[3]) | (Latitude > montreal_boundaries[4]))\n",
    "anomalies"
   ]
  },
  {
   "cell_type": "markdown",
   "metadata": {},
   "source": [
    "Tant que le nombre de points est petit (les supprimer ne rend pas l'espèce sous-représentée), on peut juste les éliminer."
   ]
  },
  {
   "cell_type": "code",
   "execution_count": 14,
   "metadata": {},
   "outputs": [],
   "source": [
    "# Transformer les données d'occurrence en SpatialPointsDataFrame\n",
    "species_data <- SpatialPointsDataFrame(data=species_data[3], coords=species_data[1:2])\n",
    "\n",
    "# Filtrer les données incohérentes\n",
    "species_data <- crop(species_data, montreal_boundaries)"
   ]
  },
  {
   "cell_type": "code",
   "execution_count": 15,
   "metadata": {},
   "outputs": [
    {
     "data": {
      "image/png": "[encoded data removed]",
      "text/plain": [
       "Plot with title \"Points d'occurrences - Carte du monde\""
      ]
     },
     "metadata": {},
     "output_type": "display_data"
    }
   ],
   "source": [
    "# Afficher les points sur la carte du monde\n",
    "plot_species_data_on_map(species_data, plot_label=\"Points d'occurrences - Carte du monde\")"
   ]
  },
  {
   "cell_type": "markdown",
   "metadata": {},
   "source": [
    "Parfait, on voit maintenant que le points sont tous centrés autour de la ville de Montreal.\n",
    "\n",
    "Mais ça dépasse. C'est clairement un problème de la carte du monde vu que l'on a vu que les points ne pouvaient pas dépasser les bordures de Montreal. Pour cette raison (entre autres), nous allons utiliser la carte de Montreal, qui est plus précise :"
   ]
  },
  {
   "cell_type": "code",
   "execution_count": 16,
   "metadata": {},
   "outputs": [
    {
     "data": {
      "image/png": "[encoded data removed]",
      "text/plain": [
       "Plot with title \"Points d'occurrence - Carte de Montreal\""
      ]
     },
     "metadata": {},
     "output_type": "display_data"
    }
   ],
   "source": [
    "# Afficher les points sur la carte de Montreal\n",
    "plot_species_data_on_map(species_data, background_map=montreal_map, plot_label=\"Points d'occurrence - Carte de Montreal\")"
   ]
  },
  {
   "cell_type": "markdown",
   "metadata": {},
   "source": [
    "### 2.2 - Génération des données d'absence\n",
    "Comme dit plus tôt, les données que l'on utilise sont des données de présence seulement, nous devons alors générer des données d'absence.\n",
    "\n",
    "Ici nous allons utiliser une technique très simple, nous allons prendre aléatoirement des données à des points situés autour des points de présence (à un rayon de 5 km) \n",
    "\n",
    "**Note : Cette technique a été vue dans ces deux ressources : https://rspatial.org/raster/sdm/3_sdm_absence-background.html et https://www.molecularecologist.com/2013/04/23/species-distribution-models-in-r/, mais je comprends bien qu'il faudra changer / mieux expliquer pourquoi c'est la meilleure technique si elle l'est vraiment**\n",
    "\n",
    "Pour cela on utilise la bibliothèque **dismo** pour créer des cercles autour de chaque point, puis on echantillonne aléatoirement des points d'absences à partir de ces polygones :"
   ]
  },
  {
   "cell_type": "code",
   "execution_count": 17,
   "metadata": {},
   "outputs": [],
   "source": [
    "# Definir une valeur de 'seed' pour que les résultats soient les mêmes à chaque tentative\n",
    "set.seed(12)\n",
    "\n",
    "# Créer les cercles et y echantionner des points aléatoires\n",
    "circles_list <- circles(species_data, d=10000, lonlat=TRUE)\n",
    "absence_data <- spsample(circles_list@polygons, length(species_data), type='random', iter=100)"
   ]
  },
  {
   "cell_type": "code",
   "execution_count": 18,
   "metadata": {},
   "outputs": [
    {
     "data": {
      "image/png": "[encoded data removed]",
      "text/plain": [
       "Plot with title \"\""
      ]
     },
     "metadata": {},
     "output_type": "display_data"
    }
   ],
   "source": [
    "# Afficher les points d'absences sur la carte\n",
    "plot_species_data_on_map(species_data=absence_data, background_map=montreal_map, col=\"dark orange\")"
   ]
  },
  {
   "cell_type": "markdown",
   "metadata": {},
   "source": [
    "Nous devons appliquer un masque pour ne créer des points que sur la surface terrestre de la ville de Montreal :"
   ]
  },
  {
   "cell_type": "code",
   "execution_count": 19,
   "metadata": {},
   "outputs": [
    {
     "data": {
      "image/png": "[encoded data removed]",
      "text/plain": [
       "Plot with title \"\""
      ]
     },
     "metadata": {},
     "output_type": "display_data"
    }
   ],
   "source": [
    "# Recentrer les points d'absence\n",
    "absence_data <- spTransform(absence_data, crs(montreal_map))\n",
    "absence_data_indexes <- over(absence_data, geometry(montreal_map))\n",
    "absence_data <- absence_data[!is.na(absence_data_indexes), ]\n",
    "\n",
    "# Afficher les points une seconde fois\n",
    "plot_species_data_on_map(species_data=absence_data, background_map=montreal_map, col=\"dark orange\")"
   ]
  },
  {
   "cell_type": "markdown",
   "metadata": {},
   "source": [
    "Parfait, les points d'absence sont maintenant recentrés."
   ]
  },
  {
   "cell_type": "markdown",
   "metadata": {},
   "source": [
    "Maintenant, on combine les deux datasets ensemble pour obtenir nos données d'occurrences complètes :"
   ]
  },
  {
   "cell_type": "code",
   "execution_count": 20,
   "metadata": {},
   "outputs": [],
   "source": [
    "# Transformer les données d'absence en SpatialPointsDataFrame (avec l'attribut Présent à 0)\n",
    "absence_data <- SpatialPointsDataFrame(data = data.frame(Present = rep(0, length(absence_data))), coords=absence_data)\n",
    "\n",
    "# Combiner les données d'absence et de présence\n",
    "crs(absence_data) <- crs(species_data)\n",
    "species_data <- rbind(species_data, absence_data)"
   ]
  },
  {
   "cell_type": "markdown",
   "metadata": {},
   "source": [
    "### 2.3 - Données climatiques :"
   ]
  },
  {
   "cell_type": "markdown",
   "metadata": {},
   "source": [
    "Pour les données climatiques, nous allons utiliser les données d'Ouranos (https://www.ouranos.ca/portraits-climatiques/#/regions/28 (consulté le 23/03/2021)).\n",
    "\n",
    "Ces données contiennent des valeurs de plusieurs types de variables climatiques dans la région de Montreal.\n",
    "\n",
    "Voici la liste complète des variables disponibles :\n",
    "\n",
    "- Les températures moyennes quotidiennes (°C) (par an / par saisons)\n",
    "- La moyenne des températures minimales quotidiennes (°C) (par an / par saisons)\n",
    "- La moyenne des température maximales quotidiennes (°C) (par an / par saisons)\n",
    "- Le degrés-jours de croissance (DJC) \n",
    "- Les événements de gel-dégel (jours)\n",
    "- L’indice de gel (°C-jours)\n",
    "- Le nombre de jours > 30°C (jours) \n",
    "- Le nombre de jours de vague de chaleur (jours) (3 Classes de seuil)\n",
    "- Le nombre de vagues de chaleur (3 Classes de seuil)\n",
    "- Les précipitations totales (mm) (par an / par saisons)\n",
    "- Les précipitations liquides totales (mm) (par an / par saisons)\n",
    "- Les précipitations solides totales (mm) (par an / par saisons)\n",
    "- Le maximum des précipitations cumulées sur cinq jours (mm) (par an / de Avril à Septembre)\n",
    "\n",
    "**Note : Le dataset a été converti du format .geoJSON au format .shp et les fichiers ont été renommés.**\n",
    "\n",
    "Pour illustrer le processus d'extraction des variables environnementales, voici les étapes à suivre pour les **les températures moyennes quotidiennes** :"
   ]
  },
  {
   "cell_type": "code",
   "execution_count": 21,
   "metadata": {},
   "outputs": [
    {
     "data": {
      "image/png": "[encoded data removed]",
      "text/plain": [
       "Plot with title \"Températures moyennes quotidiennes (C°)\""
      ]
     },
     "metadata": {},
     "output_type": "display_data"
    }
   ],
   "source": [
    "# Lire le fichier shapefile \n",
    "climate_vector <- shapefile('data/ouranos/mean_temp_year.shp')\n",
    "\n",
    "# Afficher la figure sur une carte\n",
    "plot(climate_vector, col=\"light green\", main=\"Températures moyennes quotidiennes (C°)\")\n",
    "box()"
   ]
  },
  {
   "cell_type": "markdown",
   "metadata": {},
   "source": [
    "Ce que l'on ne voit pas sur la carte, c'est que chaque polygone contient plusieurs valeurs d'attributs. \n",
    "\n",
    "On peut les visualiser, à la manière d'une data.frame : "
   ]
  },
  {
   "cell_type": "code",
   "execution_count": 22,
   "metadata": {},
   "outputs": [
    {
     "data": {
      "text/html": [
       "<table>\n",
       "<thead><tr><th></th><th scope=col>id</th><th scope=col>hist_1981_</th><th scope=col>rcp45_2041</th><th scope=col>rcp45_20_1</th><th scope=col>rcp45_20_2</th><th scope=col>rcp45_2071</th><th scope=col>rcp45_20_3</th><th scope=col>rcp45_20_4</th><th scope=col>rcp85_2041</th><th scope=col>rcp85_20_1</th><th scope=col>rcp85_20_2</th><th scope=col>rcp85_2071</th><th scope=col>rcp85_20_3</th><th scope=col>rcp85_20_4</th></tr></thead>\n",
       "<tbody>\n",
       "\t<tr><th scope=row>0</th><td>84,210</td><td>6.635 </td><td>8.104 </td><td>9.088 </td><td>9.797 </td><td>8.254 </td><td>9.760 </td><td>10.456</td><td>9.062 </td><td> 9.785</td><td>10.431</td><td>10.337</td><td>12.377</td><td>13.364</td></tr>\n",
       "\t<tr><th scope=row>1</th><td>84,211</td><td>6.752 </td><td>8.221 </td><td>9.204 </td><td>9.904 </td><td>8.371 </td><td>9.880 </td><td>10.562</td><td>9.180 </td><td> 9.906</td><td>10.544</td><td>10.456</td><td>12.492</td><td>13.469</td></tr>\n",
       "\t<tr><th scope=row>2</th><td>85,209</td><td>6.597 </td><td>8.069 </td><td>9.051 </td><td>9.769 </td><td>8.213 </td><td>9.727 </td><td>10.431</td><td>9.024 </td><td> 9.748</td><td>10.393</td><td>10.300</td><td>12.345</td><td>13.338</td></tr>\n",
       "\t<tr><th scope=row>3</th><td>85,210</td><td>6.740 </td><td>8.207 </td><td>9.191 </td><td>9.899 </td><td>8.352 </td><td>9.869 </td><td>10.560</td><td>9.159 </td><td> 9.890</td><td>10.529</td><td>10.435</td><td>12.482</td><td>13.464</td></tr>\n",
       "\t<tr><th scope=row>4</th><td>85,211</td><td>6.847 </td><td>8.314 </td><td>9.298 </td><td>9.999 </td><td>8.460 </td><td>9.979 </td><td>10.657</td><td>9.269 </td><td>10.003</td><td>10.636</td><td>10.546</td><td>12.590</td><td>13.561</td></tr>\n",
       "\t<tr><th scope=row>5</th><td>86,208</td><td>6.499 </td><td>7.975 </td><td>8.955 </td><td>9.682 </td><td>8.112 </td><td>9.634 </td><td>10.348</td><td>8.938 </td><td> 9.653</td><td>10.300</td><td>10.214</td><td>12.257</td><td>13.254</td></tr>\n",
       "</tbody>\n",
       "</table>\n"
      ],
      "text/latex": [
       "\\begin{tabular}{r|llllllllllllll}\n",
       "  & id & hist\\_1981\\_ & rcp45\\_2041 & rcp45\\_20\\_1 & rcp45\\_20\\_2 & rcp45\\_2071 & rcp45\\_20\\_3 & rcp45\\_20\\_4 & rcp85\\_2041 & rcp85\\_20\\_1 & rcp85\\_20\\_2 & rcp85\\_2071 & rcp85\\_20\\_3 & rcp85\\_20\\_4\\\\\n",
       "\\hline\n",
       "\t0 & 84,210 & 6.635  & 8.104  & 9.088  & 9.797  & 8.254  & 9.760  & 10.456 & 9.062  &  9.785 & 10.431 & 10.337 & 12.377 & 13.364\\\\\n",
       "\t1 & 84,211 & 6.752  & 8.221  & 9.204  & 9.904  & 8.371  & 9.880  & 10.562 & 9.180  &  9.906 & 10.544 & 10.456 & 12.492 & 13.469\\\\\n",
       "\t2 & 85,209 & 6.597  & 8.069  & 9.051  & 9.769  & 8.213  & 9.727  & 10.431 & 9.024  &  9.748 & 10.393 & 10.300 & 12.345 & 13.338\\\\\n",
       "\t3 & 85,210 & 6.740  & 8.207  & 9.191  & 9.899  & 8.352  & 9.869  & 10.560 & 9.159  &  9.890 & 10.529 & 10.435 & 12.482 & 13.464\\\\\n",
       "\t4 & 85,211 & 6.847  & 8.314  & 9.298  & 9.999  & 8.460  & 9.979  & 10.657 & 9.269  & 10.003 & 10.636 & 10.546 & 12.590 & 13.561\\\\\n",
       "\t5 & 86,208 & 6.499  & 7.975  & 8.955  & 9.682  & 8.112  & 9.634  & 10.348 & 8.938  &  9.653 & 10.300 & 10.214 & 12.257 & 13.254\\\\\n",
       "\\end{tabular}\n"
      ],
      "text/markdown": [
       "\n",
       "| <!--/--> | id | hist_1981_ | rcp45_2041 | rcp45_20_1 | rcp45_20_2 | rcp45_2071 | rcp45_20_3 | rcp45_20_4 | rcp85_2041 | rcp85_20_1 | rcp85_20_2 | rcp85_2071 | rcp85_20_3 | rcp85_20_4 |\n",
       "|---|---|---|---|---|---|---|---|---|---|---|---|---|---|---|\n",
       "| 0 | 84,210 | 6.635  | 8.104  | 9.088  | 9.797  | 8.254  | 9.760  | 10.456 | 9.062  |  9.785 | 10.431 | 10.337 | 12.377 | 13.364 |\n",
       "| 1 | 84,211 | 6.752  | 8.221  | 9.204  | 9.904  | 8.371  | 9.880  | 10.562 | 9.180  |  9.906 | 10.544 | 10.456 | 12.492 | 13.469 |\n",
       "| 2 | 85,209 | 6.597  | 8.069  | 9.051  | 9.769  | 8.213  | 9.727  | 10.431 | 9.024  |  9.748 | 10.393 | 10.300 | 12.345 | 13.338 |\n",
       "| 3 | 85,210 | 6.740  | 8.207  | 9.191  | 9.899  | 8.352  | 9.869  | 10.560 | 9.159  |  9.890 | 10.529 | 10.435 | 12.482 | 13.464 |\n",
       "| 4 | 85,211 | 6.847  | 8.314  | 9.298  | 9.999  | 8.460  | 9.979  | 10.657 | 9.269  | 10.003 | 10.636 | 10.546 | 12.590 | 13.561 |\n",
       "| 5 | 86,208 | 6.499  | 7.975  | 8.955  | 9.682  | 8.112  | 9.634  | 10.348 | 8.938  |  9.653 | 10.300 | 10.214 | 12.257 | 13.254 |\n",
       "\n"
      ],
      "text/plain": [
       "  id     hist_1981_ rcp45_2041 rcp45_20_1 rcp45_20_2 rcp45_2071 rcp45_20_3\n",
       "0 84,210 6.635      8.104      9.088      9.797      8.254      9.760     \n",
       "1 84,211 6.752      8.221      9.204      9.904      8.371      9.880     \n",
       "2 85,209 6.597      8.069      9.051      9.769      8.213      9.727     \n",
       "3 85,210 6.740      8.207      9.191      9.899      8.352      9.869     \n",
       "4 85,211 6.847      8.314      9.298      9.999      8.460      9.979     \n",
       "5 86,208 6.499      7.975      8.955      9.682      8.112      9.634     \n",
       "  rcp45_20_4 rcp85_2041 rcp85_20_1 rcp85_20_2 rcp85_2071 rcp85_20_3 rcp85_20_4\n",
       "0 10.456     9.062       9.785     10.431     10.337     12.377     13.364    \n",
       "1 10.562     9.180       9.906     10.544     10.456     12.492     13.469    \n",
       "2 10.431     9.024       9.748     10.393     10.300     12.345     13.338    \n",
       "3 10.560     9.159       9.890     10.529     10.435     12.482     13.464    \n",
       "4 10.657     9.269      10.003     10.636     10.546     12.590     13.561    \n",
       "5 10.348     8.938       9.653     10.300     10.214     12.257     13.254    "
      ]
     },
     "metadata": {},
     "output_type": "display_data"
    }
   ],
   "source": [
    "# Afficher les attributs pour chaque polygone\n",
    "head(climate_vector@data)"
   ]
  },
  {
   "cell_type": "markdown",
   "metadata": {},
   "source": [
    "L'attribut *hist_1981_* est celui qui contient la valeur de la variable étudiée (en l'occurrence la moyenne des températures quotidiennes) observée entre les années 1981 et 2010 (source : https://www.ouranos.ca/portraits-climatiques/#/regions/0).\n",
    "\n",
    "Les attributs suivants (rcp45_2041, etc...) contiennent les valeurs prédites de la variable étudiée selon divers scénarii d'émissions de gaz, et ce entre les années 2041 et 2070, ainsi qu'entre les années 2071 et 2100.\n",
    "\n",
    "Pour entrainer le modèle, nous avons besoin d'extraire l'attribut contenant la valeur observée. Notre objectif ici est de lier chaque point d'occurrence d'espèce avec la valeur de la variable environnementale observée à cet endroit. \n",
    "\n",
    "Nous pouvons alors utiliser la fonction **extract** du package **raster**, pour lier des données raster et nos données d'occurrence. Seul problème, nos données climatiques ne sont pas des données raster, ce sont des données vecteurs où les \"grilles\" sont dessinées par les polygones. Nous devons alors les transformer en données raster en utilisant la fonction **rasterize**"
   ]
  },
  {
   "cell_type": "code",
   "execution_count": 23,
   "metadata": {},
   "outputs": [
    {
     "data": {
      "image/png": "[encoded data removed]",
      "text/plain": [
       "Plot with title \"Températures moyennes quotidiennes (C°) - Raster\""
      ]
     },
     "metadata": {},
     "output_type": "display_data"
    }
   ],
   "source": [
    "# Transformer les vecteurs data en raster\n",
    "extent_c <- extent(climate_vector)\n",
    "raster_grid <- raster::raster(extent_c, res=0.001)\n",
    "raster_layer <- raster::rasterize(climate_vector, raster_grid, field=\"hist_1981_\")\n",
    "\n",
    "# Afficher le résultat\n",
    "plot(raster_layer, main=\"Températures moyennes quotidiennes (C°) - Raster\", ext=extent_c)\n",
    "box()"
   ]
  },
  {
   "cell_type": "markdown",
   "metadata": {},
   "source": [
    "Il est important de fixer une résolution plus précise que le shapefile original pour éviter les problèmes concernant la position de la grille et la taille des blocs. Il ne faut pas non plus que les cellules soient trop précises pour éviter qu'on obtienne beaucoup de valeurs manquantes après extraction.\n",
    "\n",
    "Maintenant que nous avons nos données raster, il ne nous reste plus qu'à les lier avec nos données d'occurrence : "
   ]
  },
  {
   "cell_type": "code",
   "execution_count": 24,
   "metadata": {},
   "outputs": [
    {
     "data": {
      "text/html": [
       "<table>\n",
       "<thead><tr><th scope=col>Present</th><th scope=col>mean_temp_year</th></tr></thead>\n",
       "<tbody>\n",
       "\t<tr><td>1    </td><td>6.962</td></tr>\n",
       "\t<tr><td>1    </td><td>7.052</td></tr>\n",
       "\t<tr><td>1    </td><td>7.052</td></tr>\n",
       "\t<tr><td>1    </td><td>7.052</td></tr>\n",
       "\t<tr><td>1    </td><td>6.962</td></tr>\n",
       "\t<tr><td>1    </td><td>6.962</td></tr>\n",
       "</tbody>\n",
       "</table>\n"
      ],
      "text/latex": [
       "\\begin{tabular}{r|ll}\n",
       " Present & mean\\_temp\\_year\\\\\n",
       "\\hline\n",
       "\t 1     & 6.962\\\\\n",
       "\t 1     & 7.052\\\\\n",
       "\t 1     & 7.052\\\\\n",
       "\t 1     & 7.052\\\\\n",
       "\t 1     & 6.962\\\\\n",
       "\t 1     & 6.962\\\\\n",
       "\\end{tabular}\n"
      ],
      "text/markdown": [
       "\n",
       "| Present | mean_temp_year |\n",
       "|---|---|\n",
       "| 1     | 6.962 |\n",
       "| 1     | 7.052 |\n",
       "| 1     | 7.052 |\n",
       "| 1     | 7.052 |\n",
       "| 1     | 6.962 |\n",
       "| 1     | 6.962 |\n",
       "\n"
      ],
      "text/plain": [
       "  Present mean_temp_year\n",
       "1 1       6.962         \n",
       "2 1       7.052         \n",
       "3 1       7.052         \n",
       "4 1       7.052         \n",
       "5 1       6.962         \n",
       "6 1       6.962         "
      ]
     },
     "metadata": {},
     "output_type": "display_data"
    }
   ],
   "source": [
    "# Dataframe d'affichage (pour ne pas changer notre dataset original)\n",
    "species_data_dummy <- species_data \n",
    "\n",
    "# Extraire la variable climatique pour chaque point d'occurrence\n",
    "climate_variable <- raster::extract(raster_layer, species_data, method=\"bilinear\")\n",
    "    \n",
    "# Ajouter la nouvelle feature dans le dataset\n",
    "species_data_dummy@data[\"mean_temp_year\"] <- climate_variable\n",
    "\n",
    "# Afficher le dataset lié \n",
    "head(species_data_dummy@data)"
   ]
  },
  {
   "cell_type": "markdown",
   "metadata": {},
   "source": [
    "Parfait ! Maintenant, il s'agira de répéter le processus pour toutes les variables environnementales : "
   ]
  },
  {
   "cell_type": "code",
   "execution_count": 25,
   "metadata": {},
   "outputs": [],
   "source": [
    "# Lister les fichiers shapefile du climat de Montreal\n",
    "filenames <- list.files(\"data/ouranos/\", pattern=\"*.shp\", full.names=TRUE)\n",
    "\n",
    "# (Optionel) Préparer l'affichage des graphes\n",
    "# num_files <- length(filenames)\n",
    "# options(repr.plot.height = 4 * num_files / 2)\n",
    "# par(mfrow=c(num_files / 2, 2), mar=rep(0, 4))\n",
    "\n",
    "# Dataset complet \n",
    "species_data_final <- species_data\n",
    "\n",
    "# Pour chaque fichier...\n",
    "for(filename in filenames){\n",
    "    # Charger le fichier en mémoire\n",
    "    climate_vector <- shapefile(filename)\n",
    "    \n",
    "    # Stocker le nom de la variable (nom du ficher shp)\n",
    "    variable_name <- strsplit(filename, '/')[[1]]\n",
    "    variable_name <- strsplit(variable_name[length(variable_name)], '.shp')[[1]]\n",
    "    \n",
    "    # Transformer les données vecteurs en raster\n",
    "    extent <- extent(climate_vector)\n",
    "    raster_grid <- raster::raster(extent, res=0.001)\n",
    "    raster_layer <- raster::rasterize(climate_vector, raster_grid, field=\"hist_1981_\")\n",
    "    \n",
    "    # (Optionel) Afficher les raster layers dans un graphe \n",
    "    # plot(raster_layer, ext=extent(climate_vector), main=strsplit(filename, '/')[-1])\n",
    "    # box()\n",
    "    \n",
    "    # Extraire la variable climatique pour chaque point d'occurrence\n",
    "    climate_variable <- raster::extract(raster_layer, species_data_final, col=variable_name, method=\"simple\")\n",
    "    \n",
    "    # Ajouter la nouvelle feature dans le dataset\n",
    "    species_data_final@data[variable_name] <- climate_variable\n",
    "}"
   ]
  },
  {
   "cell_type": "code",
   "execution_count": 26,
   "metadata": {},
   "outputs": [
    {
     "data": {
      "text/html": [
       "<table>\n",
       "<thead><tr><th scope=col>Present</th><th scope=col>avg_max_temp_spring</th><th scope=col>avg_min_temp_spring</th><th scope=col>avg_min_temp_winter</th><th scope=col>frost_index</th><th scope=col>max_precip_five_days</th><th scope=col>max_precip_five_days_apr_sep</th><th scope=col>max_temp_automn</th><th scope=col>max_temp_summer</th><th scope=col>max_temp_winter</th><th scope=col>max_temp_year</th><th scope=col>mean_temp_automn</th><th scope=col>mean_temp_spring</th><th scope=col>mean_temp_summer</th><th scope=col>mean_temp_winter</th><th scope=col>mean_temp_year</th><th scope=col>min_temp_automn</th><th scope=col>min_temp_summer</th><th scope=col>min_temp_year</th><th scope=col>num_days_heatwave_class_1</th><th scope=col>num_days_heatwave_class_2</th><th scope=col>num_days_heatwave_class_3</th><th scope=col>num_days_more_than_30deg</th><th scope=col>num_frost_defrost_automn</th><th scope=col>num_frost_defrost_spring</th><th scope=col>num_frost_defrost_summer</th><th scope=col>num_frost_defrost_winter</th><th scope=col>num_frost_defrost_year</th><th scope=col>num_heatwave_class_1</th><th scope=col>num_heatwave_class_2</th><th scope=col>num_heatwave_class_3</th><th scope=col>total_liquid_precip_automn</th><th scope=col>total_liquid_precip_spring</th><th scope=col>total_liquid_precip_summer</th><th scope=col>total_liquid_precip_winter</th><th scope=col>total_liquid_precip_year</th><th scope=col>total_precip_automn</th><th scope=col>total_precip_spring</th><th scope=col>total_precip_summer</th><th scope=col>total_precip_winter</th><th scope=col>total_precip_year</th><th scope=col>total_solid_precip_automn</th><th scope=col>total_solid_precip_spring</th><th scope=col>total_solid_precip_summer</th><th scope=col>total_solid_precip_winter</th><th scope=col>total_solid_precip_year</th></tr></thead>\n",
       "<tbody>\n",
       "\t<tr><td>1       </td><td>10.885  </td><td>1.321   </td><td>-11.670 </td><td>843.096 </td><td>72.099  </td><td>65.098  </td><td>12.85   </td><td>25.452  </td><td>-3.367  </td><td>11.580  </td><td>8.642   </td><td>6.099   </td><td>20.258  </td><td>-7.535  </td><td>6.962   </td><td>4.477   </td><td>15.064  </td><td>2.403   </td><td>0.133   </td><td>1.600   </td><td>2.333   </td><td>11.3    </td><td>18.633  </td><td>26.300  </td><td> 0      </td><td>26.433  </td><td>70.067  </td><td>0.033   </td><td>0.4     </td><td>0.667   </td><td>257.282 </td><td>199.597 </td><td>278.740 </td><td>77.053  </td><td>815.008 </td><td>268.825 </td><td>228.657 </td><td>228.657 </td><td>218.756 </td><td>1002.137</td><td>11.543  </td><td>28.915  </td><td> 0      </td><td>139.916 </td><td>178.332 </td></tr>\n",
       "\t<tr><td>1       </td><td>10.842  </td><td>1.520   </td><td>-11.293 </td><td>821.741 </td><td>72.926  </td><td>66.373  </td><td>12.78   </td><td>25.394  </td><td>-3.310  </td><td>11.553  </td><td>8.678   </td><td>6.174   </td><td>20.290  </td><td>-7.317  </td><td>7.052   </td><td>4.623   </td><td>15.186  </td><td>2.608   </td><td>0.167   </td><td>1.533   </td><td>2.267   </td><td>11.1    </td><td>18.000  </td><td>25.433  </td><td> 0      </td><td>26.367  </td><td>67.933  </td><td>0.033   </td><td>0.4     </td><td>0.633   </td><td>260.900 </td><td>205.388 </td><td>284.364 </td><td>78.559  </td><td>833.742 </td><td>272.697 </td><td>233.462 </td><td>233.462 </td><td>222.859 </td><td>1020.272</td><td>11.796  </td><td>29.626  </td><td> 0      </td><td>139.154 </td><td>179.573 </td></tr>\n",
       "\t<tr><td>1       </td><td>10.842  </td><td>1.520   </td><td>-11.293 </td><td>821.741 </td><td>72.926  </td><td>66.373  </td><td>12.78   </td><td>25.394  </td><td>-3.310  </td><td>11.553  </td><td>8.678   </td><td>6.174   </td><td>20.290  </td><td>-7.317  </td><td>7.052   </td><td>4.623   </td><td>15.186  </td><td>2.608   </td><td>0.167   </td><td>1.533   </td><td>2.267   </td><td>11.1    </td><td>18.000  </td><td>25.433  </td><td> 0      </td><td>26.367  </td><td>67.933  </td><td>0.033   </td><td>0.4     </td><td>0.633   </td><td>260.900 </td><td>205.388 </td><td>284.364 </td><td>78.559  </td><td>833.742 </td><td>272.697 </td><td>233.462 </td><td>233.462 </td><td>222.859 </td><td>1020.272</td><td>11.796  </td><td>29.626  </td><td> 0      </td><td>139.154 </td><td>179.573 </td></tr>\n",
       "\t<tr><td>1       </td><td>10.842  </td><td>1.520   </td><td>-11.293 </td><td>821.741 </td><td>72.926  </td><td>66.373  </td><td>12.78   </td><td>25.394  </td><td>-3.310  </td><td>11.553  </td><td>8.678   </td><td>6.174   </td><td>20.290  </td><td>-7.317  </td><td>7.052   </td><td>4.623   </td><td>15.186  </td><td>2.608   </td><td>0.167   </td><td>1.533   </td><td>2.267   </td><td>11.1    </td><td>18.000  </td><td>25.433  </td><td> 0      </td><td>26.367  </td><td>67.933  </td><td>0.033   </td><td>0.4     </td><td>0.633   </td><td>260.900 </td><td>205.388 </td><td>284.364 </td><td>78.559  </td><td>833.742 </td><td>272.697 </td><td>233.462 </td><td>233.462 </td><td>222.859 </td><td>1020.272</td><td>11.796  </td><td>29.626  </td><td> 0      </td><td>139.154 </td><td>179.573 </td></tr>\n",
       "\t<tr><td>1       </td><td>    NA  </td><td>   NA   </td><td>     NA </td><td>     NA </td><td>    NA  </td><td>    NA  </td><td>   NA   </td><td>    NA  </td><td>    NA  </td><td>    NA  </td><td>   NA   </td><td>   NA   </td><td>    NA  </td><td>    NA  </td><td>   NA   </td><td>   NA   </td><td>    NA  </td><td>   NA   </td><td>   NA   </td><td>   NA   </td><td>   NA   </td><td>  NA    </td><td>    NA  </td><td>    NA  </td><td>NA      </td><td>    NA  </td><td>    NA  </td><td>   NA   </td><td> NA     </td><td>   NA   </td><td>     NA </td><td>     NA </td><td>     NA </td><td>    NA  </td><td>     NA </td><td>     NA </td><td>     NA </td><td>     NA </td><td>     NA </td><td>      NA</td><td>    NA  </td><td>    NA  </td><td>NA      </td><td>     NA </td><td>     NA </td></tr>\n",
       "\t<tr><td>1       </td><td>    NA  </td><td>   NA   </td><td>     NA </td><td>     NA </td><td>    NA  </td><td>    NA  </td><td>   NA   </td><td>    NA  </td><td>    NA  </td><td>    NA  </td><td>   NA   </td><td>   NA   </td><td>    NA  </td><td>    NA  </td><td>   NA   </td><td>   NA   </td><td>    NA  </td><td>   NA   </td><td>   NA   </td><td>   NA   </td><td>   NA   </td><td>  NA    </td><td>    NA  </td><td>    NA  </td><td>NA      </td><td>    NA  </td><td>    NA  </td><td>   NA   </td><td> NA     </td><td>   NA   </td><td>     NA </td><td>     NA </td><td>     NA </td><td>    NA  </td><td>     NA </td><td>     NA </td><td>     NA </td><td>     NA </td><td>     NA </td><td>      NA</td><td>    NA  </td><td>    NA  </td><td>NA      </td><td>     NA </td><td>     NA </td></tr>\n",
       "</tbody>\n",
       "</table>\n"
      ],
      "text/latex": [
       "\\begin{tabular}{r|llllllllllllllllllllllllllllllllllllllllllllll}\n",
       " Present & avg\\_max\\_temp\\_spring & avg\\_min\\_temp\\_spring & avg\\_min\\_temp\\_winter & frost\\_index & max\\_precip\\_five\\_days & max\\_precip\\_five\\_days\\_apr\\_sep & max\\_temp\\_automn & max\\_temp\\_summer & max\\_temp\\_winter & max\\_temp\\_year & mean\\_temp\\_automn & mean\\_temp\\_spring & mean\\_temp\\_summer & mean\\_temp\\_winter & mean\\_temp\\_year & min\\_temp\\_automn & min\\_temp\\_summer & min\\_temp\\_year & num\\_days\\_heatwave\\_class\\_1 & num\\_days\\_heatwave\\_class\\_2 & num\\_days\\_heatwave\\_class\\_3 & num\\_days\\_more\\_than\\_30deg & num\\_frost\\_defrost\\_automn & num\\_frost\\_defrost\\_spring & num\\_frost\\_defrost\\_summer & num\\_frost\\_defrost\\_winter & num\\_frost\\_defrost\\_year & num\\_heatwave\\_class\\_1 & num\\_heatwave\\_class\\_2 & num\\_heatwave\\_class\\_3 & total\\_liquid\\_precip\\_automn & total\\_liquid\\_precip\\_spring & total\\_liquid\\_precip\\_summer & total\\_liquid\\_precip\\_winter & total\\_liquid\\_precip\\_year & total\\_precip\\_automn & total\\_precip\\_spring & total\\_precip\\_summer & total\\_precip\\_winter & total\\_precip\\_year & total\\_solid\\_precip\\_automn & total\\_solid\\_precip\\_spring & total\\_solid\\_precip\\_summer & total\\_solid\\_precip\\_winter & total\\_solid\\_precip\\_year\\\\\n",
       "\\hline\n",
       "\t 1        & 10.885   & 1.321    & -11.670  & 843.096  & 72.099   & 65.098   & 12.85    & 25.452   & -3.367   & 11.580   & 8.642    & 6.099    & 20.258   & -7.535   & 6.962    & 4.477    & 15.064   & 2.403    & 0.133    & 1.600    & 2.333    & 11.3     & 18.633   & 26.300   &  0       & 26.433   & 70.067   & 0.033    & 0.4      & 0.667    & 257.282  & 199.597  & 278.740  & 77.053   & 815.008  & 268.825  & 228.657  & 228.657  & 218.756  & 1002.137 & 11.543   & 28.915   &  0       & 139.916  & 178.332 \\\\\n",
       "\t 1        & 10.842   & 1.520    & -11.293  & 821.741  & 72.926   & 66.373   & 12.78    & 25.394   & -3.310   & 11.553   & 8.678    & 6.174    & 20.290   & -7.317   & 7.052    & 4.623    & 15.186   & 2.608    & 0.167    & 1.533    & 2.267    & 11.1     & 18.000   & 25.433   &  0       & 26.367   & 67.933   & 0.033    & 0.4      & 0.633    & 260.900  & 205.388  & 284.364  & 78.559   & 833.742  & 272.697  & 233.462  & 233.462  & 222.859  & 1020.272 & 11.796   & 29.626   &  0       & 139.154  & 179.573 \\\\\n",
       "\t 1        & 10.842   & 1.520    & -11.293  & 821.741  & 72.926   & 66.373   & 12.78    & 25.394   & -3.310   & 11.553   & 8.678    & 6.174    & 20.290   & -7.317   & 7.052    & 4.623    & 15.186   & 2.608    & 0.167    & 1.533    & 2.267    & 11.1     & 18.000   & 25.433   &  0       & 26.367   & 67.933   & 0.033    & 0.4      & 0.633    & 260.900  & 205.388  & 284.364  & 78.559   & 833.742  & 272.697  & 233.462  & 233.462  & 222.859  & 1020.272 & 11.796   & 29.626   &  0       & 139.154  & 179.573 \\\\\n",
       "\t 1        & 10.842   & 1.520    & -11.293  & 821.741  & 72.926   & 66.373   & 12.78    & 25.394   & -3.310   & 11.553   & 8.678    & 6.174    & 20.290   & -7.317   & 7.052    & 4.623    & 15.186   & 2.608    & 0.167    & 1.533    & 2.267    & 11.1     & 18.000   & 25.433   &  0       & 26.367   & 67.933   & 0.033    & 0.4      & 0.633    & 260.900  & 205.388  & 284.364  & 78.559   & 833.742  & 272.697  & 233.462  & 233.462  & 222.859  & 1020.272 & 11.796   & 29.626   &  0       & 139.154  & 179.573 \\\\\n",
       "\t 1        &     NA   &    NA    &      NA  &      NA  &     NA   &     NA   &    NA    &     NA   &     NA   &     NA   &    NA    &    NA    &     NA   &     NA   &    NA    &    NA    &     NA   &    NA    &    NA    &    NA    &    NA    &   NA     &     NA   &     NA   & NA       &     NA   &     NA   &    NA    &  NA      &    NA    &      NA  &      NA  &      NA  &     NA   &      NA  &      NA  &      NA  &      NA  &      NA  &       NA &     NA   &     NA   & NA       &      NA  &      NA \\\\\n",
       "\t 1        &     NA   &    NA    &      NA  &      NA  &     NA   &     NA   &    NA    &     NA   &     NA   &     NA   &    NA    &    NA    &     NA   &     NA   &    NA    &    NA    &     NA   &    NA    &    NA    &    NA    &    NA    &   NA     &     NA   &     NA   & NA       &     NA   &     NA   &    NA    &  NA      &    NA    &      NA  &      NA  &      NA  &     NA   &      NA  &      NA  &      NA  &      NA  &      NA  &       NA &     NA   &     NA   & NA       &      NA  &      NA \\\\\n",
       "\\end{tabular}\n"
      ],
      "text/markdown": [
       "\n",
       "| Present | avg_max_temp_spring | avg_min_temp_spring | avg_min_temp_winter | frost_index | max_precip_five_days | max_precip_five_days_apr_sep | max_temp_automn | max_temp_summer | max_temp_winter | max_temp_year | mean_temp_automn | mean_temp_spring | mean_temp_summer | mean_temp_winter | mean_temp_year | min_temp_automn | min_temp_summer | min_temp_year | num_days_heatwave_class_1 | num_days_heatwave_class_2 | num_days_heatwave_class_3 | num_days_more_than_30deg | num_frost_defrost_automn | num_frost_defrost_spring | num_frost_defrost_summer | num_frost_defrost_winter | num_frost_defrost_year | num_heatwave_class_1 | num_heatwave_class_2 | num_heatwave_class_3 | total_liquid_precip_automn | total_liquid_precip_spring | total_liquid_precip_summer | total_liquid_precip_winter | total_liquid_precip_year | total_precip_automn | total_precip_spring | total_precip_summer | total_precip_winter | total_precip_year | total_solid_precip_automn | total_solid_precip_spring | total_solid_precip_summer | total_solid_precip_winter | total_solid_precip_year |\n",
       "|---|---|---|---|---|---|---|---|---|---|---|---|---|---|---|---|---|---|---|---|---|---|---|---|---|---|---|---|---|---|---|---|---|---|---|---|---|---|---|---|---|---|---|---|---|---|\n",
       "| 1        | 10.885   | 1.321    | -11.670  | 843.096  | 72.099   | 65.098   | 12.85    | 25.452   | -3.367   | 11.580   | 8.642    | 6.099    | 20.258   | -7.535   | 6.962    | 4.477    | 15.064   | 2.403    | 0.133    | 1.600    | 2.333    | 11.3     | 18.633   | 26.300   |  0       | 26.433   | 70.067   | 0.033    | 0.4      | 0.667    | 257.282  | 199.597  | 278.740  | 77.053   | 815.008  | 268.825  | 228.657  | 228.657  | 218.756  | 1002.137 | 11.543   | 28.915   |  0       | 139.916  | 178.332  |\n",
       "| 1        | 10.842   | 1.520    | -11.293  | 821.741  | 72.926   | 66.373   | 12.78    | 25.394   | -3.310   | 11.553   | 8.678    | 6.174    | 20.290   | -7.317   | 7.052    | 4.623    | 15.186   | 2.608    | 0.167    | 1.533    | 2.267    | 11.1     | 18.000   | 25.433   |  0       | 26.367   | 67.933   | 0.033    | 0.4      | 0.633    | 260.900  | 205.388  | 284.364  | 78.559   | 833.742  | 272.697  | 233.462  | 233.462  | 222.859  | 1020.272 | 11.796   | 29.626   |  0       | 139.154  | 179.573  |\n",
       "| 1        | 10.842   | 1.520    | -11.293  | 821.741  | 72.926   | 66.373   | 12.78    | 25.394   | -3.310   | 11.553   | 8.678    | 6.174    | 20.290   | -7.317   | 7.052    | 4.623    | 15.186   | 2.608    | 0.167    | 1.533    | 2.267    | 11.1     | 18.000   | 25.433   |  0       | 26.367   | 67.933   | 0.033    | 0.4      | 0.633    | 260.900  | 205.388  | 284.364  | 78.559   | 833.742  | 272.697  | 233.462  | 233.462  | 222.859  | 1020.272 | 11.796   | 29.626   |  0       | 139.154  | 179.573  |\n",
       "| 1        | 10.842   | 1.520    | -11.293  | 821.741  | 72.926   | 66.373   | 12.78    | 25.394   | -3.310   | 11.553   | 8.678    | 6.174    | 20.290   | -7.317   | 7.052    | 4.623    | 15.186   | 2.608    | 0.167    | 1.533    | 2.267    | 11.1     | 18.000   | 25.433   |  0       | 26.367   | 67.933   | 0.033    | 0.4      | 0.633    | 260.900  | 205.388  | 284.364  | 78.559   | 833.742  | 272.697  | 233.462  | 233.462  | 222.859  | 1020.272 | 11.796   | 29.626   |  0       | 139.154  | 179.573  |\n",
       "| 1        |     NA   |    NA    |      NA  |      NA  |     NA   |     NA   |    NA    |     NA   |     NA   |     NA   |    NA    |    NA    |     NA   |     NA   |    NA    |    NA    |     NA   |    NA    |    NA    |    NA    |    NA    |   NA     |     NA   |     NA   | NA       |     NA   |     NA   |    NA    |  NA      |    NA    |      NA  |      NA  |      NA  |     NA   |      NA  |      NA  |      NA  |      NA  |      NA  |       NA |     NA   |     NA   | NA       |      NA  |      NA  |\n",
       "| 1        |     NA   |    NA    |      NA  |      NA  |     NA   |     NA   |    NA    |     NA   |     NA   |     NA   |    NA    |    NA    |     NA   |     NA   |    NA    |    NA    |     NA   |    NA    |    NA    |    NA    |    NA    |   NA     |     NA   |     NA   | NA       |     NA   |     NA   |    NA    |  NA      |    NA    |      NA  |      NA  |      NA  |     NA   |      NA  |      NA  |      NA  |      NA  |      NA  |       NA |     NA   |     NA   | NA       |      NA  |      NA  |\n",
       "\n"
      ],
      "text/plain": [
       "  Present avg_max_temp_spring avg_min_temp_spring avg_min_temp_winter\n",
       "1 1       10.885              1.321               -11.670            \n",
       "2 1       10.842              1.520               -11.293            \n",
       "3 1       10.842              1.520               -11.293            \n",
       "4 1       10.842              1.520               -11.293            \n",
       "5 1           NA                 NA                    NA            \n",
       "6 1           NA                 NA                    NA            \n",
       "  frost_index max_precip_five_days max_precip_five_days_apr_sep max_temp_automn\n",
       "1 843.096     72.099               65.098                       12.85          \n",
       "2 821.741     72.926               66.373                       12.78          \n",
       "3 821.741     72.926               66.373                       12.78          \n",
       "4 821.741     72.926               66.373                       12.78          \n",
       "5      NA         NA                   NA                          NA          \n",
       "6      NA         NA                   NA                          NA          \n",
       "  max_temp_summer max_temp_winter max_temp_year mean_temp_automn\n",
       "1 25.452          -3.367          11.580        8.642           \n",
       "2 25.394          -3.310          11.553        8.678           \n",
       "3 25.394          -3.310          11.553        8.678           \n",
       "4 25.394          -3.310          11.553        8.678           \n",
       "5     NA              NA              NA           NA           \n",
       "6     NA              NA              NA           NA           \n",
       "  mean_temp_spring mean_temp_summer mean_temp_winter mean_temp_year\n",
       "1 6.099            20.258           -7.535           6.962         \n",
       "2 6.174            20.290           -7.317           7.052         \n",
       "3 6.174            20.290           -7.317           7.052         \n",
       "4 6.174            20.290           -7.317           7.052         \n",
       "5    NA                NA               NA              NA         \n",
       "6    NA                NA               NA              NA         \n",
       "  min_temp_automn min_temp_summer min_temp_year num_days_heatwave_class_1\n",
       "1 4.477           15.064          2.403         0.133                    \n",
       "2 4.623           15.186          2.608         0.167                    \n",
       "3 4.623           15.186          2.608         0.167                    \n",
       "4 4.623           15.186          2.608         0.167                    \n",
       "5    NA               NA             NA            NA                    \n",
       "6    NA               NA             NA            NA                    \n",
       "  num_days_heatwave_class_2 num_days_heatwave_class_3 num_days_more_than_30deg\n",
       "1 1.600                     2.333                     11.3                    \n",
       "2 1.533                     2.267                     11.1                    \n",
       "3 1.533                     2.267                     11.1                    \n",
       "4 1.533                     2.267                     11.1                    \n",
       "5    NA                        NA                       NA                    \n",
       "6    NA                        NA                       NA                    \n",
       "  num_frost_defrost_automn num_frost_defrost_spring num_frost_defrost_summer\n",
       "1 18.633                   26.300                    0                      \n",
       "2 18.000                   25.433                    0                      \n",
       "3 18.000                   25.433                    0                      \n",
       "4 18.000                   25.433                    0                      \n",
       "5     NA                       NA                   NA                      \n",
       "6     NA                       NA                   NA                      \n",
       "  num_frost_defrost_winter num_frost_defrost_year num_heatwave_class_1\n",
       "1 26.433                   70.067                 0.033               \n",
       "2 26.367                   67.933                 0.033               \n",
       "3 26.367                   67.933                 0.033               \n",
       "4 26.367                   67.933                 0.033               \n",
       "5     NA                       NA                    NA               \n",
       "6     NA                       NA                    NA               \n",
       "  num_heatwave_class_2 num_heatwave_class_3 total_liquid_precip_automn\n",
       "1 0.4                  0.667                257.282                   \n",
       "2 0.4                  0.633                260.900                   \n",
       "3 0.4                  0.633                260.900                   \n",
       "4 0.4                  0.633                260.900                   \n",
       "5  NA                     NA                     NA                   \n",
       "6  NA                     NA                     NA                   \n",
       "  total_liquid_precip_spring total_liquid_precip_summer\n",
       "1 199.597                    278.740                   \n",
       "2 205.388                    284.364                   \n",
       "3 205.388                    284.364                   \n",
       "4 205.388                    284.364                   \n",
       "5      NA                         NA                   \n",
       "6      NA                         NA                   \n",
       "  total_liquid_precip_winter total_liquid_precip_year total_precip_automn\n",
       "1 77.053                     815.008                  268.825            \n",
       "2 78.559                     833.742                  272.697            \n",
       "3 78.559                     833.742                  272.697            \n",
       "4 78.559                     833.742                  272.697            \n",
       "5     NA                          NA                       NA            \n",
       "6     NA                          NA                       NA            \n",
       "  total_precip_spring total_precip_summer total_precip_winter total_precip_year\n",
       "1 228.657             228.657             218.756             1002.137         \n",
       "2 233.462             233.462             222.859             1020.272         \n",
       "3 233.462             233.462             222.859             1020.272         \n",
       "4 233.462             233.462             222.859             1020.272         \n",
       "5      NA                  NA                  NA                   NA         \n",
       "6      NA                  NA                  NA                   NA         \n",
       "  total_solid_precip_automn total_solid_precip_spring total_solid_precip_summer\n",
       "1 11.543                    28.915                     0                       \n",
       "2 11.796                    29.626                     0                       \n",
       "3 11.796                    29.626                     0                       \n",
       "4 11.796                    29.626                     0                       \n",
       "5     NA                        NA                    NA                       \n",
       "6     NA                        NA                    NA                       \n",
       "  total_solid_precip_winter total_solid_precip_year\n",
       "1 139.916                   178.332                \n",
       "2 139.154                   179.573                \n",
       "3 139.154                   179.573                \n",
       "4 139.154                   179.573                \n",
       "5      NA                        NA                \n",
       "6      NA                        NA                "
      ]
     },
     "metadata": {},
     "output_type": "display_data"
    }
   ],
   "source": [
    "# Afficher le dataset complet \n",
    "head(species_data_final)"
   ]
  },
  {
   "cell_type": "code",
   "execution_count": 27,
   "metadata": {},
   "outputs": [
    {
     "data": {
      "text/plain": [
       "    Present       avg_max_temp_spring avg_min_temp_spring avg_min_temp_winter\n",
       " Min.   :0.0000   Min.   :10.71       Min.   :0.568       Min.   :-12.89     \n",
       " 1st Qu.:0.0000   1st Qu.:10.84       1st Qu.:1.321       1st Qu.:-11.67     \n",
       " Median :1.0000   Median :10.88       Median :1.520       Median :-11.29     \n",
       " Mean   :0.7439   Mean   :10.90       Mean   :1.411       Mean   :-11.46     \n",
       " 3rd Qu.:1.0000   3rd Qu.:10.92       3rd Qu.:1.626       3rd Qu.:-11.09     \n",
       " Max.   :1.0000   Max.   :11.08       Max.   :1.633       Max.   :-11.04     \n",
       "                  NA's   :2240        NA's   :2240        NA's   :2240       \n",
       "  frost_index    max_precip_five_days max_precip_five_days_apr_sep\n",
       " Min.   :795.9   Min.   :69.49        Min.   :63.75               \n",
       " 1st Qu.:802.8   1st Qu.:72.10        1st Qu.:65.14               \n",
       " Median :821.7   Median :72.20        Median :65.67               \n",
       " Mean   :828.8   Mean   :72.41        Mean   :65.71               \n",
       " 3rd Qu.:843.1   3rd Qu.:72.93        3rd Qu.:66.37               \n",
       " Max.   :918.6   Max.   :73.23        Max.   :66.42               \n",
       " NA's   :2240    NA's   :2240         NA's   :2240                \n",
       " max_temp_automn max_temp_summer max_temp_winter  max_temp_year  \n",
       " Min.   :12.72   Min.   :25.18   Min.   :-3.625   Min.   :11.38  \n",
       " 1st Qu.:12.84   1st Qu.:25.37   1st Qu.:-3.367   1st Qu.:11.55  \n",
       " Median :12.86   Median :25.45   Median :-3.310   Median :11.59  \n",
       " Mean   :12.88   Mean   :25.45   Mean   :-3.278   Mean   :11.62  \n",
       " 3rd Qu.:12.94   3rd Qu.:25.57   3rd Qu.:-3.164   3rd Qu.:11.64  \n",
       " Max.   :13.10   Max.   :25.59   Max.   :-3.005   Max.   :11.81  \n",
       " NA's   :2240    NA's   :2240    NA's   :2240     NA's   :2240   \n",
       " mean_temp_automn mean_temp_spring mean_temp_summer mean_temp_winter\n",
       " Min.   :8.297    Min.   :5.697    Min.   :19.86    Min.   :-8.246  \n",
       " 1st Qu.:8.642    1st Qu.:6.099    1st Qu.:20.26    1st Qu.:-7.535  \n",
       " Median :8.678    Median :6.174    Median :20.29    Median :-7.317  \n",
       " Mean   :8.689    Mean   :6.147    Mean   :20.27    Mean   :-7.383  \n",
       " 3rd Qu.:8.786    3rd Qu.:6.249    3rd Qu.:20.30    3rd Qu.:-7.115  \n",
       " Max.   :8.900    Max.   :6.346    Max.   :20.40    Max.   :-7.060  \n",
       " NA's   :2240     NA's   :2240     NA's   :2240     NA's   :2240    \n",
       " mean_temp_year  min_temp_automn min_temp_summer min_temp_year  \n",
       " Min.   :6.525   Min.   :3.754   Min.   :14.38   Min.   :1.564  \n",
       " 1st Qu.:6.962   1st Qu.:4.477   1st Qu.:15.06   1st Qu.:2.403  \n",
       " Median :7.052   Median :4.623   Median :15.19   Median :2.608  \n",
       " Mean   :7.026   Mean   :4.545   Mean   :15.08   Mean   :2.494  \n",
       " 3rd Qu.:7.150   3rd Qu.:4.757   3rd Qu.:15.22   3rd Qu.:2.722  \n",
       " Max.   :7.240   Max.   :4.768   Max.   :15.23   Max.   :2.738  \n",
       " NA's   :2240    NA's   :2240    NA's   :2240    NA's   :2240   \n",
       " num_days_heatwave_class_1 num_days_heatwave_class_2 num_days_heatwave_class_3\n",
       " Min.   :0.0000            Min.   :1.133             Min.   :1.567            \n",
       " 1st Qu.:0.1330            1st Qu.:1.533             1st Qu.:2.267            \n",
       " Median :0.1670            Median :1.600             Median :2.267            \n",
       " Mean   :0.1534            Mean   :1.607             Mean   :2.384            \n",
       " 3rd Qu.:0.2000            3rd Qu.:1.667             3rd Qu.:2.633            \n",
       " Max.   :0.2000            Max.   :1.800             Max.   :2.733            \n",
       " NA's   :2240              NA's   :2240              NA's   :2240             \n",
       " num_days_more_than_30deg num_frost_defrost_automn num_frost_defrost_spring\n",
       " Min.   : 9.433           Min.   :17.33            Min.   :25.23           \n",
       " 1st Qu.:10.933           1st Qu.:17.70            1st Qu.:25.43           \n",
       " Median :11.300           Median :18.00            Median :25.77           \n",
       " Mean   :11.337           Mean   :18.49            Mean   :26.18           \n",
       " 3rd Qu.:11.967           3rd Qu.:18.63            3rd Qu.:26.30           \n",
       " Max.   :12.133           Max.   :22.33            Max.   :30.13           \n",
       " NA's   :2240             NA's   :2240             NA's   :2240            \n",
       " num_frost_defrost_summer num_frost_defrost_winter num_frost_defrost_year\n",
       " Min.   :0                Min.   :25.77            Min.   :67.53         \n",
       " 1st Qu.:0                1st Qu.:26.43            1st Qu.:67.93         \n",
       " Median :0                Median :26.53            Median :68.77         \n",
       " Mean   :0                Mean   :26.57            Mean   :69.62         \n",
       " 3rd Qu.:0                3rd Qu.:26.70            3rd Qu.:70.07         \n",
       " Max.   :0                Max.   :27.67            Max.   :77.60         \n",
       " NA's   :2240             NA's   :2240             NA's   :2240          \n",
       " num_heatwave_class_1 num_heatwave_class_2 num_heatwave_class_3\n",
       " Min.   :0.0000       Min.   :0.2670       Min.   :0.4000      \n",
       " 1st Qu.:0.0330       1st Qu.:0.3670       1st Qu.:0.6000      \n",
       " Median :0.0330       Median :0.4000       Median :0.6330      \n",
       " Mean   :0.0425       Mean   :0.3973       Mean   :0.6431      \n",
       " 3rd Qu.:0.0670       3rd Qu.:0.4000       3rd Qu.:0.6670      \n",
       " Max.   :0.0670       Max.   :0.4670       Max.   :0.7330      \n",
       " NA's   :2240         NA's   :2240         NA's   :2240        \n",
       " total_liquid_precip_automn total_liquid_precip_spring\n",
       " Min.   :247.8              Min.   :189.4             \n",
       " 1st Qu.:256.3              1st Qu.:199.6             \n",
       " Median :257.4              Median :204.2             \n",
       " Mean   :257.6              Mean   :201.9             \n",
       " 3rd Qu.:259.1              3rd Qu.:204.3             \n",
       " Max.   :260.9              Max.   :205.4             \n",
       " NA's   :2240               NA's   :2240              \n",
       " total_liquid_precip_summer total_liquid_precip_winter total_liquid_precip_year\n",
       " Min.   :278.1              Min.   :68.88              Min.   :792.6           \n",
       " 1st Qu.:280.9              1st Qu.:77.05              1st Qu.:815.0           \n",
       " Median :283.0              Median :78.56              Median :830.8           \n",
       " Mean   :282.3              Mean   :78.63              Mean   :824.4           \n",
       " 3rd Qu.:283.7              3rd Qu.:82.41              3rd Qu.:833.0           \n",
       " Max.   :284.4              Max.   :82.51              Max.   :833.7           \n",
       " NA's   :2240               NA's   :2240               NA's   :2240            \n",
       " total_precip_automn total_precip_spring total_precip_summer\n",
       " Min.   :259.8       Min.   :219.7       Min.   :219.7      \n",
       " 1st Qu.:268.6       1st Qu.:228.2       1st Qu.:228.2      \n",
       " Median :269.1       Median :231.6       Median :231.6      \n",
       " Mean   :269.4       Mean   :230.4       Mean   :230.4      \n",
       " 3rd Qu.:270.7       3rd Qu.:232.2       3rd Qu.:232.2      \n",
       " Max.   :272.7       Max.   :233.5       Max.   :233.5      \n",
       " NA's   :2240        NA's   :2240        NA's   :2240       \n",
       " total_precip_winter total_precip_year total_solid_precip_automn\n",
       " Min.   :206.5       Min.   : 973.2    Min.   :10.75            \n",
       " 1st Qu.:218.7       1st Qu.:1002.1    1st Qu.:11.59            \n",
       " Median :219.0       Median :1011.1    Median :11.60            \n",
       " Mean   :219.8       Mean   :1009.3    Mean   :11.70            \n",
       " 3rd Qu.:221.9       3rd Qu.:1016.0    3rd Qu.:11.80            \n",
       " Max.   :222.9       Max.   :1020.3    Max.   :12.94            \n",
       " NA's   :2240        NA's   :2240      NA's   :2240             \n",
       " total_solid_precip_spring total_solid_precip_summer total_solid_precip_winter\n",
       " Min.   :27.76             Min.   :0                 Min.   :129.7            \n",
       " 1st Qu.:28.68             1st Qu.:0                 1st Qu.:132.1            \n",
       " Median :28.93             Median :0                 Median :137.5            \n",
       " Mean   :29.04             Mean   :0                 Mean   :137.7            \n",
       " 3rd Qu.:29.63             3rd Qu.:0                 3rd Qu.:139.9            \n",
       " Max.   :30.83             Max.   :0                 Max.   :150.3            \n",
       " NA's   :2240              NA's   :2240              NA's   :2240             \n",
       " total_solid_precip_year\n",
       " Min.   :169.8          \n",
       " 1st Qu.:173.7          \n",
       " Median :177.5          \n",
       " Mean   :177.5          \n",
       " 3rd Qu.:179.6          \n",
       " Max.   :190.4          \n",
       " NA's   :2240           "
      ]
     },
     "metadata": {},
     "output_type": "display_data"
    }
   ],
   "source": [
    "summary(species_data_final@data)"
   ]
  },
  {
   "cell_type": "markdown",
   "metadata": {},
   "source": [
    "#### 2.3.1 - Problèmes liées aux données d'Ouranos  :\n",
    "\n",
    "On remarque dans notre dataset quelques points inquiétants : \n",
    "- Il y a beaucoup de valeurs manquantes.\n",
    "- Il y a quelques variables qui ont 0 de variance (elles ne changent jamais, ex : total_solid_precip_summer).\n",
    "- Il y a une très grosse redondance dans les données.\n",
    "\n",
    "Pour les valeurs manquantes, elles sont probablemenet dûes aux points d'absences qui dépassent de l'extent du raster layer à cause de la différence entre la carte des limites administratives et la carte des données climatiques d'Ouranos. Pour le besoin de l'étude, on va juste les éliminer. Même chose pour les variables qui ont 0 de variance. "
   ]
  },
  {
   "cell_type": "code",
   "execution_count": 28,
   "metadata": {},
   "outputs": [],
   "source": [
    "# Enlever les valeurs manquantes\n",
    "species_data_final@data <- na.omit(species_data_final@data) \n",
    "\n",
    "# Enlever les variables qui ont 0 de variance\n",
    "zero_variance_variables <- which(apply(species_data_final@data, 2, var) == 0)\n",
    "species_data_final@data <- species_data_final@data[ -as.numeric(zero_variance_variables)]"
   ]
  },
  {
   "cell_type": "markdown",
   "metadata": {},
   "source": [
    "Le plus inquiétant par contre c'est la redondance des données, qui peut être soit liées aux correlations entre les attributs, ou aux corrélations entre les enregistrements.\n",
    "\n",
    "Les attributs corréllés entre eux n'apportent pas d'information supplémentaires. Pour les faire ressortir nous devons utiliser une matrice de correlation. "
   ]
  },
  {
   "cell_type": "code",
   "execution_count": 29,
   "metadata": {},
   "outputs": [
    {
     "data": {
      "image/png": "[encoded data removed]",
      "text/plain": [
       "Plot with title \"\""
      ]
     },
     "metadata": {},
     "output_type": "display_data"
    }
   ],
   "source": [
    "# Afficher la matrice de corrélation\n",
    "cor_matrix <- cor(species_data_final@data)\n",
    "corrplot(cor_matrix, method=\"color\", tl.cex=.5, tl.col=\"black\")"
   ]
  },
  {
   "cell_type": "markdown",
   "metadata": {},
   "source": [
    "On peut remarquer d'après la matrice que les attributs sont hautement corrélés (positivement ou négativement). \n",
    "\n",
    "Pour régler ce problème en général, on supprime les attributs dont la valeur absolue de corrélation dépasse un certain coefficient de Pearson (coefficient de corrélation). Avant de choisir notre coefficient se, faisons d'abord des statistiques simples montrant le nombre d'attributs supprimés en prenant en considération des seuils différents : "
   ]
  },
  {
   "cell_type": "code",
   "execution_count": 30,
   "metadata": {},
   "outputs": [
    {
     "name": "stdout",
     "output_type": "stream",
     "text": [
      "[1] \"Coefficient de Pearson (valeur absolue) : 0.7 - Nombre d'attributs supprimés :39\"\n",
      "[1] \"Coefficient de Pearson (valeur absolue) : 0.8 - Nombre d'attributs supprimés :37\"\n",
      "[1] \"Coefficient de Pearson (valeur absolue) : 0.9 - Nombre d'attributs supprimés :31\"\n",
      "[1] \"Coefficient de Pearson (valeur absolue) : 0.99 - Nombre d'attributs supprimés :9\"\n"
     ]
    }
   ],
   "source": [
    "# Eliminer le triangle supérieur de la matrice de correlation (car elle est symetrique)\n",
    "cor_matrix[upper.tri(cor_matrix)] <- 0\n",
    "\n",
    "# Fixer les valeurs dans la diagonale car les variables avec elles-mêmes ont un coefficient de 1\n",
    "diag(cor_matrix) <- 0\n",
    "                                                                     \n",
    "# Faire des statistiques sur la corrélation des attributs\n",
    "thresholds <- c(0.7, 0.8, 0.9, 0.99)\n",
    "for (threshold in thresholds) {\n",
    "    # Créer un dataset avec les attributs corréllés supprimés\n",
    "    len_before_cleaning <- length(species_data_final@data)\n",
    "    cleaned_dataset <- species_data_final@data[, !apply(cor_matrix, 2, function(x) any(abs(x) > threshold))]\n",
    "    len_after_cleaning <- length(cleaned_dataset)\n",
    "    \n",
    "    # Afficher le nombre d'attributs supprimés dans ce nouveau dataset\n",
    "    print(paste(\"Coefficient de Pearson (valeur absolue) : \", threshold, \n",
    "                \" - Nombre d'attributs supprimés :\", len_before_cleaning - len_after_cleaning, sep=\"\"))\n",
    "}"
   ]
  },
  {
   "cell_type": "markdown",
   "metadata": {},
   "source": [
    "Ce résultat renforce nos inquiétudes, plus de 37 attributs sont redondants (0.8 est une valeur considérée assez conséquente). Nous allons quand même continuer l'entrainement avec un dataset filtré avec un coefficient de Pearson à **0.8**."
   ]
  },
  {
   "cell_type": "code",
   "execution_count": 31,
   "metadata": {},
   "outputs": [],
   "source": [
    "species_data_final@data <- species_data_final@data[, !apply(cor_matrix, 2, function(x) any(abs(x) > 0.8))]"
   ]
  },
  {
   "cell_type": "markdown",
   "metadata": {},
   "source": [
    "Passons maintenant au deuxième type de redondance, qui est ici bien plus inquiétant : La redondance des enregistrements. Tout d'abord, visualisons le nombre de données uniques dans notre jeu de données : "
   ]
  },
  {
   "cell_type": "code",
   "execution_count": 32,
   "metadata": {},
   "outputs": [
    {
     "name": "stdout",
     "output_type": "stream",
     "text": [
      "[1] \"Nombre d'enregistrements uniques en incluant les classes : 34\"\n",
      "[1] \"Nombre d'enregistrements uniques sans les classes : 18\"\n",
      "[1] \"==== Nombre d'enregistrements uniques par classe ====\"\n",
      "[1] \"Present = 1 : 16\"\n",
      "[1] \"Present = 0 : 18\"\n"
     ]
    }
   ],
   "source": [
    "# Compter le nombre d'enregistrements uniques dans le dataset\n",
    "print(paste(\"Nombre d'enregistrements uniques en incluant les classes :\", count(species_data_final@data %>% distinct())$n))\n",
    "\n",
    "# Compter le nombre d'enregistrements sans la valeur cible \n",
    "print(paste(\"Nombre d'enregistrements uniques sans les classes :\",\n",
    "      count(species_data_final@data[2:length(species_data_final@data)] %>% distinct())$n))\n",
    "\n",
    "# Compter le nombre d'enregistrements par classes\n",
    "print(\"==== Nombre d'enregistrements uniques par classe ====\")\n",
    "print(paste(\"Present = 1 :\", count(species_data_final@data[species_data_final@data$Present == 1, ] %>% distinct())$n))\n",
    "print(paste(\"Present = 0 :\", count(species_data_final@data[species_data_final@data$Present == 0, ] %>% distinct())$n))"
   ]
  },
  {
   "cell_type": "markdown",
   "metadata": {},
   "source": [
    "On remarque qu'on n'a que 19 enregistrements uniques distribués sur les deux valeurs de la classe cible (Present). Il n'y a en tout que 2 lignes différentes entre les enregistrements de présence et les enregistrements d'absence.\n",
    "\n",
    "Cette redondance est très probablement dûe à l'imprécision des données d'Ouranos (60km² environ) qui donne des cellules très grosses. C'est un problème, car les données ne sont pas discriminantes (pas de différence entre les classes), l'algorithme de Machine Learning ne pourra pas donc trouver des relations pertinentes."
   ]
  },
  {
   "cell_type": "markdown",
   "metadata": {},
   "source": [
    "## 3. Entrainement des modèles\n",
    "Dans ce projet, il sera question d'utiliser des algorithmes de Machine Learning, à savoir le **Random Forest** et **MAXENT**."
   ]
  },
  {
   "cell_type": "markdown",
   "metadata": {},
   "source": [
    "### 3.1 - Séparation des données\n",
    "La séparation des données de test se fera à l'aide de la technique dite de la **Block Cross Validation**.\n",
    "\n",
    "La block cross validation est une technique de séparation des données qui consiste à prendre en considération la position des données dans l'espace (ou le temps).\n",
    "\n",
    "Par exemple, une stratégie de block cross validation consiste à séparer l'espace en blocs de même taille à la manière d'une grille, chaque bloc sera alors numéroté de 1 jusqu'à k (le nombre de *folds*), puis les blocs ayant le même numéro seront regroupé dans un *fold*. Le but de cette stratégie est de prendre nos données à partir d'endroits relativement eloignés, comme l'illustre cette figure : \n",
    "\n",
    "<img src=\"https://besjournals.onlinelibrary.wiley.com/cms/asset/58e88b81-cd83-44b0-b6ed-f4bafd1c9f45/mee313107-fig-0002-m.png\n",
    "          \"/>\n",
    "\n",
    "Ces techniques de validation croisée sont implémentés dans le package **blockCV** du langage R. "
   ]
  },
  {
   "cell_type": "code",
   "execution_count": 33,
   "metadata": {},
   "outputs": [
    {
     "name": "stderr",
     "output_type": "stream",
     "text": [
      "Warning message in rasterNet(rasterLayer[[1]], resolution = theRange, xbin = cols, :\n",
      "\"The input layer has no CRS defined. Based on the extent of the input map it is assumed to have an un-projected reference system\"Warning message in spatialBlock(speciesData = species_data, species = \"Present\", :\n",
      " Progress [===================================================] 100% in 11m\n"
     ]
    },
    {
     "name": "stdout",
     "output_type": "stream",
     "text": [
      "The best folds was in iteration 4:\n",
      "  train_0 train_1 test_0 test_1\n",
      "1    8954   27688   2395   5359\n",
      "2    9255   27087   2094   5960\n",
      "3    8981   25779   2368   7268\n",
      "4    9085   27149   2264   5898\n",
      "5    9121   24485   2228   8562\n"
     ]
    },
    {
     "data": {
      "text/plain": [
       "[1] \"SpatialBlock\""
      ]
     },
     "metadata": {},
     "output_type": "display_data"
    },
    {
     "data": {
      "image/png": "[encoded data removed]",
      "text/plain": [
       "plot without title"
      ]
     },
     "metadata": {},
     "output_type": "display_data"
    }
   ],
   "source": [
    "# Stratégie de block spatiaux \n",
    "folds <- spatialBlock(speciesData = species_data, # Données d'occurrence\n",
    "                   species = \"Present\", # La colonne cible (la classe)\n",
    "                   theRange = 5000, # Taille des blocks (en m)\n",
    "                   k = 5, # Nombre de folds\n",
    "                   selection = \"random\", # Selection aléatoires de blocs \n",
    "                   rasterLayer = raster_layer, # a raster for background (optional)\n",
    "                   iteration = 100, # Nombre d'itérations avant de trouver les blocs optimaux (bonne distribution des données)\n",
    "                   biomod2Format = FALSE)\n",
    "folds"
   ]
  },
  {
   "cell_type": "markdown",
   "metadata": {},
   "source": [
    "Maintenant la séparation faite, nous pouvons entrainer notre premier modèle : le Random Forest : "
   ]
  },
  {
   "cell_type": "code",
   "execution_count": 54,
   "metadata": {},
   "outputs": [],
   "source": [
    "# Métriques \n",
    "# --- Entrainement ----\n",
    "train_accuracy <- numeric(length(folds$folds))\n",
    "train_kappa <- numeric(length(folds$folds))\n",
    "train_auc <- numeric(length(folds$folds))\n",
    "train_f1_measure <- numeric(length(folds$folds))\n",
    "train_no_information_rate <- numeric(length(folds$folds))\n",
    "\n",
    "# --- Test ----\n",
    "accuracy <- numeric(length(folds$folds))\n",
    "kappa <- numeric(length(folds$folds))\n",
    "auc <- numeric(length(folds$folds))\n",
    "f1_measure <- numeric(length(folds$folds))\n",
    "no_information_rate <- numeric(length(folds$folds))\n",
    "\n",
    "# Modèles et predictions\n",
    "rf <- vector(\"list\", (length(folds$folds)))\n",
    "# predictions <- vector(\"list\", (length(folds$folds)))\n",
    "\n",
    "# Pour chaque fold...\n",
    "for (i in 1:length(folds$folds)){\n",
    "    fold <- folds$folds[[i]]\n",
    "    \n",
    "    # Extraire les données d'entrainement\n",
    "    xy_train <- species_data_final[fold[1][[1]], ]\n",
    "    xy_train <- na.omit(xy_train@data)\n",
    "    y_train <- xy_train$Present\n",
    "    x_train <- xy_train[2:length(colnames(xy_train))]\n",
    "    \n",
    "    # Extraire les données de test\n",
    "    xy_test <- species_data_final[fold[2][[1]], ]\n",
    "    xy_test <- na.omit(xy_test@data)\n",
    "    \n",
    "    # Entrainer le modèle Random Forest (paramètres par défault)\n",
    "    sdm_rf <- randomForest(x_train, as.factor(y_train))\n",
    "    rf[[i]] <- sdm_rf\n",
    "    \n",
    "    # ===== METRIQUES ======\n",
    "    # Nous utilisons la fonction confusionMatrix de Caret \n",
    "    # pour obtenir les metriques suivantes : accuracy, kappa et no_information_rate\n",
    "    \n",
    "    # ------ ENTRAINEMENT ------\n",
    "    prediction <- predict(sdm_rf, xy_train)\n",
    "    \n",
    "    # Accuracy / Kappa / NIR / F-Measure\n",
    "    cm <- confusionMatrix(as.factor(xy_train$Present), as.factor(prediction))\n",
    "    overall <- cm[3][[1]]\n",
    "    train_accuracy[i] <- overall[1]\n",
    "    train_kappa[i] <- overall[2]\n",
    "    train_no_information_rate[i] <- overall[5]\n",
    "    \n",
    "    byClass <- cm[4][[1]]\n",
    "    train_f1_measure[i] <- byClass[7]\n",
    "    \n",
    "    # AUC\n",
    "    rf_p_train <- predict(sdm_rf, type=\"prob\", newdata=xy_train)[,2]\n",
    "    rf_pr_train <- prediction(rf_p_train, as.factor(xy_train$Present))\n",
    "    train_auc[i] <- performance(rf_pr_train, measure = \"auc\")@y.values[[1]] \n",
    "    \n",
    "    # ----- TEST ------\n",
    "    prediction <- predict(sdm_rf, xy_test)\n",
    "    \n",
    "    cm <- confusionMatrix(as.factor(xy_test$Present), as.factor(prediction))\n",
    "    overall <- cm[3][[1]]\n",
    "    accuracy[i] <- overall[1]\n",
    "    kappa[i] <- overall[2]\n",
    "    no_information_rate[i] <- overall[5]\n",
    "    \n",
    "    byClass <- cm[4][[1]]\n",
    "    f1_measure[i] <- byClass[7]\n",
    "    \n",
    "    # Calculer l'AUC\n",
    "    rf_p_train <- predict(sdm_rf, type=\"prob\", newdata=xy_test)[,2]\n",
    "    rf_pr_train <- prediction(rf_p_train, as.factor(xy_test$Present))\n",
    "    auc[i] <- performance(rf_pr_train, measure = \"auc\")@y.values[[1]] \n",
    "}"
   ]
  },
  {
   "cell_type": "code",
   "execution_count": 53,
   "metadata": {},
   "outputs": [
    {
     "name": "stdout",
     "output_type": "stream",
     "text": [
      "\n",
      "===== STATISTIQUES DES MODELES =====\n"
     ]
    },
    {
     "data": {
      "text/html": [
       "<table>\n",
       "<thead><tr><th scope=col>Train_Accuracy</th><th scope=col>Train_Kappa</th><th scope=col>Train_NIR</th><th scope=col>Train_Auc</th><th scope=col>Train_F1_Measure</th><th scope=col>Accuracy</th><th scope=col>Kappa</th><th scope=col>No_Information_Rate</th><th scope=col>Auc</th><th scope=col>F1_Measure</th></tr></thead>\n",
       "<tbody>\n",
       "\t<tr><td>0.8545872</td><td>0.4508777</td><td>0.9065940</td><td>0.6873633</td><td>0.5219604</td><td>0.8184565</td><td>0.4263959</td><td>0.8889041</td><td>0.6749604</td><td>0.5161054</td></tr>\n",
       "\t<tr><td>0.8469716</td><td>0.4417604</td><td>0.9015149</td><td>0.6779797</td><td>0.5175783</td><td>0.8545621</td><td>0.4684052</td><td>0.9126849</td><td>0.6835826</td><td>0.5353409</td></tr>\n",
       "\t<tr><td>0.8446949</td><td>0.4426392</td><td>0.9006847</td><td>0.6782311</td><td>0.5193173</td><td>0.8615116</td><td>0.4609848</td><td>0.9138270</td><td>0.6812214</td><td>0.5265123</td></tr>\n",
       "\t<tr><td>0.8509995</td><td>0.4459533</td><td>0.9065260</td><td>0.6782124</td><td>0.5182262</td><td>0.8365608</td><td>0.4477459</td><td>0.8902659</td><td>0.6829399</td><td>0.5307635</td></tr>\n",
       "\t<tr><td>0.8439179</td><td>0.4513683</td><td>0.9021148</td><td>0.6806499</td><td>0.5269073</td><td>0.8619789</td><td>0.4280009</td><td>0.9079215</td><td>0.6725169</td><td>0.4980654</td></tr>\n",
       "</tbody>\n",
       "</table>\n"
      ],
      "text/latex": [
       "\\begin{tabular}{r|llllllllll}\n",
       " Train\\_Accuracy & Train\\_Kappa & Train\\_NIR & Train\\_Auc & Train\\_F1\\_Measure & Accuracy & Kappa & No\\_Information\\_Rate & Auc & F1\\_Measure\\\\\n",
       "\\hline\n",
       "\t 0.8545872 & 0.4508777 & 0.9065940 & 0.6873633 & 0.5219604 & 0.8184565 & 0.4263959 & 0.8889041 & 0.6749604 & 0.5161054\\\\\n",
       "\t 0.8469716 & 0.4417604 & 0.9015149 & 0.6779797 & 0.5175783 & 0.8545621 & 0.4684052 & 0.9126849 & 0.6835826 & 0.5353409\\\\\n",
       "\t 0.8446949 & 0.4426392 & 0.9006847 & 0.6782311 & 0.5193173 & 0.8615116 & 0.4609848 & 0.9138270 & 0.6812214 & 0.5265123\\\\\n",
       "\t 0.8509995 & 0.4459533 & 0.9065260 & 0.6782124 & 0.5182262 & 0.8365608 & 0.4477459 & 0.8902659 & 0.6829399 & 0.5307635\\\\\n",
       "\t 0.8439179 & 0.4513683 & 0.9021148 & 0.6806499 & 0.5269073 & 0.8619789 & 0.4280009 & 0.9079215 & 0.6725169 & 0.4980654\\\\\n",
       "\\end{tabular}\n"
      ],
      "text/markdown": [
       "\n",
       "| Train_Accuracy | Train_Kappa | Train_NIR | Train_Auc | Train_F1_Measure | Accuracy | Kappa | No_Information_Rate | Auc | F1_Measure |\n",
       "|---|---|---|---|---|---|---|---|---|---|\n",
       "| 0.8545872 | 0.4508777 | 0.9065940 | 0.6873633 | 0.5219604 | 0.8184565 | 0.4263959 | 0.8889041 | 0.6749604 | 0.5161054 |\n",
       "| 0.8469716 | 0.4417604 | 0.9015149 | 0.6779797 | 0.5175783 | 0.8545621 | 0.4684052 | 0.9126849 | 0.6835826 | 0.5353409 |\n",
       "| 0.8446949 | 0.4426392 | 0.9006847 | 0.6782311 | 0.5193173 | 0.8615116 | 0.4609848 | 0.9138270 | 0.6812214 | 0.5265123 |\n",
       "| 0.8509995 | 0.4459533 | 0.9065260 | 0.6782124 | 0.5182262 | 0.8365608 | 0.4477459 | 0.8902659 | 0.6829399 | 0.5307635 |\n",
       "| 0.8439179 | 0.4513683 | 0.9021148 | 0.6806499 | 0.5269073 | 0.8619789 | 0.4280009 | 0.9079215 | 0.6725169 | 0.4980654 |\n",
       "\n"
      ],
      "text/plain": [
       "  Train_Accuracy Train_Kappa Train_NIR Train_Auc Train_F1_Measure Accuracy \n",
       "1 0.8545872      0.4508777   0.9065940 0.6873633 0.5219604        0.8184565\n",
       "2 0.8469716      0.4417604   0.9015149 0.6779797 0.5175783        0.8545621\n",
       "3 0.8446949      0.4426392   0.9006847 0.6782311 0.5193173        0.8615116\n",
       "4 0.8509995      0.4459533   0.9065260 0.6782124 0.5182262        0.8365608\n",
       "5 0.8439179      0.4513683   0.9021148 0.6806499 0.5269073        0.8619789\n",
       "  Kappa     No_Information_Rate Auc       F1_Measure\n",
       "1 0.4263959 0.8889041           0.6749604 0.5161054 \n",
       "2 0.4684052 0.9126849           0.6835826 0.5353409 \n",
       "3 0.4609848 0.9138270           0.6812214 0.5265123 \n",
       "4 0.4477459 0.8902659           0.6829399 0.5307635 \n",
       "5 0.4280009 0.9079215           0.6725169 0.4980654 "
      ]
     },
     "metadata": {},
     "output_type": "display_data"
    },
    {
     "name": "stdout",
     "output_type": "stream",
     "text": [
      "\n",
      "===== MOYENNES =====\n",
      "\n",
      "--- Entrainement ----\n",
      "\n",
      "[1] \"Moyenne accuracy (entrainement): 0.8482%\"\n",
      "[1] \"Moyenne kappa (entrainement) : 0.4465%\"\n",
      "[1] \"Moyenne AUC (entrainement): 0.6805%\"\n",
      "[1] \"Moyenne NIR (entrainement): 0.9035%\"\n",
      "\n",
      "--- Test ----\n",
      "\n",
      "[1] \"Moyenne accuracy (test): 0.8466%\"\n",
      "[1] \"Moyenne kappa (test) : 0.4463%\"\n",
      "[1] \"Moyenne AUC (test): 0.6790%\"\n",
      "[1] \"Moyenne NIR (test): 0.9027%\"\n",
      "\n",
      "\n",
      "===== STATISTIQUES COMPLETES =====\n"
     ]
    },
    {
     "data": {
      "text/plain": [
       " Train_Accuracy    Train_Kappa       Train_NIR        Train_Auc     \n",
       " Min.   :0.8439   Min.   :0.4418   Min.   :0.9007   Min.   :0.6780  \n",
       " 1st Qu.:0.8447   1st Qu.:0.4426   1st Qu.:0.9015   1st Qu.:0.6782  \n",
       " Median :0.8470   Median :0.4460   Median :0.9021   Median :0.6782  \n",
       " Mean   :0.8482   Mean   :0.4465   Mean   :0.9035   Mean   :0.6805  \n",
       " 3rd Qu.:0.8510   3rd Qu.:0.4509   3rd Qu.:0.9065   3rd Qu.:0.6806  \n",
       " Max.   :0.8546   Max.   :0.4514   Max.   :0.9066   Max.   :0.6874  \n",
       " Train_F1_Measure    Accuracy          Kappa        No_Information_Rate\n",
       " Min.   :0.5176   Min.   :0.8185   Min.   :0.4264   Min.   :0.8889     \n",
       " 1st Qu.:0.5182   1st Qu.:0.8366   1st Qu.:0.4280   1st Qu.:0.8903     \n",
       " Median :0.5193   Median :0.8546   Median :0.4477   Median :0.9079     \n",
       " Mean   :0.5208   Mean   :0.8466   Mean   :0.4463   Mean   :0.9027     \n",
       " 3rd Qu.:0.5220   3rd Qu.:0.8615   3rd Qu.:0.4610   3rd Qu.:0.9127     \n",
       " Max.   :0.5269   Max.   :0.8620   Max.   :0.4684   Max.   :0.9138     \n",
       "      Auc           F1_Measure    \n",
       " Min.   :0.6725   Min.   :0.4981  \n",
       " 1st Qu.:0.6750   1st Qu.:0.5161  \n",
       " Median :0.6812   Median :0.5265  \n",
       " Mean   :0.6790   Mean   :0.5214  \n",
       " 3rd Qu.:0.6829   3rd Qu.:0.5308  \n",
       " Max.   :0.6836   Max.   :0.5353  "
      ]
     },
     "metadata": {},
     "output_type": "display_data"
    }
   ],
   "source": [
    "# Data frame contenant les statistiques de nos modèles\n",
    "model_stats = data.frame(\n",
    "    Train_Accuracy=train_accuracy, \n",
    "    Train_Kappa=train_kappa, \n",
    "    Train_NIR=train_no_information_rate,\n",
    "    Train_Auc=train_auc, \n",
    "    Train_F1_Measure=train_f1_measure,\n",
    "    Accuracy=accuracy, \n",
    "    Kappa=kappa, \n",
    "    No_Information_Rate=no_information_rate,\n",
    "    Auc=auc,\n",
    "    F1_Measure=f1_measure\n",
    ")\n",
    "\n",
    "cat('\\n===== STATISTIQUES DES MODELES =====\\n')\n",
    "head(model_stats)\n",
    "\n",
    "# Afficher les moyennes des metriques\n",
    "cat('\\n===== MOYENNES =====\\n')\n",
    "\n",
    "cat('\\n--- Entrainement ----\\n\\n')\n",
    "print(paste('Moyenne accuracy (entrainement): ', as.character(format(round(mean(model_stats$Train_Accuracy), 4), nsmall = 4)), \n",
    "            \"%\", sep=\"\"))\n",
    "print(paste('Moyenne kappa (entrainement) : ', as.character(format(round(mean(model_stats$Train_Kappa), 4), nsmall = 4)), \n",
    "            \"%\", sep=\"\"))\n",
    "print(paste('Moyenne AUC (entrainement): ', as.character(format(round(mean(model_stats$Train_Auc), 4), nsmall = 4)), \n",
    "            \"%\", sep=\"\"))\n",
    "print(paste('Moyenne NIR (entrainement): ', as.character(format(round(mean(model_stats$Train_NIR), 4), \n",
    "                                                                nsmall = 4)), \"%\", sep=\"\"))\n",
    "\n",
    "cat('\\n--- Test ----\\n\\n')\n",
    "print(paste('Moyenne accuracy (test): ', as.character(format(round(mean(model_stats$Accuracy), 4), nsmall = 4)), \"%\", sep=\"\"))\n",
    "print(paste('Moyenne kappa (test) : ', as.character(format(round(mean(model_stats$Kappa), 4), nsmall = 4)), \"%\", sep=\"\"))\n",
    "print(paste('Moyenne AUC (test): ', as.character(format(round(mean(model_stats$Auc), 4), nsmall = 4)), \"%\", sep=\"\"))\n",
    "print(paste('Moyenne NIR (test): ', as.character(format(round(mean(model_stats$No_Information_Rate), 4), nsmall = 4)), \n",
    "            \"%\", sep=\"\"))\n",
    "\n",
    "# Statistiques complètes\n",
    "cat(\"\\n\\n===== STATISTIQUES COMPLETES =====\\n\")\n",
    "summary(model_stats)"
   ]
  },
  {
   "cell_type": "markdown",
   "metadata": {},
   "source": []
  }
 ],
 "metadata": {
  "kernelspec": {
   "display_name": "R",
   "language": "R",
   "name": "ir"
  },
  "language_info": {
   "codemirror_mode": "r",
   "file_extension": ".r",
   "mimetype": "text/x-r-source",
   "name": "R",
   "pygments_lexer": "r",
   "version": "3.6.1"
  }
 },
 "nbformat": 4,
 "nbformat_minor": 4
}
