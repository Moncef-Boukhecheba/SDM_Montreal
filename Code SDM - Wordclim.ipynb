{
 "cells": [
  {
   "cell_type": "markdown",
   "metadata": {},
   "source": [
    "# Modèles de distributions d'espèces - Cas des forets urbaines à Montreal\n",
    "\n",
    "## 1 - Introduction \n",
    "Le but de ce projet est de trouver un moyen de prédire efficacement la distribution des différentes espèces d'arbres à travers la région de Montreal, ce qui permetterait aux aménagistes forestiers de s'assurer que les espèces plantées survivent au changement climatique de la région. Ce projet se concentre particulièrement sur les **forets urbaines**.\n",
    "\n",
    "Il sera alors question dans ce notebook de fournir le code capable de créer un **modèle de distribution d'espèces (SDM)** en utilisant des algorithmes **d'apprentissage automatique (Machine Learning)** avec le langage **R**.\n",
    "\n",
    "## 2 - Collecte et traitement des données \n",
    "Pour créer un modèle de distribution d'espèces, on aura besoin de deux types de données : \n",
    "* **Les données d'occurrence :** Ces données relatent l'observation d'une espèce à une localisation (et/ou une date) précise. Ces données peuvent décrire le nombre d'une espèce dans chaque zone, on parlera alors de données *d'abondance*, sinon elles peuvent aussi seulement décrire la *présence et l'absence confirmée* d'une espèce dans la zone. Généralement, même les données contenant des absences confirmées sont rares car elles sont difficiles à produire. Nous trouverons alors plutôt des données *de présence seulement (presence-only data)*, et c'est cela que l'on va utiliser dans ce projet.\n",
    "\n",
    "\n",
    "* **Les données environnementales :** Ces données relatent le climat d'une région donnée en le décrivant avec plusieurs variables environnementales (température annuelle minimale, précipitation maximale par saison...etc.). Ces données séparent généralement la région en plusieurs cellules à la manière d'une grille où chaque cellule contient des valeurs environnementales différentes. \n",
    "\n",
    "### 2.1 - Données d'occurrence :\n",
    "Les données d'occurrence utilisées ici seront les données d'arbres publics à Montreal (voir ce lien : https://donnees.montreal.ca/ville-de-montreal/arbres (Consulté le 03/04/2021)). "
   ]
  },
  {
   "cell_type": "code",
   "execution_count": 1,
   "metadata": {},
   "outputs": [],
   "source": [
    "# Décommenter cette ligne pour installer le package BlockCV (introuvable sur Anaconda)\n",
    "# install.packages('blockCV')"
   ]
  },
  {
   "cell_type": "code",
   "execution_count": 2,
   "metadata": {},
   "outputs": [
    {
     "name": "stderr",
     "output_type": "stream",
     "text": [
      "Registered S3 methods overwritten by 'ggplot2':\n",
      "  method         from \n",
      "  [.quosures     rlang\n",
      "  c.quosures     rlang\n",
      "  print.quosures rlang\n",
      "Registered S3 method overwritten by 'rvest':\n",
      "  method            from\n",
      "  read_xml.response xml2\n",
      "-- Attaching packages --------------------------------------- tidyverse 1.2.1 --\n",
      "v ggplot2 3.1.1       v purrr   0.3.2  \n",
      "v tibble  2.1.1       v dplyr   0.8.0.1\n",
      "v tidyr   0.8.3       v stringr 1.4.0  \n",
      "v readr   1.3.1       v forcats 0.4.0  \n",
      "-- Conflicts ------------------------------------------ tidyverse_conflicts() --\n",
      "x dplyr::filter() masks stats::filter()\n",
      "x dplyr::lag()    masks stats::lag()\n",
      "\n",
      "Attaching package: 'raster'\n",
      "\n",
      "The following object is masked from 'package:dplyr':\n",
      "\n",
      "    select\n",
      "\n",
      "The following object is masked from 'package:tidyr':\n",
      "\n",
      "    extract\n",
      "\n",
      "randomForest 4.6-14\n",
      "Type rfNews() to see new features/changes/bug fixes.\n",
      "\n",
      "Attaching package: 'randomForest'\n",
      "\n",
      "The following object is masked from 'package:dplyr':\n",
      "\n",
      "    combine\n",
      "\n",
      "The following object is masked from 'package:ggplot2':\n",
      "\n",
      "    margin\n",
      "\n",
      "rgdal: version: 1.4-4, (SVN revision 833)\n",
      " Geospatial Data Abstraction Library extensions to R successfully loaded\n",
      " Loaded GDAL runtime: GDAL 2.2.3, released 2017/11/20\n",
      " Path to GDAL shared files: C:/Users/gaming/anaconda3/envs/r_env/Lib/R/library/rgdal/gdal\n",
      " GDAL binary built with GEOS: TRUE \n",
      " Loaded PROJ.4 runtime: Rel. 4.9.3, 15 August 2016, [PJ_VERSION: 493]\n",
      " Path to PROJ.4 shared files: C:/Users/gaming/anaconda3/envs/r_env/Lib/R/library/rgdal/proj\n",
      " Linking to sp version: 1.3-1 \n",
      "Loading required package: lattice\n",
      "\n",
      "Attaching package: 'caret'\n",
      "\n",
      "The following object is masked from 'package:purrr':\n",
      "\n",
      "    lift\n",
      "\n",
      "rgeos version: 0.5-1, (SVN revision 614)\n",
      " GEOS runtime version: 3.6.1-CAPI-1.10.1 \n",
      " Linking to sp version: 1.3-1 \n",
      " Polygon checking: TRUE \n",
      "\n",
      "Warning message:\n",
      "\"package 'blockCV' was built under R version 3.6.3\"Loading required package: gplots\n",
      "\n",
      "Attaching package: 'gplots'\n",
      "\n",
      "The following object is masked from 'package:stats':\n",
      "\n",
      "    lowess\n",
      "\n",
      "corrplot 0.84 loaded\n"
     ]
    }
   ],
   "source": [
    "# Importer les bibliothèques nécessaires \n",
    "\n",
    "# Tidyverse : une bibliothèque populaire de manipulation de données\n",
    "# Elle contient plusieurs autres packages telles que dplyr, readr, ggplot...etc.\n",
    "library('tidyverse')\n",
    "\n",
    "# Sp : Fournit des classes et des méthodes permettant de représenter et manipuler les données géospatiales\n",
    "library('sp')\n",
    "\n",
    "# Raster : Api haut niveau permettant la lecture / la manipulation des données raster et vecteurs\n",
    "library('raster')\n",
    "\n",
    "# RandomForest : Permet la création d'un modèle Random Forest\n",
    "library('randomForest')\n",
    "\n",
    "# RGDAL : Implementation Haut niveau de la bibliothèque publique GDAL\n",
    "library('rgdal')\n",
    "\n",
    "# Caret : Bibliothèque d'évalation des modèles de Machine Learning\n",
    "library('caret')\n",
    "\n",
    "# Conflicted : Affiche les conflits entre les packages si il y en a (lors de l'appel d'une fonction par exemple)\n",
    "library('conflicted')\n",
    "\n",
    "# Rgeos : Est utilisée ici pour créer des polygones utiles à la génération de données de pseudo-absence\n",
    "library('rgeos')\n",
    "\n",
    "# BlockCV : Permet la séparation des données de test/entrainement en utilsant la Block Cross Validation\n",
    "library('blockCV')\n",
    "\n",
    "# Dismo : Bibliothèque très populaire permettant d'implémenter des fonctions et des modèles associés aux SDMs\n",
    "library('dismo')\n",
    "\n",
    "# ROCR : Bibliothèque de génération des courbes ROC\n",
    "library('ROCR')\n",
    "\n",
    "# Corrplot : Afficher les matrices de corrélation\n",
    "library('corrplot')\n",
    "\n",
    "# Options de visualisation de dataframes : limiter le nombre de lignes et afficher un maximum de colonnes\n",
    "options(repr.matrix.max.cols=50, repr.matrix.max.rows=20)"
   ]
  },
  {
   "cell_type": "code",
   "execution_count": 3,
   "metadata": {},
   "outputs": [
    {
     "name": "stderr",
     "output_type": "stream",
     "text": [
      "Parsed with column specification:\n",
      "cols(\n",
      "  .default = col_character(),\n",
      "  EMP_NO = col_double(),\n",
      "  ARROND = col_double(),\n",
      "  Rue = col_logical(),\n",
      "  COTE = col_logical(),\n",
      "  No_civique = col_logical(),\n",
      "  Coord_X = col_double(),\n",
      "  Coord_Y = col_double(),\n",
      "  DHP = col_double(),\n",
      "  Date_releve = col_datetime(format = \"\"),\n",
      "  Date_plantation = col_datetime(format = \"\"),\n",
      "  LOCALISATION = col_logical(),\n",
      "  Longitude = col_double(),\n",
      "  Latitude = col_double()\n",
      ")\n",
      "See spec(...) for full column specifications.\n",
      "Warning message:\n",
      "\"819326 parsing failures.\n",
      "  row          col           expected                                           actual                        file\n",
      "99669 Rue          1/0/T/F/TRUE/FALSE Avenue AdhÃ©mar-Mailhiot                         './data/arbres-publics.csv'\n",
      "99669 COTE         1/0/T/F/TRUE/FALSE E                                                './data/arbres-publics.csv'\n",
      "99669 No_civique   1/0/T/F/TRUE/FALSE 12323                                            './data/arbres-publics.csv'\n",
      "99669 LOCALISATION 1/0/T/F/TRUE/FALSE Devant le 12323, Ã  12 m du dÃ©but de la faÃ§ade './data/arbres-publics.csv'\n",
      "99670 Rue          1/0/T/F/TRUE/FALSE Avenue AdhÃ©mar-Mailhiot                         './data/arbres-publics.csv'\n",
      "..... ............ .................. ................................................ ...........................\n",
      "See problems(...) for more details.\n",
      "\""
     ]
    },
    {
     "data": {
      "text/plain": [
       "   INV_TYPE             EMP_NO           ARROND       ARROND_NOM       \n",
       " Length:318077      Min.   :     2   Min.   : 1.00   Length:318077     \n",
       " Class :character   1st Qu.: 52512   1st Qu.: 3.00   Class :character  \n",
       " Mode  :character   Median :102232   Median : 7.00   Mode  :character  \n",
       "                    Mean   :119664   Mean   : 8.89                     \n",
       "                    3rd Qu.:179657   3rd Qu.:12.00                     \n",
       "                    Max.   :447625   Max.   :33.00                     \n",
       "                                                                       \n",
       "   Rue            COTE         No_civique      Emplacement       \n",
       " Mode:logical   Mode:logical   Mode :logical   Length:318077     \n",
       " NA's:318077    NA's:318077    FALSE:6876      Class :character  \n",
       "                               TRUE :95        Mode  :character  \n",
       "                               NA's :311106                      \n",
       "                                                                 \n",
       "                                                                 \n",
       "                                                                 \n",
       "    Coord_X           Coord_Y           SIGLE           Essence_latin     \n",
       " Min.   :   3007   Min.   :   5048   Length:318077      Length:318077     \n",
       " 1st Qu.: 293691   1st Qu.:5038387   Class :character   Class :character  \n",
       " Median : 297111   Median :5043560   Mode  :character   Mode  :character  \n",
       " Mean   : 295873   Mean   :5040844                                        \n",
       " 3rd Qu.: 299580   3rd Qu.:5047200                                        \n",
       " Max.   :5047578   Max.   :8030579                                        \n",
       "                   NA's   :4                                              \n",
       "  Essence_fr        ESSENCE_ANG             DHP       \n",
       " Length:318077      Length:318077      Min.   :  0.0  \n",
       " Class :character   Class :character   1st Qu.:  7.0  \n",
       " Mode  :character   Mode  :character   Median : 23.0  \n",
       "                                       Mean   : 27.5  \n",
       "                                       3rd Qu.: 41.0  \n",
       "                                       Max.   :591.0  \n",
       "                                       NA's   :672    \n",
       "  Date_releve                  Date_plantation               LOCALISATION  \n",
       " Min.   :0013-05-05 00:00:00   Min.   :0013-05-05 00:00:00   Mode:logical  \n",
       " 1st Qu.:2013-06-25 00:00:00   1st Qu.:1993-05-01 00:00:00   NA's:318077   \n",
       " Median :2016-11-12 00:00:00   Median :2007-12-31 00:00:00                 \n",
       " Mean   :2015-02-12 11:14:11   Mean   :2002-02-26 06:46:28                 \n",
       " 3rd Qu.:2018-08-16 00:00:00   3rd Qu.:2016-06-15 00:00:00                 \n",
       " Max.   :5017-05-05 00:00:00   Max.   :2021-02-22 00:00:00                 \n",
       " NA's   :672                   NA's   :167150                              \n",
       "  CODE_PARC           NOM_PARC           Longitude         Latitude       \n",
       " Length:318077      Length:318077      Min.   :-77.36   Min.   : 0.04566  \n",
       " Class :character   Class :character   1st Qu.:-73.64   1st Qu.:45.48524  \n",
       " Mode  :character   Mode  :character   Median :-73.60   Median :45.53187  \n",
       "                                       Mean   :-73.61   Mean   :45.50730  \n",
       "                                       3rd Qu.:-73.57   3rd Qu.:45.56468  \n",
       "                                       Max.   :-24.29   Max.   :72.35156  \n",
       "                                       NA's   :4        NA's   :4         "
      ]
     },
     "metadata": {},
     "output_type": "display_data"
    }
   ],
   "source": [
    "# Lecture du fichier CSV\n",
    "occurrence_data_raw <- read_csv('./data/arbres-publics.csv')\n",
    "\n",
    "# Affichage du résultat\n",
    "summary(occurrence_data_raw)"
   ]
  },
  {
   "cell_type": "markdown",
   "metadata": {},
   "source": [
    "Nous ne voulons garder que les informations les plus importantes. Ici ces informations sont l'espèce (le nom latin car il est plus précis), la Latitude, la Longitude et la valeur cible (la classe).\n",
    "\n",
    "On crée la classe nous-mêmes. Ici la classe sera l'attribut \"present\" qui représente la présence d'une espèce. Elle sera initialisée à 1 pour tous les enregistrements."
   ]
  },
  {
   "cell_type": "code",
   "execution_count": 27,
   "metadata": {},
   "outputs": [],
   "source": [
    "# Création de la classe \n",
    "occurrence_data_raw$Present <- 1\n",
    "\n",
    "# Selection des attributs pertinents\n",
    "occurrence_data <- occurrence_data_raw %>% dplyr::select('Essence_latin', 'Latitude', 'Longitude', 'Present')\n",
    "occurrence_data$Essence_latin <- as.factor(occurrence_data$Essence_latin)"
   ]
  },
  {
   "cell_type": "code",
   "execution_count": 22,
   "metadata": {},
   "outputs": [
    {
     "data": {
      "text/html": [
       "<table>\n",
       "<thead><tr><th scope=col>Essence_latin</th><th scope=col>Latitude</th><th scope=col>Longitude</th><th scope=col>Present</th></tr></thead>\n",
       "<tbody>\n",
       "\t<tr><td>Gleditsia triacanthos 'Skyline' </td><td>45.53515                        </td><td>-73.71551                       </td><td>1                               </td></tr>\n",
       "\t<tr><td>Gleditsia triacanthos 'Skyline' </td><td>45.53522                        </td><td>-73.71559                       </td><td>1                               </td></tr>\n",
       "\t<tr><td>Gymnocladus dioicus             </td><td>45.53511                        </td><td>-73.71566                       </td><td>1                               </td></tr>\n",
       "\t<tr><td>Fraxinus nigra 'Fall Gold'      </td><td>45.53562                        </td><td>-73.71530                       </td><td>1                               </td></tr>\n",
       "\t<tr><td>Quercus rubra                   </td><td>45.53560                        </td><td>-73.71560                       </td><td>1                               </td></tr>\n",
       "\t<tr><td>Quercus macrocarpa              </td><td>45.53582                        </td><td>-73.71571                       </td><td>1                               </td></tr>\n",
       "\t<tr><td>Acer saccharinum 'Montréal'     </td><td>45.53582                        </td><td>-73.71536                       </td><td>1                               </td></tr>\n",
       "\t<tr><td>Acer platanoides 'Emerald Queen'</td><td>45.53619                        </td><td>-73.71556                       </td><td>1                               </td></tr>\n",
       "\t<tr><td>Thuja occidentalis 'Nigra'      </td><td>45.53635                        </td><td>-73.71555                       </td><td>1                               </td></tr>\n",
       "\t<tr><td>Thuja occidentalis 'Nigra'      </td><td>45.53628                        </td><td>-73.71552                       </td><td>1                               </td></tr>\n",
       "\t<tr><td>...</td><td>...</td><td>...</td><td>...</td></tr>\n",
       "\t<tr><td>Gymnocladus dioicus</td><td>45.53093           </td><td>-73.66800          </td><td>1                  </td></tr>\n",
       "\t<tr><td>Gymnocladus dioicus</td><td>45.53103           </td><td>-73.66803          </td><td>1                  </td></tr>\n",
       "\t<tr><td>Gymnocladus dioicus</td><td>45.53122           </td><td>-73.66814          </td><td>1                  </td></tr>\n",
       "\t<tr><td>Gymnocladus dioicus</td><td>45.53131           </td><td>-73.66820          </td><td>1                  </td></tr>\n",
       "\t<tr><td>Gymnocladus dioicus</td><td>45.53138           </td><td>-73.66827          </td><td>1                  </td></tr>\n",
       "\t<tr><td>Ulmus americana    </td><td>45.63918           </td><td>-73.56036          </td><td>1                  </td></tr>\n",
       "\t<tr><td>Quercus macrocarpa </td><td>45.63918           </td><td>-73.56041          </td><td>1                  </td></tr>\n",
       "\t<tr><td>Ulmus americana    </td><td>45.63918           </td><td>-73.56033          </td><td>1                  </td></tr>\n",
       "\t<tr><td>Ulmus americana    </td><td>45.63918           </td><td>-73.56033          </td><td>1                  </td></tr>\n",
       "\t<tr><td>Ulmus americana    </td><td>45.63918           </td><td>-73.56029          </td><td>1                  </td></tr>\n",
       "</tbody>\n",
       "</table>\n"
      ],
      "text/latex": [
       "\\begin{tabular}{r|llll}\n",
       " Essence\\_latin & Latitude & Longitude & Present\\\\\n",
       "\\hline\n",
       "\t Gleditsia triacanthos 'Skyline'  & 45.53515                         & -73.71551                        & 1                               \\\\\n",
       "\t Gleditsia triacanthos 'Skyline'  & 45.53522                         & -73.71559                        & 1                               \\\\\n",
       "\t Gymnocladus dioicus              & 45.53511                         & -73.71566                        & 1                               \\\\\n",
       "\t Fraxinus nigra 'Fall Gold'       & 45.53562                         & -73.71530                        & 1                               \\\\\n",
       "\t Quercus rubra                    & 45.53560                         & -73.71560                        & 1                               \\\\\n",
       "\t Quercus macrocarpa               & 45.53582                         & -73.71571                        & 1                               \\\\\n",
       "\t Acer saccharinum 'Montréal'      & 45.53582                         & -73.71536                        & 1                               \\\\\n",
       "\t Acer platanoides 'Emerald Queen' & 45.53619                         & -73.71556                        & 1                               \\\\\n",
       "\t Thuja occidentalis 'Nigra'       & 45.53635                         & -73.71555                        & 1                               \\\\\n",
       "\t Thuja occidentalis 'Nigra'       & 45.53628                         & -73.71552                        & 1                               \\\\\n",
       "\t ... & ... & ... & ...\\\\\n",
       "\t Gymnocladus dioicus & 45.53093            & -73.66800           & 1                  \\\\\n",
       "\t Gymnocladus dioicus & 45.53103            & -73.66803           & 1                  \\\\\n",
       "\t Gymnocladus dioicus & 45.53122            & -73.66814           & 1                  \\\\\n",
       "\t Gymnocladus dioicus & 45.53131            & -73.66820           & 1                  \\\\\n",
       "\t Gymnocladus dioicus & 45.53138            & -73.66827           & 1                  \\\\\n",
       "\t Ulmus americana     & 45.63918            & -73.56036           & 1                  \\\\\n",
       "\t Quercus macrocarpa  & 45.63918            & -73.56041           & 1                  \\\\\n",
       "\t Ulmus americana     & 45.63918            & -73.56033           & 1                  \\\\\n",
       "\t Ulmus americana     & 45.63918            & -73.56033           & 1                  \\\\\n",
       "\t Ulmus americana     & 45.63918            & -73.56029           & 1                  \\\\\n",
       "\\end{tabular}\n"
      ],
      "text/markdown": [
       "\n",
       "| Essence_latin | Latitude | Longitude | Present |\n",
       "|---|---|---|---|\n",
       "| Gleditsia triacanthos 'Skyline'  | 45.53515                         | -73.71551                        | 1                                |\n",
       "| Gleditsia triacanthos 'Skyline'  | 45.53522                         | -73.71559                        | 1                                |\n",
       "| Gymnocladus dioicus              | 45.53511                         | -73.71566                        | 1                                |\n",
       "| Fraxinus nigra 'Fall Gold'       | 45.53562                         | -73.71530                        | 1                                |\n",
       "| Quercus rubra                    | 45.53560                         | -73.71560                        | 1                                |\n",
       "| Quercus macrocarpa               | 45.53582                         | -73.71571                        | 1                                |\n",
       "| Acer saccharinum 'Montréal'      | 45.53582                         | -73.71536                        | 1                                |\n",
       "| Acer platanoides 'Emerald Queen' | 45.53619                         | -73.71556                        | 1                                |\n",
       "| Thuja occidentalis 'Nigra'       | 45.53635                         | -73.71555                        | 1                                |\n",
       "| Thuja occidentalis 'Nigra'       | 45.53628                         | -73.71552                        | 1                                |\n",
       "| ... | ... | ... | ... |\n",
       "| Gymnocladus dioicus | 45.53093            | -73.66800           | 1                   |\n",
       "| Gymnocladus dioicus | 45.53103            | -73.66803           | 1                   |\n",
       "| Gymnocladus dioicus | 45.53122            | -73.66814           | 1                   |\n",
       "| Gymnocladus dioicus | 45.53131            | -73.66820           | 1                   |\n",
       "| Gymnocladus dioicus | 45.53138            | -73.66827           | 1                   |\n",
       "| Ulmus americana     | 45.63918            | -73.56036           | 1                   |\n",
       "| Quercus macrocarpa  | 45.63918            | -73.56041           | 1                   |\n",
       "| Ulmus americana     | 45.63918            | -73.56033           | 1                   |\n",
       "| Ulmus americana     | 45.63918            | -73.56033           | 1                   |\n",
       "| Ulmus americana     | 45.63918            | -73.56029           | 1                   |\n",
       "\n"
      ],
      "text/plain": [
       "       Essence_latin                    Latitude Longitude Present\n",
       "1      Gleditsia triacanthos 'Skyline'  45.53515 -73.71551 1      \n",
       "2      Gleditsia triacanthos 'Skyline'  45.53522 -73.71559 1      \n",
       "3      Gymnocladus dioicus              45.53511 -73.71566 1      \n",
       "4      Fraxinus nigra 'Fall Gold'       45.53562 -73.71530 1      \n",
       "5      Quercus rubra                    45.53560 -73.71560 1      \n",
       "6      Quercus macrocarpa               45.53582 -73.71571 1      \n",
       "7      Acer saccharinum 'Montréal'      45.53582 -73.71536 1      \n",
       "8      Acer platanoides 'Emerald Queen' 45.53619 -73.71556 1      \n",
       "9      Thuja occidentalis 'Nigra'       45.53635 -73.71555 1      \n",
       "10     Thuja occidentalis 'Nigra'       45.53628 -73.71552 1      \n",
       "...    ...                              ...      ...       ...    \n",
       "318068 Gymnocladus dioicus              45.53093 -73.66800 1      \n",
       "318069 Gymnocladus dioicus              45.53103 -73.66803 1      \n",
       "318070 Gymnocladus dioicus              45.53122 -73.66814 1      \n",
       "318071 Gymnocladus dioicus              45.53131 -73.66820 1      \n",
       "318072 Gymnocladus dioicus              45.53138 -73.66827 1      \n",
       "318073 Ulmus americana                  45.63918 -73.56036 1      \n",
       "318074 Quercus macrocarpa               45.63918 -73.56041 1      \n",
       "318075 Ulmus americana                  45.63918 -73.56033 1      \n",
       "318076 Ulmus americana                  45.63918 -73.56033 1      \n",
       "318077 Ulmus americana                  45.63918 -73.56029 1      "
      ]
     },
     "metadata": {},
     "output_type": "display_data"
    }
   ],
   "source": [
    "occurrence_data"
   ]
  },
  {
   "cell_type": "markdown",
   "metadata": {},
   "source": [
    "Il est maintenant temps de nettoyer nos données. \n",
    "\n",
    "Premièrement, on recherche les enregistrements avec des valeurs manquantes (dans les attributs pertinents) et on les enlève.\n",
    "Puis on enlève les doublons dans les données si il y en a."
   ]
  },
  {
   "cell_type": "code",
   "execution_count": 32,
   "metadata": {},
   "outputs": [
    {
     "data": {
      "text/plain": [
       "                         Essence_latin       Latitude          Longitude     \n",
       " Acer saccharinum               : 33168   Min.   : 0.04566   Min.   :-77.36  \n",
       " Acer platanoides               : 31516   1st Qu.:45.48524   1st Qu.:-73.64  \n",
       " Fraxinus pennsylvanica         : 23093   Median :45.53187   Median :-73.60  \n",
       " Tilia cordata                  : 15793   Mean   :45.50730   Mean   :-73.61  \n",
       " Celtis occidentalis            :  9455   3rd Qu.:45.56468   3rd Qu.:-73.57  \n",
       " Gleditsia triacanthos 'Skyline':  9377   Max.   :72.35156   Max.   :-24.29  \n",
       " (Other)                        :195675   NA's   :4          NA's   :4       \n",
       "    Present \n",
       " Min.   :1  \n",
       " 1st Qu.:1  \n",
       " Median :1  \n",
       " Mean   :1  \n",
       " 3rd Qu.:1  \n",
       " Max.   :1  \n",
       "            "
      ]
     },
     "metadata": {},
     "output_type": "display_data"
    },
    {
     "name": "stdout",
     "output_type": "stream",
     "text": [
      "[1] \"Nombre d'espèces :  680\"\n",
      "[1] \"Nombre d'espèces dépassant 10 elements :  420\"\n"
     ]
    }
   ],
   "source": [
    "# Statistiques complètes sur le dataset\n",
    "summary(occurrence_data)\n",
    "\n",
    "# Nombre total d'espèces dans le dataset\n",
    "print(paste(\"Nombre d'espèces : \", length(levels(occurrence_data$Essence_latin))))\n",
    "\n",
    "# Nombre total d'espèces dans le dataset dépassant le seuil\n",
    "threshold <- 10\n",
    "oc_data_trimmed = occurrence_data %>%\n",
    "      group_by(Essence_latin) %>%\n",
    "      dplyr::filter(n() > threshold)\n",
    "count_species <- length(levels(droplevels(oc_data_trimmed$Essence_latin)))\n",
    "print(paste(\"Nombre d'espèces dépassant\", threshold, \"elements : \", count_species))"
   ]
  },
  {
   "cell_type": "code",
   "execution_count": 33,
   "metadata": {},
   "outputs": [
    {
     "data": {
      "text/html": [
       "'Nombre de lignes avec valeurs manquantes enlevées : 4'"
      ],
      "text/latex": [
       "'Nombre de lignes avec valeurs manquantes enlevées : 4'"
      ],
      "text/markdown": [
       "'Nombre de lignes avec valeurs manquantes enlevées : 4'"
      ],
      "text/plain": [
       "[1] \"Nombre de lignes avec valeurs manquantes enlevées : 4\""
      ]
     },
     "metadata": {},
     "output_type": "display_data"
    },
    {
     "data": {
      "text/html": [
       "'Nombre de lignes doublons enlevées : 1587'"
      ],
      "text/latex": [
       "'Nombre de lignes doublons enlevées : 1587'"
      ],
      "text/markdown": [
       "'Nombre de lignes doublons enlevées : 1587'"
      ],
      "text/plain": [
       "[1] \"Nombre de lignes doublons enlevées : 1587\""
      ]
     },
     "metadata": {},
     "output_type": "display_data"
    },
    {
     "data": {
      "text/html": [
       "'Nombre d\\'especes enlevées : 260'"
      ],
      "text/latex": [
       "'Nombre d\\textbackslash{}'especes enlevées : 260'"
      ],
      "text/markdown": [
       "'Nombre d\\'especes enlevées : 260'"
      ],
      "text/plain": [
       "[1] \"Nombre d'especes enlevées : 260\""
      ]
     },
     "metadata": {},
     "output_type": "display_data"
    }
   ],
   "source": [
    "# ===== 1. Valeurs manquantes =======\n",
    "before_count <- sum(count(occurrence_data)$n)\n",
    "occurrence_data <- occurrence_data %>% dplyr::filter((!is.na(Longitude) | Longitude == 0) & \n",
    "                                                     !is.na(Latitude) & !is.na(Essence_latin))\n",
    "after_count <- sum(count(occurrence_data)$n)\n",
    "\n",
    "# Afficher le nombre de lignes supprimées\n",
    "sprintf(\"Nombre de lignes avec valeurs manquantes enlevées : %d\", before_count - after_count)\n",
    "\n",
    "# ===== 2. Enregistrements doublons =======\n",
    "before_count <- sum(count(occurrence_data)$n)\n",
    "occurrence_data <- occurrence_data %>% dplyr::distinct()\n",
    "after_count <- sum(count(occurrence_data)$n)\n",
    "\n",
    "# Afficher le nombre de lignes supprimées\n",
    "sprintf(\"Nombre de lignes doublons enlevées : %d\", before_count - after_count)\n",
    "\n",
    "# ===== 3. Espèces pas assez représentées ======\n",
    "threshold <- 10\n",
    "before_count <- length(levels(occurrence_data$Essence_latin))\n",
    "occurrence_data = occurrence_data %>%\n",
    "      group_by(Essence_latin) %>%\n",
    "      dplyr::filter(n() > threshold)\n",
    "after_count <- length(levels(droplevels(occurrence_data$Essence_latin)))\n",
    "\n",
    "# Afficher le nombre d'espèces enlevées\n",
    "sprintf(\"Nombre d'especes enlevées : %d\", before_count - after_count)"
   ]
  },
  {
   "cell_type": "markdown",
   "metadata": {},
   "source": [
    "Il est important à noter que cette base de données contient des enregistrements de plusieurs espèces différentes et les modèles de distribution d'espèces sont utilisées pour modéliser une espèce étudiée à la fois. Nous devons donc séparer les enregistrements par espèces.\n",
    "\n",
    "Pour illustrer plus facilement le processus, on ne va travailler dans ce notebook qu'avec une espèce, celle qui est la plus présente dans les données."
   ]
  },
  {
   "cell_type": "code",
   "execution_count": 36,
   "metadata": {
    "scrolled": true
   },
   "outputs": [
    {
     "data": {
      "text/html": [
       "<table>\n",
       "<thead><tr><th scope=col>Essence_latin</th><th scope=col>Latitude</th><th scope=col>Longitude</th><th scope=col>Present</th></tr></thead>\n",
       "<tbody>\n",
       "\t<tr><td>Acer saccharinum</td><td>45.54076        </td><td>-73.69629       </td><td>1               </td></tr>\n",
       "\t<tr><td>Acer saccharinum</td><td>45.54860        </td><td>-73.65310       </td><td>1               </td></tr>\n",
       "\t<tr><td>Acer saccharinum</td><td>45.54869        </td><td>-73.65331       </td><td>1               </td></tr>\n",
       "\t<tr><td>Acer saccharinum</td><td>45.54880        </td><td>-73.65326       </td><td>1               </td></tr>\n",
       "\t<tr><td>Acer saccharinum</td><td>45.53700        </td><td>-73.71862       </td><td>1               </td></tr>\n",
       "\t<tr><td>Acer saccharinum</td><td>45.53703        </td><td>-73.71842       </td><td>1               </td></tr>\n",
       "\t<tr><td>Acer saccharinum</td><td>45.52495        </td><td>-73.71480       </td><td>1               </td></tr>\n",
       "\t<tr><td>Acer saccharinum</td><td>45.54861        </td><td>-73.63966       </td><td>1               </td></tr>\n",
       "\t<tr><td>Acer saccharinum</td><td>45.55094        </td><td>-73.63016       </td><td>1               </td></tr>\n",
       "\t<tr><td>Acer saccharinum</td><td>45.57792        </td><td>-73.64505       </td><td>1               </td></tr>\n",
       "\t<tr><td>...</td><td>...</td><td>...</td><td>...</td></tr>\n",
       "\t<tr><td>Acer saccharinum</td><td>45.51846        </td><td>-73.72528       </td><td>1               </td></tr>\n",
       "\t<tr><td>Acer saccharinum</td><td>45.51851        </td><td>-73.72515       </td><td>1               </td></tr>\n",
       "\t<tr><td>Acer saccharinum</td><td>45.51841        </td><td>-73.72541       </td><td>1               </td></tr>\n",
       "\t<tr><td>Acer saccharinum</td><td>45.51836        </td><td>-73.72553       </td><td>1               </td></tr>\n",
       "\t<tr><td>Acer saccharinum</td><td>45.51827        </td><td>-73.72578       </td><td>1               </td></tr>\n",
       "\t<tr><td>Acer saccharinum</td><td>45.51825        </td><td>-73.72589       </td><td>1               </td></tr>\n",
       "\t<tr><td>Acer saccharinum</td><td>45.51841        </td><td>-73.72620       </td><td>1               </td></tr>\n",
       "\t<tr><td>Acer saccharinum</td><td>45.52230        </td><td>-73.69367       </td><td>1               </td></tr>\n",
       "\t<tr><td>Acer saccharinum</td><td>45.52237        </td><td>-73.69377       </td><td>1               </td></tr>\n",
       "\t<tr><td>Acer saccharinum</td><td>45.52167        </td><td>-73.69466       </td><td>1               </td></tr>\n",
       "</tbody>\n",
       "</table>\n"
      ],
      "text/latex": [
       "\\begin{tabular}{r|llll}\n",
       " Essence\\_latin & Latitude & Longitude & Present\\\\\n",
       "\\hline\n",
       "\t Acer saccharinum & 45.54076         & -73.69629        & 1               \\\\\n",
       "\t Acer saccharinum & 45.54860         & -73.65310        & 1               \\\\\n",
       "\t Acer saccharinum & 45.54869         & -73.65331        & 1               \\\\\n",
       "\t Acer saccharinum & 45.54880         & -73.65326        & 1               \\\\\n",
       "\t Acer saccharinum & 45.53700         & -73.71862        & 1               \\\\\n",
       "\t Acer saccharinum & 45.53703         & -73.71842        & 1               \\\\\n",
       "\t Acer saccharinum & 45.52495         & -73.71480        & 1               \\\\\n",
       "\t Acer saccharinum & 45.54861         & -73.63966        & 1               \\\\\n",
       "\t Acer saccharinum & 45.55094         & -73.63016        & 1               \\\\\n",
       "\t Acer saccharinum & 45.57792         & -73.64505        & 1               \\\\\n",
       "\t ... & ... & ... & ...\\\\\n",
       "\t Acer saccharinum & 45.51846         & -73.72528        & 1               \\\\\n",
       "\t Acer saccharinum & 45.51851         & -73.72515        & 1               \\\\\n",
       "\t Acer saccharinum & 45.51841         & -73.72541        & 1               \\\\\n",
       "\t Acer saccharinum & 45.51836         & -73.72553        & 1               \\\\\n",
       "\t Acer saccharinum & 45.51827         & -73.72578        & 1               \\\\\n",
       "\t Acer saccharinum & 45.51825         & -73.72589        & 1               \\\\\n",
       "\t Acer saccharinum & 45.51841         & -73.72620        & 1               \\\\\n",
       "\t Acer saccharinum & 45.52230         & -73.69367        & 1               \\\\\n",
       "\t Acer saccharinum & 45.52237         & -73.69377        & 1               \\\\\n",
       "\t Acer saccharinum & 45.52167         & -73.69466        & 1               \\\\\n",
       "\\end{tabular}\n"
      ],
      "text/markdown": [
       "\n",
       "| Essence_latin | Latitude | Longitude | Present |\n",
       "|---|---|---|---|\n",
       "| Acer saccharinum | 45.54076         | -73.69629        | 1                |\n",
       "| Acer saccharinum | 45.54860         | -73.65310        | 1                |\n",
       "| Acer saccharinum | 45.54869         | -73.65331        | 1                |\n",
       "| Acer saccharinum | 45.54880         | -73.65326        | 1                |\n",
       "| Acer saccharinum | 45.53700         | -73.71862        | 1                |\n",
       "| Acer saccharinum | 45.53703         | -73.71842        | 1                |\n",
       "| Acer saccharinum | 45.52495         | -73.71480        | 1                |\n",
       "| Acer saccharinum | 45.54861         | -73.63966        | 1                |\n",
       "| Acer saccharinum | 45.55094         | -73.63016        | 1                |\n",
       "| Acer saccharinum | 45.57792         | -73.64505        | 1                |\n",
       "| ... | ... | ... | ... |\n",
       "| Acer saccharinum | 45.51846         | -73.72528        | 1                |\n",
       "| Acer saccharinum | 45.51851         | -73.72515        | 1                |\n",
       "| Acer saccharinum | 45.51841         | -73.72541        | 1                |\n",
       "| Acer saccharinum | 45.51836         | -73.72553        | 1                |\n",
       "| Acer saccharinum | 45.51827         | -73.72578        | 1                |\n",
       "| Acer saccharinum | 45.51825         | -73.72589        | 1                |\n",
       "| Acer saccharinum | 45.51841         | -73.72620        | 1                |\n",
       "| Acer saccharinum | 45.52230         | -73.69367        | 1                |\n",
       "| Acer saccharinum | 45.52237         | -73.69377        | 1                |\n",
       "| Acer saccharinum | 45.52167         | -73.69466        | 1                |\n",
       "\n"
      ],
      "text/plain": [
       "      Essence_latin    Latitude Longitude Present\n",
       "1     Acer saccharinum 45.54076 -73.69629 1      \n",
       "2     Acer saccharinum 45.54860 -73.65310 1      \n",
       "3     Acer saccharinum 45.54869 -73.65331 1      \n",
       "4     Acer saccharinum 45.54880 -73.65326 1      \n",
       "5     Acer saccharinum 45.53700 -73.71862 1      \n",
       "6     Acer saccharinum 45.53703 -73.71842 1      \n",
       "7     Acer saccharinum 45.52495 -73.71480 1      \n",
       "8     Acer saccharinum 45.54861 -73.63966 1      \n",
       "9     Acer saccharinum 45.55094 -73.63016 1      \n",
       "10    Acer saccharinum 45.57792 -73.64505 1      \n",
       "...   ...              ...      ...       ...    \n",
       "33042 Acer saccharinum 45.51846 -73.72528 1      \n",
       "33043 Acer saccharinum 45.51851 -73.72515 1      \n",
       "33044 Acer saccharinum 45.51841 -73.72541 1      \n",
       "33045 Acer saccharinum 45.51836 -73.72553 1      \n",
       "33046 Acer saccharinum 45.51827 -73.72578 1      \n",
       "33047 Acer saccharinum 45.51825 -73.72589 1      \n",
       "33048 Acer saccharinum 45.51841 -73.72620 1      \n",
       "33049 Acer saccharinum 45.52230 -73.69367 1      \n",
       "33050 Acer saccharinum 45.52237 -73.69377 1      \n",
       "33051 Acer saccharinum 45.52167 -73.69466 1      "
      ]
     },
     "metadata": {},
     "output_type": "display_data"
    }
   ],
   "source": [
    "# Identifier et tirer l'espèce la plus présente dans les données d'occurrence\n",
    "species_counts <- occurrence_data %>% count(Essence_latin, sort=TRUE)\n",
    "most_found_species <- species_counts$Essence_latin[1]\n",
    "species_data <- occurrence_data %>% dplyr::filter(Essence_latin==most_found_species) %>% ungroup()\n",
    "species_data "
   ]
  },
  {
   "cell_type": "code",
   "execution_count": 37,
   "metadata": {},
   "outputs": [],
   "source": [
    "# Enlever le nom de l'espèce de la dataframe\n",
    "species_data <- species_data %>% dplyr::select('Longitude', 'Latitude', 'Present')"
   ]
  },
  {
   "cell_type": "code",
   "execution_count": 38,
   "metadata": {},
   "outputs": [
    {
     "data": {
      "text/html": [
       "<table>\n",
       "<thead><tr><th scope=col>Longitude</th><th scope=col>Latitude</th><th scope=col>Present</th></tr></thead>\n",
       "<tbody>\n",
       "\t<tr><td>-73.69629</td><td>45.54076 </td><td>1        </td></tr>\n",
       "\t<tr><td>-73.65310</td><td>45.54860 </td><td>1        </td></tr>\n",
       "\t<tr><td>-73.65331</td><td>45.54869 </td><td>1        </td></tr>\n",
       "\t<tr><td>-73.65326</td><td>45.54880 </td><td>1        </td></tr>\n",
       "\t<tr><td>-73.71862</td><td>45.53700 </td><td>1        </td></tr>\n",
       "\t<tr><td>-73.71842</td><td>45.53703 </td><td>1        </td></tr>\n",
       "\t<tr><td>-73.71480</td><td>45.52495 </td><td>1        </td></tr>\n",
       "\t<tr><td>-73.63966</td><td>45.54861 </td><td>1        </td></tr>\n",
       "\t<tr><td>-73.63016</td><td>45.55094 </td><td>1        </td></tr>\n",
       "\t<tr><td>-73.64505</td><td>45.57792 </td><td>1        </td></tr>\n",
       "\t<tr><td>...</td><td>...</td><td>...</td></tr>\n",
       "\t<tr><td>-73.72528</td><td>45.51846 </td><td>1        </td></tr>\n",
       "\t<tr><td>-73.72515</td><td>45.51851 </td><td>1        </td></tr>\n",
       "\t<tr><td>-73.72541</td><td>45.51841 </td><td>1        </td></tr>\n",
       "\t<tr><td>-73.72553</td><td>45.51836 </td><td>1        </td></tr>\n",
       "\t<tr><td>-73.72578</td><td>45.51827 </td><td>1        </td></tr>\n",
       "\t<tr><td>-73.72589</td><td>45.51825 </td><td>1        </td></tr>\n",
       "\t<tr><td>-73.72620</td><td>45.51841 </td><td>1        </td></tr>\n",
       "\t<tr><td>-73.69367</td><td>45.52230 </td><td>1        </td></tr>\n",
       "\t<tr><td>-73.69377</td><td>45.52237 </td><td>1        </td></tr>\n",
       "\t<tr><td>-73.69466</td><td>45.52167 </td><td>1        </td></tr>\n",
       "</tbody>\n",
       "</table>\n"
      ],
      "text/latex": [
       "\\begin{tabular}{r|lll}\n",
       " Longitude & Latitude & Present\\\\\n",
       "\\hline\n",
       "\t -73.69629 & 45.54076  & 1        \\\\\n",
       "\t -73.65310 & 45.54860  & 1        \\\\\n",
       "\t -73.65331 & 45.54869  & 1        \\\\\n",
       "\t -73.65326 & 45.54880  & 1        \\\\\n",
       "\t -73.71862 & 45.53700  & 1        \\\\\n",
       "\t -73.71842 & 45.53703  & 1        \\\\\n",
       "\t -73.71480 & 45.52495  & 1        \\\\\n",
       "\t -73.63966 & 45.54861  & 1        \\\\\n",
       "\t -73.63016 & 45.55094  & 1        \\\\\n",
       "\t -73.64505 & 45.57792  & 1        \\\\\n",
       "\t ... & ... & ...\\\\\n",
       "\t -73.72528 & 45.51846  & 1        \\\\\n",
       "\t -73.72515 & 45.51851  & 1        \\\\\n",
       "\t -73.72541 & 45.51841  & 1        \\\\\n",
       "\t -73.72553 & 45.51836  & 1        \\\\\n",
       "\t -73.72578 & 45.51827  & 1        \\\\\n",
       "\t -73.72589 & 45.51825  & 1        \\\\\n",
       "\t -73.72620 & 45.51841  & 1        \\\\\n",
       "\t -73.69367 & 45.52230  & 1        \\\\\n",
       "\t -73.69377 & 45.52237  & 1        \\\\\n",
       "\t -73.69466 & 45.52167  & 1        \\\\\n",
       "\\end{tabular}\n"
      ],
      "text/markdown": [
       "\n",
       "| Longitude | Latitude | Present |\n",
       "|---|---|---|\n",
       "| -73.69629 | 45.54076  | 1         |\n",
       "| -73.65310 | 45.54860  | 1         |\n",
       "| -73.65331 | 45.54869  | 1         |\n",
       "| -73.65326 | 45.54880  | 1         |\n",
       "| -73.71862 | 45.53700  | 1         |\n",
       "| -73.71842 | 45.53703  | 1         |\n",
       "| -73.71480 | 45.52495  | 1         |\n",
       "| -73.63966 | 45.54861  | 1         |\n",
       "| -73.63016 | 45.55094  | 1         |\n",
       "| -73.64505 | 45.57792  | 1         |\n",
       "| ... | ... | ... |\n",
       "| -73.72528 | 45.51846  | 1         |\n",
       "| -73.72515 | 45.51851  | 1         |\n",
       "| -73.72541 | 45.51841  | 1         |\n",
       "| -73.72553 | 45.51836  | 1         |\n",
       "| -73.72578 | 45.51827  | 1         |\n",
       "| -73.72589 | 45.51825  | 1         |\n",
       "| -73.72620 | 45.51841  | 1         |\n",
       "| -73.69367 | 45.52230  | 1         |\n",
       "| -73.69377 | 45.52237  | 1         |\n",
       "| -73.69466 | 45.52167  | 1         |\n",
       "\n"
      ],
      "text/plain": [
       "      Longitude Latitude Present\n",
       "1     -73.69629 45.54076 1      \n",
       "2     -73.65310 45.54860 1      \n",
       "3     -73.65331 45.54869 1      \n",
       "4     -73.65326 45.54880 1      \n",
       "5     -73.71862 45.53700 1      \n",
       "6     -73.71842 45.53703 1      \n",
       "7     -73.71480 45.52495 1      \n",
       "8     -73.63966 45.54861 1      \n",
       "9     -73.63016 45.55094 1      \n",
       "10    -73.64505 45.57792 1      \n",
       "...   ...       ...      ...    \n",
       "33042 -73.72528 45.51846 1      \n",
       "33043 -73.72515 45.51851 1      \n",
       "33044 -73.72541 45.51841 1      \n",
       "33045 -73.72553 45.51836 1      \n",
       "33046 -73.72578 45.51827 1      \n",
       "33047 -73.72589 45.51825 1      \n",
       "33048 -73.72620 45.51841 1      \n",
       "33049 -73.69367 45.52230 1      \n",
       "33050 -73.69377 45.52237 1      \n",
       "33051 -73.69466 45.52167 1      "
      ]
     },
     "metadata": {},
     "output_type": "display_data"
    }
   ],
   "source": [
    "species_data"
   ]
  },
  {
   "cell_type": "markdown",
   "metadata": {},
   "source": [
    "Affichons ces données sur une carte, pour cela nous allons utiliser la fonction plot (dont le comportement change grâce à la bibliothèque \"sf\").\n",
    "\n",
    "Nous allons avoir besoin aussi d'une carte du monde sur laquelle dessiner les points. Nous utilisons ici une carte de la ressource publique *Natural Earth* (ref : https://www.naturalearthdata.com/ (consulté le 06/04/2021))."
   ]
  },
  {
   "cell_type": "code",
   "execution_count": 39,
   "metadata": {},
   "outputs": [],
   "source": [
    "# Carte du monde avec les bordures des villes / provinces dans chaque pays \n",
    "world_map <- shapefile(\"data/natural_earth_vector/10m_cultural/ne_10m_admin_1_states_provinces.shp\")"
   ]
  },
  {
   "cell_type": "code",
   "execution_count": 40,
   "metadata": {},
   "outputs": [],
   "source": [
    "# Créer une fonction pour dessiner les points d'occurrence sur la carte du monde\n",
    "plot_species_data_on_map <- function(species_data, background_map=world_map, plot_label=\"\", \n",
    "                                     col=\"dark green\", pch=20, cex=0.1, extent=NULL, ...){\n",
    "    # Calculer l'extent si il est NULL\n",
    "    # Ici l'extent est le \"carré\" entourant tous les points de notre dataset (minlong, maxlong, minlat, maxlat)\n",
    "    if (is.null(extent)){\n",
    "        # Si les données sont sous forme de SpatialPoints, \n",
    "        # utiliser la fonction extent pour extraire l'extent, sinon le calculer manuellement\n",
    "        if (class(species_data) == 'SpatialPoints'){\n",
    "            extent <- extent(species_data)\n",
    "        } else{\n",
    "            extent <- c(min(species_data$Longitude), max(species_data$Longitude), \n",
    "                min(species_data$Latitude), max(species_data$Latitude))\n",
    "        }\n",
    "    }\n",
    "    \n",
    "    # Reprojeter les données d'occurrence\n",
    "    if (!is.na(crs(species_data))){\n",
    "        species_data <- spTransform(species_data, crs(background_map))\n",
    "    }\n",
    "        \n",
    "    # Afficher la carte background\n",
    "    plot(background_map, xlim=c(extent[1], extent[2]), \n",
    "         ylim=c(extent[3], extent[4]), col=\"light gray\", \n",
    "           xlab=\"longitude\", ylab=\"latitude\", main=plot_label)\n",
    "    \n",
    "    # Dessiner les points sur la carte\n",
    "    if (class(species_data) == 'SpatialPoints'){\n",
    "        points(species_data, col=col, pch=pch, cex=cex)\n",
    "    } else {\n",
    "        points(species_data$Longitude, species_data$Latitude, col=col, pch=pch, cex=cex)\n",
    "    }\n",
    "    \n",
    "    box()\n",
    "}"
   ]
  },
  {
   "cell_type": "code",
   "execution_count": 41,
   "metadata": {},
   "outputs": [
    {
     "name": "stderr",
     "output_type": "stream",
     "text": [
      "Warning message in if (class(species_data) == \"SpatialPoints\") {:\n",
      "\"la condition a une longueur > 1 et seul le premier élément est utilisé\"Warning message in if (class(x) == \"character\") {:\n",
      "\"la condition a une longueur > 1 et seul le premier élément est utilisé\"Warning message in if (class(x) != \"CRS\") {:\n",
      "\"la condition a une longueur > 1 et seul le premier élément est utilisé\"Warning message in if (class(species_data) == \"SpatialPoints\") {:\n",
      "\"la condition a une longueur > 1 et seul le premier élément est utilisé\""
     ]
    },
    {
     "data": {
      "image/png": "[encoded data removed]",
      "text/plain": [
       "Plot with title \"\""
      ]
     },
     "metadata": {},
     "output_type": "display_data"
    }
   ],
   "source": [
    "# Afficher la carte\n",
    "plot_species_data_on_map(species_data, cex=2.5)\n",
    "\n",
    "# Afficher un cadre entourant le graphe\n",
    "box()"
   ]
  },
  {
   "cell_type": "markdown",
   "metadata": {},
   "source": [
    "Nous pouvons remarquer que certains points (dont la taille est exagérée ici) ont des coordonnées incohérentes. Il se pourrait que ce soit une simple faute de frappe ou une autre erreur.\n",
    "\n",
    "Avant de décider quoi faire pour ces données, nous allons devoir afficher ces données. Pour se faire nous allons utiliser une carte de Montreal plus précise. C'est la carte des **limites administratives** de la ville (trouvée dans ce lien https://donnees.montreal.ca/ville-de-montreal/polygones-arrondissements (consulté le 13/04/2021)) : "
   ]
  },
  {
   "cell_type": "code",
   "execution_count": 42,
   "metadata": {},
   "outputs": [
    {
     "data": {
      "text/html": [
       "<table>\n",
       "<thead><tr><th scope=col>Longitude</th><th scope=col>Latitude</th><th scope=col>Present</th></tr></thead>\n",
       "<tbody>\n",
       "\t<tr><td>-77.01614</td><td>45.497951</td><td>1        </td></tr>\n",
       "\t<tr><td>-73.63066</td><td> 2.625368</td><td>1        </td></tr>\n",
       "\t<tr><td>-73.63056</td><td> 2.625469</td><td>1        </td></tr>\n",
       "\t<tr><td>-77.01803</td><td>45.372684</td><td>1        </td></tr>\n",
       "</tbody>\n",
       "</table>\n"
      ],
      "text/latex": [
       "\\begin{tabular}{r|lll}\n",
       " Longitude & Latitude & Present\\\\\n",
       "\\hline\n",
       "\t -77.01614 & 45.497951 & 1        \\\\\n",
       "\t -73.63066 &  2.625368 & 1        \\\\\n",
       "\t -73.63056 &  2.625469 & 1        \\\\\n",
       "\t -77.01803 & 45.372684 & 1        \\\\\n",
       "\\end{tabular}\n"
      ],
      "text/markdown": [
       "\n",
       "| Longitude | Latitude | Present |\n",
       "|---|---|---|\n",
       "| -77.01614 | 45.497951 | 1         |\n",
       "| -73.63066 |  2.625368 | 1         |\n",
       "| -73.63056 |  2.625469 | 1         |\n",
       "| -77.01803 | 45.372684 | 1         |\n",
       "\n"
      ],
      "text/plain": [
       "  Longitude Latitude  Present\n",
       "1 -77.01614 45.497951 1      \n",
       "2 -73.63066  2.625368 1      \n",
       "3 -73.63056  2.625469 1      \n",
       "4 -77.01803 45.372684 1      "
      ]
     },
     "metadata": {},
     "output_type": "display_data"
    }
   ],
   "source": [
    "# Charger la carte de Montreal (Limites administratives)\n",
    "montreal_map <- shapefile('data/montreal/limadmin/LIMADMIN.shp')\n",
    "\n",
    "# Obtenir le \"carré\" entourant la ville de Montreal (minlong, maxlong, minlat, maxlat)\n",
    "montreal_boundaries <- extent(montreal_map)\n",
    "\n",
    "# On considére les données comme étant des anomalies si ces données ne sont pas dans les limites de la ville\n",
    "anomalies <- species_data %>% dplyr::filter((Longitude < montreal_boundaries[1]) | (Longitude > montreal_boundaries[2]) |\n",
    "                                            (Latitude < montreal_boundaries[3]) | (Latitude > montreal_boundaries[4]))\n",
    "anomalies"
   ]
  },
  {
   "cell_type": "markdown",
   "metadata": {},
   "source": [
    "Tant que le nombre de points est petit (les supprimer ne rend pas l'espèce sous-représentée), on peut juste les éliminer."
   ]
  },
  {
   "cell_type": "code",
   "execution_count": 43,
   "metadata": {},
   "outputs": [],
   "source": [
    "# Transformer les données d'occurrence en SpatialPointsDataFrame\n",
    "species_data <- SpatialPointsDataFrame(data=species_data[3], coords=species_data[1:2])\n",
    "\n",
    "# Filtrer les données incohérentes\n",
    "species_data <- crop(species_data, montreal_boundaries)"
   ]
  },
  {
   "cell_type": "code",
   "execution_count": 44,
   "metadata": {},
   "outputs": [
    {
     "data": {
      "image/png": "[encoded data removed]",
      "text/plain": [
       "Plot with title \"Points d'occurrences - Carte du monde\""
      ]
     },
     "metadata": {},
     "output_type": "display_data"
    }
   ],
   "source": [
    "# Afficher les points sur la carte du monde\n",
    "plot_species_data_on_map(species_data, plot_label=\"Points d'occurrences - Carte du monde\")"
   ]
  },
  {
   "cell_type": "markdown",
   "metadata": {},
   "source": [
    "Parfait, on voit maintenant que le points sont tous centrés autour de la ville de Montreal.\n",
    "\n",
    "Mais ça dépasse. C'est clairement un problème de la carte du monde vu que l'on a vu que les points ne pouvaient pas dépasser les bordures de Montreal. Pour cette raison (entre autres), nous allons utiliser la carte des limites administratives de Montreal, qui est plus précise :"
   ]
  },
  {
   "cell_type": "code",
   "execution_count": 45,
   "metadata": {},
   "outputs": [
    {
     "data": {
      "image/png": "[encoded data removed]",
      "text/plain": [
       "Plot with title \"Points d'occurrence - Carte de Montreal\""
      ]
     },
     "metadata": {},
     "output_type": "display_data"
    }
   ],
   "source": [
    "# Afficher les points sur la carte de Montreal\n",
    "plot_species_data_on_map(species_data, background_map=montreal_map, plot_label=\"Points d'occurrence - Carte de Montreal\")"
   ]
  },
  {
   "cell_type": "markdown",
   "metadata": {},
   "source": [
    "### 2.2 - Gestion de biais d'echantillonage \n",
    "\n",
    "Le biais d'échantillonage peut être un problème dans l'analyse de données, et il est souvent pris en considération dans la distribution d'espèces. Il n'est cependant pas nécessaire dans cette étape car on fera naturelement du sous-echantillonnage plus tard dans le processus. \n",
    "\n",
    "Pour référence, voici comment on pourait sous échantilloner nos données d'occurrence (en prenant x=1 point d'occurrence par cellule) "
   ]
  },
  {
   "cell_type": "code",
   "execution_count": 46,
   "metadata": {},
   "outputs": [],
   "source": [
    "# Créer une grille (raster)\n",
    "r_layer <- raster(ext=montreal_boundaries, res=0.00833333333333342)\n",
    "\n",
    "# Echantilloner les points \n",
    "sampled_points = SpatialPoints(gridSample(species_data, r_layer, n=1))\n",
    "species_data <- SpatialPointsDataFrame(data = data.frame(Present = rep(1, length(sampled_points))), coords=sampled_points)\n",
    " \n",
    "# Afficher à nouveau les points d'occurrence\n",
    "plot_species_data_on_map(species_data, background_map=montreal_map, \n",
    "#                          plot_label=\"Points d'occurrence - Carte de Montreal\")"
   ]
  },
  {
   "cell_type": "markdown",
   "metadata": {},
   "source": [
    "### 2.3 - Génération des données d'absence\n",
    "Comme dit plus tôt, les données que l'on utilise sont des données de présence seulement, nous devons alors générer des données d'absence.\n",
    "\n",
    "Ici nous allons utiliser une technique très simple, nous allons prendre des données dans toutes les cellules où du raster (même résolution que le raster climatique) où les points de présence n'y figurent pas. Pour cela on utilise la bibliothèque **dismo** et sa fonction **randomPoints** :\n",
    "\n",
    "**Note : Une autre technique a été utilisée au préalable : cette de l'exclusion géographique. Le principe est de prendre des points d'absence à des points situés autour des points de présence à un rayon prédéterminé (voir ces deux ressources : https://www.sciencedirect.com/science/article/pii/S2215016119302596?via%3Dihub et https://www.molecularecologist.com/2013/04/23/species-distribution-models-in-r/).**\n",
    "\n",
    "**Cependant elle n'a pas donné de bons résultats en termes de ratio entre l'exactitude au hasard et l'exactitude du modèle. J'ai donc décidé de changer de méthode de génération**"
   ]
  },
  {
   "cell_type": "code",
   "execution_count": 47,
   "metadata": {},
   "outputs": [
    {
     "name": "stderr",
     "output_type": "stream",
     "text": [
      "Warning message in randomPoints(mask = raster_mask, n = length(species_data), p = species_data, :\n",
      "\"changed n to ncell of the mask (extent)\"Warning message in randomPoints(mask = raster_mask, n = length(species_data), p = species_data, :\n",
      "\"generated random points = 0.228327228327228 times requested number\""
     ]
    }
   ],
   "source": [
    "# Definir une valeur de 'seed' pour que les résultats soient les mêmes à chaque tentative\n",
    "set.seed(12)\n",
    "\n",
    "# Créer les cercles et y echantionner des points aléatoires\n",
    "# circles_list <- circles(species_data, d=10000, lonlat=TRUE)\n",
    "# circles_list@polygons <- spTransform(circles_list@polygons, crs(montreal_map))\n",
    "\n",
    "# Génerer les points d'absence\n",
    "# absence_data <- spsample(circles_list@polygons, length(species_data), type='random', iter=100)\n",
    "\n",
    "r_layer <- raster(ext=montreal_boundaries, res=0.00833333333333342)\n",
    "raster_mask = raster::rasterize(montreal_map, r_layer, res=res(r_layer))\n",
    "absence_data = SpatialPoints(randomPoints( mask=raster_mask, n=length(species_data), p=species_data, tryf=100, lonlatCorrection=TRUE))"
   ]
  },
  {
   "cell_type": "code",
   "execution_count": 48,
   "metadata": {},
   "outputs": [
    {
     "data": {
      "image/png": "[encoded data removed]",
      "text/plain": [
       "Plot with title \"\""
      ]
     },
     "metadata": {},
     "output_type": "display_data"
    }
   ],
   "source": [
    "# Afficher les points d'absences sur la carte\n",
    "plot_species_data_on_map(species_data=absence_data, background_map=montreal_map, col=\"dark orange\")"
   ]
  },
  {
   "cell_type": "markdown",
   "metadata": {},
   "source": [
    "Parfait, les points d'absence sont maintenant recentrés.\n",
    "\n",
    "Maintenant, on combine les deux datasets ensemble pour obtenir nos données d'occurrences complètes :"
   ]
  },
  {
   "cell_type": "code",
   "execution_count": 50,
   "metadata": {},
   "outputs": [],
   "source": [
    "# Transformer les données d'absence en SpatialPointsDataFrame (avec l'attribut Présent à 0)\n",
    "absence_data <- SpatialPointsDataFrame(data = data.frame(Present = rep(0, length(absence_data))), coords=absence_data)\n",
    "\n",
    "# Combiner les données d'absence et de présence\n",
    "crs(absence_data) <- crs(species_data)\n",
    "species_data <- rbind(species_data, absence_data)"
   ]
  },
  {
   "cell_type": "markdown",
   "metadata": {},
   "source": [
    "### 2.3 - Données climatiques :"
   ]
  },
  {
   "cell_type": "markdown",
   "metadata": {},
   "source": [
    "Pour les données climatiques, nous allons utiliser les données de **WORDLCIM** (https://www.worldclim.org/data/worldclim21.html (consulté le 19/04/2021) qui est une base de données climatiques couvrant le monde entier. Voici la liste des variables biologiques disponibles : \n",
    "\n",
    "- BIO1 - Température moyenne annuelle\n",
    "- BIO2 - Moyenne de l'amplitude diurne (Moyenne des (max temp - min temp) mensuels)\n",
    "- BIO3 - Isothermie (BIO2/BIO7) (×100)\n",
    "- BIO4 - Saisonnalité de la température (écart-type ×100)\n",
    "- BIO5 - Température maximale du mois le plus chaud\n",
    "- BIO6 - Température minimale du mois le plus froid\n",
    "- BIO7 - Plage annuelle de température (BIO5-BIO6)\n",
    "- BIO8 - Température moyenne du trimestre le plus humide\n",
    "- BIO9 - Température moyenne du trimestre le plus sec\n",
    "- BIO10 - Température moyenne du trimestre le plus chaud\n",
    "- BIO11 - Température moyenne du trimestre le plus froid\n",
    "- BIO12 - Précipitations annuelles\n",
    "- BIO13 - Précipitations du mois le plus humide\n",
    "- BIO14 - Précipitations du mois le plus sec\n",
    "- BIO15 - Saisonnalité des précipitations (coefficient de variation)\n",
    "- BIO16 - Précipitations du trimestre le plus humide\n",
    "- BIO17 - Précipitations du trimestre le plus sec\n",
    "- BIO18 - Précipitations du trimestre le plus chaud\n",
    "- BIO19 - Précipitations du trimestre le plus froid\n",
    "\n",
    "(La précision utilisée ici est la plus fine, à savoir **30 degrés secondes, soit environ 1 kilomètre carré**.)\n",
    "\n",
    "Nous allons maintenant extraire les valeurs de ces variables environnementales autour de chaque point de présence / absence de notre jeu de données, et pour illustrer ce processus, voici les étapes à suivre pour la variable **BIO_1** :"
   ]
  },
  {
   "cell_type": "code",
   "execution_count": 51,
   "metadata": {},
   "outputs": [
    {
     "data": {
      "image/png": "[encoded data removed]",
      "text/plain": [
       "Plot with title \"\""
      ]
     },
     "metadata": {},
     "output_type": "display_data"
    }
   ],
   "source": [
    "# Lire le fichier raster \n",
    "worldclim_path <- \"data/worldclim_cropped\"\n",
    "climate_raster <- raster(file.path(worldclim_path, \"wc2.1_30s_bio_1.tif\"))\n",
    "\n",
    "# Afficher le raster layer \n",
    "plot(climate_raster)"
   ]
  },
  {
   "cell_type": "markdown",
   "metadata": {},
   "source": [
    "Les parties blanches que l'on peut remarquer sur la carte sont en fait des valeurs manquantes. Ce serait un problème de les laisser tels quels car certains points de présence / absence pourraient y figurer. Une stratégie pour remplacer ces valeurs manquantes est de d'utiliser la valeur moyenne des voisins les plus proches.\n",
    "\n",
    "Pour faire ça, nous utiliserons la fonction **\"focal\"** pour faire déplacer une \"fenêtre\" (matrice) de taille fixe (ici paramétrée à 5x5) sur l'image raster et appliquer une fonction qui fera la moyenne des élements dans la fenêtre. Voici le code et le résultat obtenu :"
   ]
  },
  {
   "cell_type": "code",
   "execution_count": 52,
   "metadata": {},
   "outputs": [
    {
     "data": {
      "image/png": "[encoded data removed]",
      "text/plain": [
       "Plot with title \"\""
      ]
     },
     "metadata": {},
     "output_type": "display_data"
    }
   ],
   "source": [
    "# La fonction qui retourne la moyenne des élements adjacents à chaque cellule\n",
    "fill.na <- function(x, i=5) {return(mean(x, na.rm=TRUE))}  \n",
    "\n",
    "# On spécifie à la fonction de ne prendre que les cellules dont les valeurs sont manquantes\n",
    "climate_raster_averaged <- focal(climate_raster, w = matrix(1,3,3), fun = fill.na, NAonly=TRUE)\n",
    "\n",
    "# Afficher le raster layer à nouveau\n",
    "plot(climate_raster_averaged)"
   ]
  },
  {
   "cell_type": "markdown",
   "metadata": {},
   "source": [
    "Parfait, nous pouvons maintenant finir le processus en faisant correspondre les points de présence avec les valeurs de la variable BIO_1 en utilisant la fonction **extract** du package raster."
   ]
  },
  {
   "cell_type": "code",
   "execution_count": 53,
   "metadata": {},
   "outputs": [
    {
     "data": {
      "text/html": [
       "<table>\n",
       "<thead><tr><th scope=col>Present</th><th scope=col>bio_1</th></tr></thead>\n",
       "<tbody>\n",
       "\t<tr><td>1       </td><td>6.745425</td></tr>\n",
       "\t<tr><td>1       </td><td>6.727494</td></tr>\n",
       "\t<tr><td>1       </td><td>6.726983</td></tr>\n",
       "\t<tr><td>1       </td><td>6.726245</td></tr>\n",
       "\t<tr><td>1       </td><td>6.679311</td></tr>\n",
       "\t<tr><td>1       </td><td>6.679496</td></tr>\n",
       "</tbody>\n",
       "</table>\n"
      ],
      "text/latex": [
       "\\begin{tabular}{r|ll}\n",
       " Present & bio\\_1\\\\\n",
       "\\hline\n",
       "\t 1        & 6.745425\\\\\n",
       "\t 1        & 6.727494\\\\\n",
       "\t 1        & 6.726983\\\\\n",
       "\t 1        & 6.726245\\\\\n",
       "\t 1        & 6.679311\\\\\n",
       "\t 1        & 6.679496\\\\\n",
       "\\end{tabular}\n"
      ],
      "text/markdown": [
       "\n",
       "| Present | bio_1 |\n",
       "|---|---|\n",
       "| 1        | 6.745425 |\n",
       "| 1        | 6.727494 |\n",
       "| 1        | 6.726983 |\n",
       "| 1        | 6.726245 |\n",
       "| 1        | 6.679311 |\n",
       "| 1        | 6.679496 |\n",
       "\n"
      ],
      "text/plain": [
       "  Present bio_1   \n",
       "1 1       6.745425\n",
       "2 1       6.727494\n",
       "3 1       6.726983\n",
       "4 1       6.726245\n",
       "5 1       6.679311\n",
       "6 1       6.679496"
      ]
     },
     "metadata": {},
     "output_type": "display_data"
    }
   ],
   "source": [
    "# Dataframe d'affichage (pour ne pas changer notre dataset original)\n",
    "species_data_dummy <- species_data \n",
    "\n",
    "# Extraire la variable climatique à chaque point d'occurrence\n",
    "climate_variable <- raster::extract(climate_raster_averaged, species_data, method=\"bilinear\")\n",
    "    \n",
    "# Ajouter la nouvelle feature dans le dataset\n",
    "species_data_dummy@data[\"bio_1\"] <- climate_variable\n",
    "\n",
    "# Afficher le dataset lié \n",
    "head(species_data_dummy@data)"
   ]
  },
  {
   "cell_type": "markdown",
   "metadata": {},
   "source": [
    "Tout semble en ordre, maintenant il ne reste qu'à répéter ce processus pour toutes les variables environnementales : "
   ]
  },
  {
   "cell_type": "code",
   "execution_count": 54,
   "metadata": {},
   "outputs": [],
   "source": [
    "# Lister les fichiers shapefile du climat de Montreal\n",
    "filenames <- list.files(worldclim_path, pattern=\"*.tif\", full.names=TRUE)\n",
    "\n",
    "# Dataset complet \n",
    "species_data_final <- species_data\n",
    "\n",
    "# Pour chaque fichier...\n",
    "for(filename in filenames){\n",
    "    # Charger le fichier en mémoire\n",
    "    climate_raster <- raster(filename)\n",
    "    \n",
    "    # Enlever les valeurs manquantes\n",
    "    climate_raster <- focal(climate_raster, w = matrix(1,5,5), fun = fill.na, NAonly=TRUE)\n",
    "    \n",
    "    # Stocker le nom de la variable (ex : bio_1)\n",
    "    variable_name <- strsplit(filename, '_')[[1]]\n",
    "    variable_name <- strsplit(variable_name[length(variable_name)], '.tif')\n",
    "    variable_name <- paste('bio_', variable_name, sep=\"\")\n",
    "    \n",
    "    # Extraire la variable climatique pour chaque point d'occurrence\n",
    "    climate_variable <- raster::extract(climate_raster, species_data_final, col=variable_name, method=\"simple\")\n",
    "    \n",
    "    # Ajouter la nouvelle feature dans le dataset\n",
    "    species_data_final@data[variable_name] <- climate_variable\n",
    "}"
   ]
  },
  {
   "cell_type": "code",
   "execution_count": 55,
   "metadata": {},
   "outputs": [
    {
     "data": {
      "text/html": [
       "<table>\n",
       "<thead><tr><th scope=col>Present</th><th scope=col>bio_1</th><th scope=col>bio_10</th><th scope=col>bio_11</th><th scope=col>bio_12</th><th scope=col>bio_13</th><th scope=col>bio_14</th><th scope=col>bio_15</th><th scope=col>bio_16</th><th scope=col>bio_17</th><th scope=col>bio_18</th><th scope=col>bio_19</th><th scope=col>bio_2</th><th scope=col>bio_3</th><th scope=col>bio_4</th><th scope=col>bio_5</th><th scope=col>bio_6</th><th scope=col>bio_7</th><th scope=col>bio_8</th><th scope=col>bio_9</th></tr></thead>\n",
       "<tbody>\n",
       "\t<tr><td>1        </td><td>6.750000 </td><td>20.45000 </td><td>-8.200000</td><td> 987.0000</td><td>95.0     </td><td>61.00000 </td><td>12.84703 </td><td>278.0000 </td><td>202.0    </td><td>270.0    </td><td>218      </td><td>9.866667 </td><td>23.38073 </td><td>1159.920 </td><td>27.40    </td><td>-14.80000</td><td>42.20000 </td><td>19.38333 </td><td>-6.933333</td></tr>\n",
       "\t<tr><td>1        </td><td>6.745833 </td><td>20.45000 </td><td>-8.216666</td><td>1001.0000</td><td>96.0     </td><td>62.00000 </td><td>12.39807 </td><td>281.0000 </td><td>207.0    </td><td>274.0    </td><td>220      </td><td>9.891666 </td><td>23.38456 </td><td>1160.820 </td><td>27.40    </td><td>-14.90000</td><td>42.30000 </td><td>19.40000 </td><td>-6.966667</td></tr>\n",
       "\t<tr><td>1        </td><td>6.745833 </td><td>20.45000 </td><td>-8.216666</td><td>1001.0000</td><td>96.0     </td><td>62.00000 </td><td>12.39807 </td><td>281.0000 </td><td>207.0    </td><td>274.0    </td><td>220      </td><td>9.891666 </td><td>23.38456 </td><td>1160.820 </td><td>27.40    </td><td>-14.90000</td><td>42.30000 </td><td>19.40000 </td><td>-6.966667</td></tr>\n",
       "\t<tr><td>1        </td><td>6.745833 </td><td>20.45000 </td><td>-8.216666</td><td>1001.0000</td><td>96.0     </td><td>62.00000 </td><td>12.39807 </td><td>281.0000 </td><td>207.0    </td><td>274.0    </td><td>220      </td><td>9.891666 </td><td>23.38456 </td><td>1160.820 </td><td>27.40    </td><td>-14.90000</td><td>42.30000 </td><td>19.40000 </td><td>-6.966667</td></tr>\n",
       "\t<tr><td>1        </td><td>6.670833 </td><td>20.34889 </td><td>-8.267778</td><td> 992.7333</td><td>95.2     </td><td>61.13333 </td><td>12.34116 </td><td>277.8667 </td><td>205.8    </td><td>271.4    </td><td>218      </td><td>9.809444 </td><td>23.30723 </td><td>1158.956 </td><td>27.22    </td><td>-14.86667</td><td>42.08667 </td><td>19.29778 </td><td>-7.033333</td></tr>\n",
       "\t<tr><td>1        </td><td>6.670833 </td><td>20.34889 </td><td>-8.267778</td><td> 992.7333</td><td>95.2     </td><td>61.13333 </td><td>12.34116 </td><td>277.8667 </td><td>205.8    </td><td>271.4    </td><td>218      </td><td>9.809444 </td><td>23.30723 </td><td>1158.956 </td><td>27.22    </td><td>-14.86667</td><td>42.08667 </td><td>19.29778 </td><td>-7.033333</td></tr>\n",
       "</tbody>\n",
       "</table>\n"
      ],
      "text/latex": [
       "\\begin{tabular}{r|llllllllllllllllllll}\n",
       " Present & bio\\_1 & bio\\_10 & bio\\_11 & bio\\_12 & bio\\_13 & bio\\_14 & bio\\_15 & bio\\_16 & bio\\_17 & bio\\_18 & bio\\_19 & bio\\_2 & bio\\_3 & bio\\_4 & bio\\_5 & bio\\_6 & bio\\_7 & bio\\_8 & bio\\_9\\\\\n",
       "\\hline\n",
       "\t 1         & 6.750000  & 20.45000  & -8.200000 &  987.0000 & 95.0      & 61.00000  & 12.84703  & 278.0000  & 202.0     & 270.0     & 218       & 9.866667  & 23.38073  & 1159.920  & 27.40     & -14.80000 & 42.20000  & 19.38333  & -6.933333\\\\\n",
       "\t 1         & 6.745833  & 20.45000  & -8.216666 & 1001.0000 & 96.0      & 62.00000  & 12.39807  & 281.0000  & 207.0     & 274.0     & 220       & 9.891666  & 23.38456  & 1160.820  & 27.40     & -14.90000 & 42.30000  & 19.40000  & -6.966667\\\\\n",
       "\t 1         & 6.745833  & 20.45000  & -8.216666 & 1001.0000 & 96.0      & 62.00000  & 12.39807  & 281.0000  & 207.0     & 274.0     & 220       & 9.891666  & 23.38456  & 1160.820  & 27.40     & -14.90000 & 42.30000  & 19.40000  & -6.966667\\\\\n",
       "\t 1         & 6.745833  & 20.45000  & -8.216666 & 1001.0000 & 96.0      & 62.00000  & 12.39807  & 281.0000  & 207.0     & 274.0     & 220       & 9.891666  & 23.38456  & 1160.820  & 27.40     & -14.90000 & 42.30000  & 19.40000  & -6.966667\\\\\n",
       "\t 1         & 6.670833  & 20.34889  & -8.267778 &  992.7333 & 95.2      & 61.13333  & 12.34116  & 277.8667  & 205.8     & 271.4     & 218       & 9.809444  & 23.30723  & 1158.956  & 27.22     & -14.86667 & 42.08667  & 19.29778  & -7.033333\\\\\n",
       "\t 1         & 6.670833  & 20.34889  & -8.267778 &  992.7333 & 95.2      & 61.13333  & 12.34116  & 277.8667  & 205.8     & 271.4     & 218       & 9.809444  & 23.30723  & 1158.956  & 27.22     & -14.86667 & 42.08667  & 19.29778  & -7.033333\\\\\n",
       "\\end{tabular}\n"
      ],
      "text/markdown": [
       "\n",
       "| Present | bio_1 | bio_10 | bio_11 | bio_12 | bio_13 | bio_14 | bio_15 | bio_16 | bio_17 | bio_18 | bio_19 | bio_2 | bio_3 | bio_4 | bio_5 | bio_6 | bio_7 | bio_8 | bio_9 |\n",
       "|---|---|---|---|---|---|---|---|---|---|---|---|---|---|---|---|---|---|---|---|\n",
       "| 1         | 6.750000  | 20.45000  | -8.200000 |  987.0000 | 95.0      | 61.00000  | 12.84703  | 278.0000  | 202.0     | 270.0     | 218       | 9.866667  | 23.38073  | 1159.920  | 27.40     | -14.80000 | 42.20000  | 19.38333  | -6.933333 |\n",
       "| 1         | 6.745833  | 20.45000  | -8.216666 | 1001.0000 | 96.0      | 62.00000  | 12.39807  | 281.0000  | 207.0     | 274.0     | 220       | 9.891666  | 23.38456  | 1160.820  | 27.40     | -14.90000 | 42.30000  | 19.40000  | -6.966667 |\n",
       "| 1         | 6.745833  | 20.45000  | -8.216666 | 1001.0000 | 96.0      | 62.00000  | 12.39807  | 281.0000  | 207.0     | 274.0     | 220       | 9.891666  | 23.38456  | 1160.820  | 27.40     | -14.90000 | 42.30000  | 19.40000  | -6.966667 |\n",
       "| 1         | 6.745833  | 20.45000  | -8.216666 | 1001.0000 | 96.0      | 62.00000  | 12.39807  | 281.0000  | 207.0     | 274.0     | 220       | 9.891666  | 23.38456  | 1160.820  | 27.40     | -14.90000 | 42.30000  | 19.40000  | -6.966667 |\n",
       "| 1         | 6.670833  | 20.34889  | -8.267778 |  992.7333 | 95.2      | 61.13333  | 12.34116  | 277.8667  | 205.8     | 271.4     | 218       | 9.809444  | 23.30723  | 1158.956  | 27.22     | -14.86667 | 42.08667  | 19.29778  | -7.033333 |\n",
       "| 1         | 6.670833  | 20.34889  | -8.267778 |  992.7333 | 95.2      | 61.13333  | 12.34116  | 277.8667  | 205.8     | 271.4     | 218       | 9.809444  | 23.30723  | 1158.956  | 27.22     | -14.86667 | 42.08667  | 19.29778  | -7.033333 |\n",
       "\n"
      ],
      "text/plain": [
       "  Present bio_1    bio_10   bio_11    bio_12    bio_13 bio_14   bio_15  \n",
       "1 1       6.750000 20.45000 -8.200000  987.0000 95.0   61.00000 12.84703\n",
       "2 1       6.745833 20.45000 -8.216666 1001.0000 96.0   62.00000 12.39807\n",
       "3 1       6.745833 20.45000 -8.216666 1001.0000 96.0   62.00000 12.39807\n",
       "4 1       6.745833 20.45000 -8.216666 1001.0000 96.0   62.00000 12.39807\n",
       "5 1       6.670833 20.34889 -8.267778  992.7333 95.2   61.13333 12.34116\n",
       "6 1       6.670833 20.34889 -8.267778  992.7333 95.2   61.13333 12.34116\n",
       "  bio_16   bio_17 bio_18 bio_19 bio_2    bio_3    bio_4    bio_5 bio_6    \n",
       "1 278.0000 202.0  270.0  218    9.866667 23.38073 1159.920 27.40 -14.80000\n",
       "2 281.0000 207.0  274.0  220    9.891666 23.38456 1160.820 27.40 -14.90000\n",
       "3 281.0000 207.0  274.0  220    9.891666 23.38456 1160.820 27.40 -14.90000\n",
       "4 281.0000 207.0  274.0  220    9.891666 23.38456 1160.820 27.40 -14.90000\n",
       "5 277.8667 205.8  271.4  218    9.809444 23.30723 1158.956 27.22 -14.86667\n",
       "6 277.8667 205.8  271.4  218    9.809444 23.30723 1158.956 27.22 -14.86667\n",
       "  bio_7    bio_8    bio_9    \n",
       "1 42.20000 19.38333 -6.933333\n",
       "2 42.30000 19.40000 -6.966667\n",
       "3 42.30000 19.40000 -6.966667\n",
       "4 42.30000 19.40000 -6.966667\n",
       "5 42.08667 19.29778 -7.033333\n",
       "6 42.08667 19.29778 -7.033333"
      ]
     },
     "metadata": {},
     "output_type": "display_data"
    }
   ],
   "source": [
    "# Afficher le dataset complet \n",
    "head(species_data_final@data)"
   ]
  },
  {
   "cell_type": "code",
   "execution_count": 56,
   "metadata": {},
   "outputs": [
    {
     "data": {
      "text/plain": [
       "    Present           bio_1           bio_10          bio_11      \n",
       " Min.   :0.0000   Min.   :5.850   Min.   :19.17   Min.   :-8.960  \n",
       " 1st Qu.:1.0000   1st Qu.:6.646   1st Qu.:20.28   1st Qu.:-8.317  \n",
       " Median :1.0000   Median :6.700   Median :20.37   Median :-8.217  \n",
       " Mean   :0.9833   Mean   :6.679   Mean   :20.33   Mean   :-8.190  \n",
       " 3rd Qu.:1.0000   3rd Qu.:6.754   3rd Qu.:20.43   3rd Qu.:-8.110  \n",
       " Max.   :1.0000   Max.   :6.875   Max.   :20.57   Max.   :-7.533  \n",
       "                  NA's   :65      NA's   :65      NA's   :65      \n",
       "     bio_12         bio_13           bio_14          bio_15     \n",
       " Min.   : 948   Min.   : 91.00   Min.   :57.00   Min.   :11.40  \n",
       " 1st Qu.: 995   1st Qu.: 95.00   1st Qu.:61.00   1st Qu.:12.68  \n",
       " Median :1007   Median : 97.00   Median :62.00   Median :12.91  \n",
       " Mean   :1006   Mean   : 97.11   Mean   :61.54   Mean   :12.94  \n",
       " 3rd Qu.:1017   3rd Qu.: 99.00   3rd Qu.:62.00   3rd Qu.:13.21  \n",
       " Max.   :1064   Max.   :102.00   Max.   :65.00   Max.   :15.31  \n",
       " NA's   :65     NA's   :65       NA's   :65      NA's   :65     \n",
       "     bio_16          bio_17          bio_18          bio_19     \n",
       " Min.   :267.0   Min.   :188.0   Min.   :261.0   Min.   :209.0  \n",
       " 1st Qu.:280.0   1st Qu.:204.0   1st Qu.:273.0   1st Qu.:217.0  \n",
       " Median :284.0   Median :206.0   Median :277.0   Median :219.0  \n",
       " Mean   :283.3   Mean   :206.1   Mean   :276.6   Mean   :219.2  \n",
       " 3rd Qu.:287.0   3rd Qu.:209.0   3rd Qu.:280.0   3rd Qu.:221.0  \n",
       " Max.   :300.0   Max.   :219.0   Max.   :295.0   Max.   :234.0  \n",
       " NA's   :65      NA's   :65      NA's   :65      NA's   :65     \n",
       "     bio_2            bio_3           bio_4          bio_5      \n",
       " Min.   : 9.102   Min.   :22.34   Min.   :1118   Min.   :25.70  \n",
       " 1st Qu.: 9.875   1st Qu.:23.50   1st Qu.:1150   1st Qu.:27.20  \n",
       " Median : 9.917   Median :23.60   Median :1158   Median :27.30  \n",
       " Mean   : 9.936   Mean   :23.60   Mean   :1155   Mean   :27.28  \n",
       " 3rd Qu.:10.025   3rd Qu.:23.73   3rd Qu.:1161   3rd Qu.:27.40  \n",
       " Max.   :10.292   Max.   :24.05   Max.   :1171   Max.   :27.60  \n",
       " NA's   :65       NA's   :65      NA's   :65     NA's   :65     \n",
       "     bio_6            bio_7           bio_8            bio_9       \n",
       " Min.   :-15.93   Min.   :40.67   Min.   : 8.501   Min.   :-8.060  \n",
       " 1st Qu.:-15.00   1st Qu.:41.90   1st Qu.:19.233   1st Qu.:-7.050  \n",
       " Median :-14.80   Median :42.20   Median :19.317   Median :-6.967  \n",
       " Mean   :-14.83   Mean   :42.11   Mean   :18.626   Mean   :-6.953  \n",
       " 3rd Qu.:-14.70   3rd Qu.:42.30   3rd Qu.:19.383   3rd Qu.:-6.817  \n",
       " Max.   :-14.20   Max.   :42.90   Max.   :20.233   Max.   :-6.483  \n",
       " NA's   :65       NA's   :65      NA's   :65       NA's   :65      "
      ]
     },
     "metadata": {},
     "output_type": "display_data"
    }
   ],
   "source": [
    "# Statistiques sur le dataset \n",
    "summary(species_data_final@data)"
   ]
  },
  {
   "cell_type": "code",
   "execution_count": 57,
   "metadata": {},
   "outputs": [
    {
     "name": "stdout",
     "output_type": "stream",
     "text": [
      "[1] \"Nombre de valeurs manquantes enlevées : 65\"\n",
      "[1] \"Nombre de variables avec zéro variance enlevées : 0\"\n"
     ]
    }
   ],
   "source": [
    "# Enlever les valeurs manquantes\n",
    "length_before_na_omit <- count(species_data_final@data)$n\n",
    "species_data_final = species_data_final[apply(species_data_final@data, FUN=function(x){!any(is.na(x))}, MARGIN=1), ]\n",
    "length_after_na_omit <- count(species_data_final@data)$n\n",
    "print(paste('Nombre de valeurs manquantes enlevées :', length_before_na_omit - length_after_na_omit))\n",
    "\n",
    "# Identifier et enlever les variables qui ont 0 de variance\n",
    "zero_variance_variables <- which(apply(species_data_final@data, 2, var) == 0)\n",
    "num_zero_var_variables <- length(zero_variance_variables)\n",
    "print(paste('Nombre de variables avec zéro variance enlevées :', num_zero_var_variables))\n",
    "if (num_zero_var_variables > 0){\n",
    "    print(paste('Attribut supprimés', colnames(species_data_final@data[as.numeric(zero_variance_variables)])))\n",
    "    species_data_final@data <- species_data_final@data[ -as.numeric(zero_variance_variables)]\n",
    "}"
   ]
  },
  {
   "cell_type": "markdown",
   "metadata": {},
   "source": [
    "Les attributs corréllés entre eux n'apportent pas d'information supplémentaires. Pour les faire ressortir nous pouvons utiliser une matrice de correlation. "
   ]
  },
  {
   "cell_type": "code",
   "execution_count": 58,
   "metadata": {},
   "outputs": [
    {
     "data": {
      "image/png": "[encoded data removed]",
      "text/plain": [
       "Plot with title \"\""
      ]
     },
     "metadata": {},
     "output_type": "display_data"
    }
   ],
   "source": [
    "# Afficher la matrice de corrélation\n",
    "cor_matrix <- cor(species_data_final@data)\n",
    "corrplot(cor_matrix, method=\"color\", tl.cex=.5, tl.col=\"black\")"
   ]
  },
  {
   "cell_type": "markdown",
   "metadata": {},
   "source": [
    "Pour éliminer les variables corrélés, nous utilisons généralement un seuil de **coefficient de correlation de Pearson**, au delà duquel une des deux variables corrélés dans la matrice est éliminée. Pour choisir ce seuil, faisons d'abord des statistiques simples montrant le nombre d'attributs supprimés en prenant en considération des seuils différents : "
   ]
  },
  {
   "cell_type": "code",
   "execution_count": 59,
   "metadata": {},
   "outputs": [
    {
     "name": "stdout",
     "output_type": "stream",
     "text": [
      "[1] \"Coefficient de Pearson (valeur absolue) : 0.7 - Nombre d'attributs supprimés :13/20\"\n",
      "[1] \"Coefficient de Pearson (valeur absolue) : 0.8 - Nombre d'attributs supprimés :11/20\"\n",
      "[1] \"Coefficient de Pearson (valeur absolue) : 0.9 - Nombre d'attributs supprimés :7/20\"\n",
      "[1] \"Coefficient de Pearson (valeur absolue) : 0.99 - Nombre d'attributs supprimés :0/20\"\n"
     ]
    }
   ],
   "source": [
    "# Eliminer le triangle supérieur de la matrice de correlation (car elle est symetrique)\n",
    "cor_matrix[upper.tri(cor_matrix)] <- 0\n",
    "\n",
    "# Fixer les valeurs dans la diagonale car les variables avec elles-mêmes ont un coefficient de 1\n",
    "diag(cor_matrix) <- 0\n",
    "                                                                     \n",
    "# Faire des statistiques sur la corrélation des attributs\n",
    "thresholds <- c(0.7, 0.8, 0.9, 0.99)\n",
    "for (threshold in thresholds) {\n",
    "    # Créer un dataset avec les attributs corréllés supprimés\n",
    "    len_before_cleaning <- length(species_data_final@data)\n",
    "    cleaned_dataset <- species_data_final@data[, !apply(cor_matrix, 2, function(x) any(abs(x) > threshold))]\n",
    "    len_after_cleaning <- length(cleaned_dataset)\n",
    "    \n",
    "    # Afficher le nombre d'attributs supprimés dans ce nouveau dataset\n",
    "    print(paste(\"Coefficient de Pearson (valeur absolue) : \", threshold, \n",
    "                \" - Nombre d'attributs supprimés :\", \n",
    "                len_before_cleaning - len_after_cleaning, \"/\", len_before_cleaning, sep=\"\"))\n",
    "}"
   ]
  },
  {
   "cell_type": "markdown",
   "metadata": {},
   "source": [
    "Nous continuerons l'entrainement avec un seuil de coefficient de **0.9**."
   ]
  },
  {
   "cell_type": "code",
   "execution_count": 60,
   "metadata": {},
   "outputs": [],
   "source": [
    "species_data_final@data <- species_data_final@data[, !apply(cor_matrix, 2, function(x) any(abs(x) > 0.9))]"
   ]
  },
  {
   "cell_type": "markdown",
   "metadata": {},
   "source": [
    "Nous allons maintenant vérifier si nous avons beaucoup de redondance dans nos enregistrements, pour ce faire, il suffit de faire ressortir les enregistrements dupliqués : "
   ]
  },
  {
   "cell_type": "code",
   "execution_count": 61,
   "metadata": {},
   "outputs": [
    {
     "name": "stdout",
     "output_type": "stream",
     "text": [
      "[1] \"Nombre d'enregistrements uniques en incluant les classes : 1026 / 33543\"\n",
      "[1] \"Nombre d'enregistrements uniques sans les classes : 991 / 33543\"\n",
      "[1] \"==== Nombre d'enregistrements uniques par classe ====\"\n",
      "[1] \"Present = 1 : 477\"\n",
      "[1] \"Present = 0 : 549\"\n"
     ]
    }
   ],
   "source": [
    "# Compter le nombre d'enregistrements uniques dans le dataset\n",
    "length_sp_data <- count(species_data_final@data)\n",
    "print(paste(\"Nombre d'enregistrements uniques en incluant les classes :\", count(species_data_final@data %>% distinct())$n, \n",
    "            \"/\", length_sp_data))\n",
    "\n",
    "# Compter le nombre d'enregistrements sans la valeur cible \n",
    "print(paste(\"Nombre d'enregistrements uniques sans les classes :\",\n",
    "      count(species_data_final@data[2:length(species_data_final@data)] %>% distinct())$n, \n",
    "           \"/\", length_sp_data))\n",
    "\n",
    "# Compter le nombre d'enregistrements par classes\n",
    "print(\"==== Nombre d'enregistrements uniques par classe ====\")\n",
    "print(paste(\"Present = 1 :\", count(species_data_final@data[species_data_final@data$Present == 1, ] %>% distinct())$n))\n",
    "print(paste(\"Present = 0 :\", count(species_data_final@data[species_data_final@data$Present == 0, ] %>% distinct())$n))"
   ]
  },
  {
   "cell_type": "markdown",
   "metadata": {},
   "source": [
    "Nous avons beaucoup d'enregistrements dupliqués dans le dataset, c'est normal, car cela dépend de la précision de la carte des données climatiques. \n",
    "\n",
    "Nous allons enlever les données dupliqués, ce qui va massivement réduire le nombre d'informations superflues et accélerer l'entrainement. Cela sert aussi de sous-echantillonage, ce qui limite l'impact du biais d'echantillonage."
   ]
  },
  {
   "cell_type": "markdown",
   "metadata": {},
   "source": [
    "## 3. Entrainement des modèles\n",
    "Dans ce projet, il sera question d'utiliser un algorithme de Machine Learning, à savoir le **Random Forest**."
   ]
  },
  {
   "cell_type": "markdown",
   "metadata": {},
   "source": [
    "### 3.1 - Séparation des données\n",
    "La séparation des données de test se fera à l'aide de la technique dite de la **Block Cross Validation**.\n",
    "\n",
    "La block cross validation est une technique de séparation des données qui consiste à prendre en considération la position des données dans l'espace (ou le temps).\n",
    "\n",
    "Par exemple, une stratégie de block cross validation consiste à séparer l'espace en blocs de même taille à la manière d'une grille, chaque bloc sera alors numéroté de 1 jusqu'à k (le nombre de *folds*), puis les blocs ayant le même numéro seront regroupé dans un *fold*. Le but de cette stratégie est de prendre nos données à partir d'endroits relativement eloignés, comme l'illustre cette figure : \n",
    "\n",
    "<img src=\"https://besjournals.onlinelibrary.wiley.com/cms/asset/58e88b81-cd83-44b0-b6ed-f4bafd1c9f45/mee313107-fig-0002-m.png\n",
    "          \"/>\n",
    "\n",
    "Ces techniques de validation croisée sont implémentés dans le package **blockCV** du langage R. "
   ]
  },
  {
   "cell_type": "code",
   "execution_count": 63,
   "metadata": {},
   "outputs": [
    {
     "name": "stderr",
     "output_type": "stream",
     "text": [
      "Warning message in rasterNet(speciesData, resolution = theRange, xbin = cols, ybin = rows, :\n",
      " Progress [===================================================] 100% in 18st is assumed to have an un-projected reference system\"\n"
     ]
    },
    {
     "name": "stdout",
     "output_type": "stream",
     "text": [
      "The best folds was in iteration 19:\n",
      "  train_0 train_1 test_0 test_1\n",
      "1     438     369    111    108\n",
      "2     452     378     97     99\n",
      "3     418     387    131     90\n",
      "4     460     380     89     97\n",
      "5     428     394    121     83\n"
     ]
    },
    {
     "data": {
      "text/plain": [
       "[1] \"SpatialBlock\""
      ]
     },
     "metadata": {},
     "output_type": "display_data"
    },
    {
     "data": {
      "image/png": "[encoded data removed]",
      "text/plain": [
       "plot without title"
      ]
     },
     "metadata": {},
     "output_type": "display_data"
    }
   ],
   "source": [
    "# Définir le CRS du dataset (pour éviter une erreur de BlockCV)\n",
    "crs(climate_raster) <- NA\n",
    "crs(species_data_final_trimmed) <- NA\n",
    "\n",
    "# Stratégie de block spatiaux \n",
    "folds <- spatialBlock(speciesData = species_data_final_trimmed, # Données d'occurrence\n",
    "                   species = \"Present\", # La colonne cible (la classe)\n",
    "                   theRange = 5000, # Taille des blocks (en m)\n",
    "                   k = 5, # Nombre de folds\n",
    "                   # rasterLayer = climate_raster, # a raster for background (optional)\n",
    "                   selection = \"random\", # Selection aléatoires de blocs \n",
    "                   iteration = 100, # Nombre d'itérations avant de trouver les blocs optimaux (bonne distribution des données)\n",
    "                   biomod2Format = FALSE)\n",
    "\n",
    "folds"
   ]
  },
  {
   "cell_type": "markdown",
   "metadata": {},
   "source": [
    "### 3.2 - Entrainement du modèle\n",
    "\n",
    "Maintenant la séparation faite, nous pouvons entrainer notre modèle : le Random Forest. \n",
    "\n",
    "Pour ce faire, nous allons entrainer un modèle sur chaque fold de notre cross validation, puis afficher les résultats et les moyennes des métriques de chaque modèle. Les métriques utilisés seront **l'accuracy**, **le coefficient de Kappa**, **l'aire sous la courbe ROC (AUROC)** et enfin **le No Information Rate** :"
   ]
  },
  {
   "cell_type": "code",
   "execution_count": 64,
   "metadata": {},
   "outputs": [
    {
     "name": "stdout",
     "output_type": "stream",
     "text": [
      "mtry = 3  OOB error = 14.13% \n",
      "Searching left ...\n",
      "mtry = 2 \tOOB error = 13.88% \n",
      "0.01754386 1e-06 \n",
      "mtry = 1 \tOOB error = 13.88% \n",
      "0 1e-06 \n",
      "Searching right ...\n",
      "mtry = 6 \tOOB error = 13.51% \n",
      "0.02678571 1e-06 \n",
      "mtry = 12 \tOOB error = 13.75% \n",
      "-0.01834862 1e-06 \n",
      "mtry = 3  OOB error = 14.82% \n",
      "Searching left ...\n",
      "mtry = 2 \tOOB error = 14.34% \n",
      "0.03252033 1e-06 \n",
      "mtry = 1 \tOOB error = 15.3% \n",
      "-0.06722689 1e-06 \n",
      "Searching right ...\n",
      "mtry = 6 \tOOB error = 14.7% \n",
      "-0.02521008 1e-06 \n"
     ]
    },
    {
     "data": {
      "image/png": "[encoded data removed]",
      "text/plain": [
       "plot without title"
      ]
     },
     "metadata": {},
     "output_type": "display_data"
    },
    {
     "name": "stdout",
     "output_type": "stream",
     "text": [
      "mtry = 3  OOB error = 18.26% \n",
      "Searching left ...\n",
      "mtry = 2 \tOOB error = 18.01% \n",
      "0.01360544 1e-06 \n",
      "mtry = 1 \tOOB error = 18.63% \n",
      "-0.03448276 1e-06 \n",
      "Searching right ...\n",
      "mtry = 6 \tOOB error = 17.64% \n",
      "0.02068966 1e-06 \n",
      "mtry = 12 \tOOB error = 19.13% \n",
      "-0.08450704 1e-06 \n"
     ]
    },
    {
     "data": {
      "image/png": "[encoded data removed]",
      "text/plain": [
       "plot without title"
      ]
     },
     "metadata": {},
     "output_type": "display_data"
    },
    {
     "name": "stdout",
     "output_type": "stream",
     "text": [
      "mtry = 3  OOB error = 15.12% \n",
      "Searching left ...\n",
      "mtry = 2 \tOOB error = 15.36% \n",
      "-0.01574803 1e-06 \n",
      "Searching right ...\n",
      "mtry = 6 \tOOB error = 15.12% \n",
      "0 1e-06 \n"
     ]
    },
    {
     "data": {
      "image/png": "[encoded data removed]",
      "text/plain": [
       "plot without title"
      ]
     },
     "metadata": {},
     "output_type": "display_data"
    },
    {
     "name": "stdout",
     "output_type": "stream",
     "text": [
      "mtry = 3  OOB error = 16.91% \n",
      "Searching left ...\n",
      "mtry = 2 \tOOB error = 17.03% \n",
      "-0.007194245 1e-06 \n",
      "Searching right ...\n",
      "mtry = 6 \tOOB error = 17.64% \n",
      "-0.04316547 1e-06 \n"
     ]
    },
    {
     "data": {
      "image/png": "[encoded data removed]",
      "text/plain": [
       "plot without title"
      ]
     },
     "metadata": {},
     "output_type": "display_data"
    },
    {
     "data": {
      "image/png": "[encoded data removed]",
      "text/plain": [
       "plot without title"
      ]
     },
     "metadata": {},
     "output_type": "display_data"
    }
   ],
   "source": [
    "# Métriques \n",
    "# --- Entrainement ----\n",
    "train_accuracy <- numeric(length(folds$folds))\n",
    "train_kappa <- numeric(length(folds$folds))\n",
    "train_auc <- numeric(length(folds$folds))\n",
    "train_f1_measure <- numeric(length(folds$folds))\n",
    "train_no_information_rate <- numeric(length(folds$folds))\n",
    "\n",
    "# --- Test ----\n",
    "accuracy <- numeric(length(folds$folds))\n",
    "kappa <- numeric(length(folds$folds))\n",
    "auc <- numeric(length(folds$folds))\n",
    "f1_measure <- numeric(length(folds$folds))\n",
    "no_information_rate <- numeric(length(folds$folds))\n",
    "\n",
    "# Modèles et predictions\n",
    "rf <- vector(\"list\", (length(folds$folds)))\n",
    "# predictions <- vector(\"list\", (length(folds$folds)))\n",
    "\n",
    "# Pour chaque fold...\n",
    "for (i in 1:length(folds$folds)){\n",
    "    fold <- folds$folds[[i]]\n",
    "    \n",
    "    # Extraire les données d'entrainement\n",
    "    xy_train <- species_data_final_trimmed[fold[1][[1]], ]@data\n",
    "    y_train <- xy_train$Present\n",
    "    x_train <- xy_train[2:length(colnames(xy_train))]\n",
    "    \n",
    "    # Extraire les données de test\n",
    "    xy_test <- species_data_final_trimmed[fold[2][[1]], ]@data\n",
    "    \n",
    "    # Entrainer le modèle Random Forest (paramètres par défault)\n",
    "    # sdm_rf <- randomForest(x_train, as.factor(y_train))\n",
    "    sdm_rf <- tuneRF(x_train, as.factor(y_train), stepFactor=2, plot=FALSE, trace=FALSE,\n",
    "                     improve=1e-6, ntree=501, doBest=TRUE) \n",
    "    rf[[i]] <- sdm_rf\n",
    "    \n",
    "    # ===== METRIQUES ======\n",
    "    # Nous utilisons la fonction confusionMatrix de Caret \n",
    "    # pour obtenir les metriques suivantes : accuracy, kappa et no_information_rate\n",
    "    \n",
    "    # ------ ENTRAINEMENT ------\n",
    "    prediction <- predict(sdm_rf, xy_train)\n",
    "    \n",
    "    # Accuracy / Kappa / NIR / F-Measure\n",
    "    cm <- confusionMatrix(as.factor(xy_train$Present), as.factor(prediction))\n",
    "    overall <- cm[3][[1]]\n",
    "    train_accuracy[i] <- overall[1]\n",
    "    train_kappa[i] <- overall[2]\n",
    "    train_no_information_rate[i] <- overall[5]\n",
    "    \n",
    "    byClass <- cm[4][[1]]\n",
    "    train_f1_measure[i] <- byClass[7]\n",
    "    \n",
    "    # AUC\n",
    "    rf_p_train <- predict(sdm_rf, type=\"prob\", newdata=xy_train)[,2]\n",
    "    rf_pr_train <- prediction(rf_p_train, as.factor(xy_train$Present))\n",
    "    train_auc[i] <- performance(rf_pr_train, measure = \"auc\")@y.values[[1]] \n",
    "    \n",
    "    # ----- TEST ------\n",
    "    prediction <- predict(sdm_rf, xy_test)\n",
    "    \n",
    "    cm <- confusionMatrix(as.factor(xy_test$Present), as.factor(prediction))\n",
    "    overall <- cm[3][[1]]\n",
    "    accuracy[i] <- overall[1]\n",
    "    kappa[i] <- overall[2]\n",
    "    no_information_rate[i] <- overall[5]\n",
    "    \n",
    "    byClass <- cm[4][[1]]\n",
    "    f1_measure[i] <- byClass[7]\n",
    "    \n",
    "    # Calculer l'AUC\n",
    "    rf_p_train <- predict(sdm_rf, type=\"prob\", newdata=xy_test)[,2]\n",
    "    rf_pr_train <- prediction(rf_p_train, as.factor(xy_test$Present))\n",
    "    auc[i] <- performance(rf_pr_train, measure = \"auc\")@y.values[[1]]\n",
    "}"
   ]
  },
  {
   "cell_type": "markdown",
   "metadata": {},
   "source": [
    "Maintenant que les modèles ont été entrainés, il est temps de faire d'afficher les résultats. "
   ]
  },
  {
   "cell_type": "code",
   "execution_count": 67,
   "metadata": {},
   "outputs": [
    {
     "name": "stdout",
     "output_type": "stream",
     "text": [
      "\n",
      "===== STATISTIQUES DES MODELES =====\n"
     ]
    },
    {
     "data": {
      "text/html": [
       "<table>\n",
       "<thead><tr><th scope=col>Train_Accuracy</th><th scope=col>Train_Kappa</th><th scope=col>Train_NIR</th><th scope=col>Train_Auc</th><th scope=col>Train_F1_Measure</th><th scope=col>Accuracy</th><th scope=col>Kappa</th><th scope=col>No_Information_Rate</th><th scope=col>Auc</th><th scope=col>F1_Measure</th></tr></thead>\n",
       "<tbody>\n",
       "\t<tr><td>0.9702602</td><td>0.9400568</td><td>0.5452292</td><td>0.9982181</td><td>0.9726651</td><td>0.7716895</td><td>0.5431790</td><td>0.5159817</td><td>0.8054721</td><td>0.7767857</td></tr>\n",
       "\t<tr><td>0.9662651</td><td>0.9316044</td><td>0.5759036</td><td>0.9976354</td><td>0.9698925</td><td>0.6938776</td><td>0.3856441</td><td>0.6683673</td><td>0.7895970</td><td>0.6296296</td></tr>\n",
       "\t<tr><td>0.9627329</td><td>0.9251543</td><td>0.5540373</td><td>0.9972182</td><td>0.9652778</td><td>0.8280543</td><td>0.6256241</td><td>0.7194570</td><td>0.9385920</td><td>0.8689655</td></tr>\n",
       "\t<tr><td>0.9726190</td><td>0.9444700</td><td>0.5726190</td><td>0.9983953</td><td>0.9755579</td><td>0.6827957</td><td>0.3641210</td><td>0.5268817</td><td>0.7467856</td><td>0.6666667</td></tr>\n",
       "\t<tr><td>0.9622871</td><td>0.9243763</td><td>0.5316302</td><td>0.9971506</td><td>0.9641618</td><td>0.7892157</td><td>0.5641026</td><td>0.5882353</td><td>0.8383949</td><td>0.8215768</td></tr>\n",
       "</tbody>\n",
       "</table>\n"
      ],
      "text/latex": [
       "\\begin{tabular}{r|llllllllll}\n",
       " Train\\_Accuracy & Train\\_Kappa & Train\\_NIR & Train\\_Auc & Train\\_F1\\_Measure & Accuracy & Kappa & No\\_Information\\_Rate & Auc & F1\\_Measure\\\\\n",
       "\\hline\n",
       "\t 0.9702602 & 0.9400568 & 0.5452292 & 0.9982181 & 0.9726651 & 0.7716895 & 0.5431790 & 0.5159817 & 0.8054721 & 0.7767857\\\\\n",
       "\t 0.9662651 & 0.9316044 & 0.5759036 & 0.9976354 & 0.9698925 & 0.6938776 & 0.3856441 & 0.6683673 & 0.7895970 & 0.6296296\\\\\n",
       "\t 0.9627329 & 0.9251543 & 0.5540373 & 0.9972182 & 0.9652778 & 0.8280543 & 0.6256241 & 0.7194570 & 0.9385920 & 0.8689655\\\\\n",
       "\t 0.9726190 & 0.9444700 & 0.5726190 & 0.9983953 & 0.9755579 & 0.6827957 & 0.3641210 & 0.5268817 & 0.7467856 & 0.6666667\\\\\n",
       "\t 0.9622871 & 0.9243763 & 0.5316302 & 0.9971506 & 0.9641618 & 0.7892157 & 0.5641026 & 0.5882353 & 0.8383949 & 0.8215768\\\\\n",
       "\\end{tabular}\n"
      ],
      "text/markdown": [
       "\n",
       "| Train_Accuracy | Train_Kappa | Train_NIR | Train_Auc | Train_F1_Measure | Accuracy | Kappa | No_Information_Rate | Auc | F1_Measure |\n",
       "|---|---|---|---|---|---|---|---|---|---|\n",
       "| 0.9702602 | 0.9400568 | 0.5452292 | 0.9982181 | 0.9726651 | 0.7716895 | 0.5431790 | 0.5159817 | 0.8054721 | 0.7767857 |\n",
       "| 0.9662651 | 0.9316044 | 0.5759036 | 0.9976354 | 0.9698925 | 0.6938776 | 0.3856441 | 0.6683673 | 0.7895970 | 0.6296296 |\n",
       "| 0.9627329 | 0.9251543 | 0.5540373 | 0.9972182 | 0.9652778 | 0.8280543 | 0.6256241 | 0.7194570 | 0.9385920 | 0.8689655 |\n",
       "| 0.9726190 | 0.9444700 | 0.5726190 | 0.9983953 | 0.9755579 | 0.6827957 | 0.3641210 | 0.5268817 | 0.7467856 | 0.6666667 |\n",
       "| 0.9622871 | 0.9243763 | 0.5316302 | 0.9971506 | 0.9641618 | 0.7892157 | 0.5641026 | 0.5882353 | 0.8383949 | 0.8215768 |\n",
       "\n"
      ],
      "text/plain": [
       "  Train_Accuracy Train_Kappa Train_NIR Train_Auc Train_F1_Measure Accuracy \n",
       "1 0.9702602      0.9400568   0.5452292 0.9982181 0.9726651        0.7716895\n",
       "2 0.9662651      0.9316044   0.5759036 0.9976354 0.9698925        0.6938776\n",
       "3 0.9627329      0.9251543   0.5540373 0.9972182 0.9652778        0.8280543\n",
       "4 0.9726190      0.9444700   0.5726190 0.9983953 0.9755579        0.6827957\n",
       "5 0.9622871      0.9243763   0.5316302 0.9971506 0.9641618        0.7892157\n",
       "  Kappa     No_Information_Rate Auc       F1_Measure\n",
       "1 0.5431790 0.5159817           0.8054721 0.7767857 \n",
       "2 0.3856441 0.6683673           0.7895970 0.6296296 \n",
       "3 0.6256241 0.7194570           0.9385920 0.8689655 \n",
       "4 0.3641210 0.5268817           0.7467856 0.6666667 \n",
       "5 0.5641026 0.5882353           0.8383949 0.8215768 "
      ]
     },
     "metadata": {},
     "output_type": "display_data"
    },
    {
     "name": "stdout",
     "output_type": "stream",
     "text": [
      "\n",
      "===== MOYENNES =====\n",
      "\n",
      "--- Entrainement ----\n",
      "\n",
      "[1] \"Moyenne accuracy (entrainement): 0.9668%\"\n",
      "[1] \"Moyenne kappa (entrainement) : 0.9331%\"\n",
      "[1] \"Moyenne AUC (entrainement): 0.9977%\"\n",
      "[1] \"Moyenne NIR (entrainement): 0.5559%\"\n",
      "\n",
      "--- Test ----\n",
      "\n",
      "[1] \"Moyenne accuracy (test): 0.7531%\"\n",
      "[1] \"Moyenne kappa (test) : 0.4965%\"\n",
      "[1] \"Moyenne AUC (test): 0.8238%\"\n",
      "[1] \"Moyenne NIR (test): 0.6038%\"\n",
      "\n",
      "\n",
      "===== STATISTIQUES COMPLETES =====\n"
     ]
    },
    {
     "data": {
      "text/plain": [
       " Train_Accuracy    Train_Kappa       Train_NIR        Train_Auc     \n",
       " Min.   :0.9623   Min.   :0.9244   Min.   :0.5316   Min.   :0.9972  \n",
       " 1st Qu.:0.9627   1st Qu.:0.9252   1st Qu.:0.5452   1st Qu.:0.9972  \n",
       " Median :0.9663   Median :0.9316   Median :0.5540   Median :0.9976  \n",
       " Mean   :0.9668   Mean   :0.9331   Mean   :0.5559   Mean   :0.9977  \n",
       " 3rd Qu.:0.9703   3rd Qu.:0.9401   3rd Qu.:0.5726   3rd Qu.:0.9982  \n",
       " Max.   :0.9726   Max.   :0.9445   Max.   :0.5759   Max.   :0.9984  \n",
       " Train_F1_Measure    Accuracy          Kappa        No_Information_Rate\n",
       " Min.   :0.9642   Min.   :0.6828   Min.   :0.3641   Min.   :0.5160     \n",
       " 1st Qu.:0.9653   1st Qu.:0.6939   1st Qu.:0.3856   1st Qu.:0.5269     \n",
       " Median :0.9699   Median :0.7717   Median :0.5432   Median :0.5882     \n",
       " Mean   :0.9695   Mean   :0.7531   Mean   :0.4965   Mean   :0.6038     \n",
       " 3rd Qu.:0.9727   3rd Qu.:0.7892   3rd Qu.:0.5641   3rd Qu.:0.6684     \n",
       " Max.   :0.9756   Max.   :0.8281   Max.   :0.6256   Max.   :0.7195     \n",
       "      Auc           F1_Measure    \n",
       " Min.   :0.7468   Min.   :0.6296  \n",
       " 1st Qu.:0.7896   1st Qu.:0.6667  \n",
       " Median :0.8055   Median :0.7768  \n",
       " Mean   :0.8238   Mean   :0.7527  \n",
       " 3rd Qu.:0.8384   3rd Qu.:0.8216  \n",
       " Max.   :0.9386   Max.   :0.8690  "
      ]
     },
     "metadata": {},
     "output_type": "display_data"
    }
   ],
   "source": [
    "# Data frame contenant les statistiques de nos modèles\n",
    "model_stats = data.frame(\n",
    "    Train_Accuracy=train_accuracy, \n",
    "    Train_Kappa=train_kappa, \n",
    "    Train_NIR=train_no_information_rate,\n",
    "    Train_Auc=train_auc, \n",
    "    Train_F1_Measure=train_f1_measure,\n",
    "    Accuracy=accuracy, \n",
    "    Kappa=kappa, \n",
    "    No_Information_Rate=no_information_rate,\n",
    "    Auc=auc,\n",
    "    F1_Measure=f1_measure\n",
    ")\n",
    "\n",
    "cat('\\n===== STATISTIQUES DES MODELES =====\\n')\n",
    "head(model_stats)\n",
    "\n",
    "# Afficher les moyennes des metriques\n",
    "cat('\\n===== MOYENNES =====\\n')\n",
    "\n",
    "cat('\\n--- Entrainement ----\\n\\n')\n",
    "print(paste('Moyenne accuracy (entrainement): ', as.character(format(round(mean(model_stats$Train_Accuracy), 4), nsmall = 4)), \n",
    "            \"%\", sep=\"\"))\n",
    "print(paste('Moyenne kappa (entrainement) : ', as.character(format(round(mean(model_stats$Train_Kappa), 4), nsmall = 4)), \n",
    "            \"%\", sep=\"\"))\n",
    "print(paste('Moyenne AUC (entrainement): ', as.character(format(round(mean(model_stats$Train_Auc), 4), nsmall = 4)), \n",
    "            \"%\", sep=\"\"))\n",
    "print(paste('Moyenne NIR (entrainement): ', as.character(format(round(mean(model_stats$Train_NIR), 4), \n",
    "                                                                nsmall = 4)), \"%\", sep=\"\"))\n",
    "\n",
    "cat('\\n--- Test ----\\n\\n')\n",
    "print(paste('Moyenne accuracy (test): ', as.character(format(round(mean(model_stats$Accuracy), 4), nsmall = 4)), \"%\", sep=\"\"))\n",
    "print(paste('Moyenne kappa (test) : ', as.character(format(round(mean(model_stats$Kappa), 4), nsmall = 4)), \"%\", sep=\"\"))\n",
    "print(paste('Moyenne AUC (test): ', as.character(format(round(mean(model_stats$Auc), 4), nsmall = 4)), \"%\", sep=\"\"))\n",
    "print(paste('Moyenne NIR (test): ', as.character(format(round(mean(model_stats$No_Information_Rate), 4), nsmall = 4)), \n",
    "            \"%\", sep=\"\"))\n",
    "\n",
    "# Statistiques complètes\n",
    "cat(\"\\n\\n===== STATISTIQUES COMPLETES =====\\n\")\n",
    "summary(model_stats)"
   ]
  },
  {
   "cell_type": "markdown",
   "metadata": {},
   "source": [
    "### 3.3 - Interprétation des résultats\n",
    "\n",
    "Le taux d'exactitude au dessus de **75%** est relativement satisfaisant, mais il faut surtout se concentrer sur les autres métriques. \n",
    "\n",
    "L'AUC, une métrique indépendante du seuil de classification, montre un résultat satisfaisant. Il dépasse de **7%** notre taux d'exactitude, ce qui peut laisser penser que le seuil de classification (par défaut à 0.5) pourrait être mieux choisi pour obtenir des meilleures performances.\n",
    "\n",
    "Le coefficient de **0.5** Kappa montre que l'impact de l'imbalance dans les données est réduit, l'éxactitude est donc bien supérieure au hasard.\n",
    "\n",
    "Pour confirmer cela, le no information rate représente la référence, à savoir le taux d'exactitude si on devinait au hasard, et on remarque que bien qu'il est au dessus de la moyenne (c'est normal, car les deux classes ne sont pas parfaitement distribuées), l'exactitude de notre modèle est plus grande."
   ]
  },
  {
   "cell_type": "markdown",
   "metadata": {},
   "source": [
    "### 4 - Conclusion\n",
    "\n",
    "Le processus de création d'un modèle de distribution d'espèce peut s'avérer compliqué si l'on prend pas en considération certains éléments comme l'autocorrélation spatiale ou l'imbalance des données. Cependant, les étapes décrites dans ce notebook ont permi d'atteindre un résultat satisfaisant, et ce même sur la petite région de la ville de Montreal (qui dispose de moins de données climatiques). \n",
    "\n",
    "Ce processus peut être amélioré :\n",
    "- En entrainant plusieurs modèles à la fois et utiliser leurs prédictions (principe de l'outil BIOMOD)\n",
    "- En approfondissant la recherche d'hyperparamètres associés à chaque modèle\n",
    "- En gérant d'une meilleure façon la génération de pseudo-absences\n"
   ]
  }
 ],
 "metadata": {
  "kernelspec": {
   "display_name": "R",
   "language": "R",
   "name": "ir"
  },
  "language_info": {
   "codemirror_mode": "r",
   "file_extension": ".r",
   "mimetype": "text/x-r-source",
   "name": "R",
   "pygments_lexer": "r",
   "version": "3.6.1"
  }
 },
 "nbformat": 4,
 "nbformat_minor": 4
}
